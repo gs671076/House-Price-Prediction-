{
 "cells": [
  {
   "cell_type": "markdown",
   "metadata": {},
   "source": [
    "## House Price Predictor\n"
   ]
  },
  {
   "cell_type": "code",
   "execution_count": 51,
   "metadata": {},
   "outputs": [],
   "source": [
    "import pandas as pd\n",
    "import numpy as np\n",
    "housing=pd.read_csv(\"Train.csv\")"
   ]
  },
  {
   "cell_type": "code",
   "execution_count": 52,
   "metadata": {},
   "outputs": [
    {
     "data": {
      "text/html": [
       "<div>\n",
       "<style scoped>\n",
       "    .dataframe tbody tr th:only-of-type {\n",
       "        vertical-align: middle;\n",
       "    }\n",
       "\n",
       "    .dataframe tbody tr th {\n",
       "        vertical-align: top;\n",
       "    }\n",
       "\n",
       "    .dataframe thead th {\n",
       "        text-align: right;\n",
       "    }\n",
       "</style>\n",
       "<table border=\"1\" class=\"dataframe\">\n",
       "  <thead>\n",
       "    <tr style=\"text-align: right;\">\n",
       "      <th></th>\n",
       "      <th>POSTED_BY</th>\n",
       "      <th>UNDER_CONSTRUCTION</th>\n",
       "      <th>RERA</th>\n",
       "      <th>BHK_NO.</th>\n",
       "      <th>BHK_OR_RK</th>\n",
       "      <th>SQUARE_FT</th>\n",
       "      <th>READY_TO_MOVE</th>\n",
       "      <th>RESALE</th>\n",
       "      <th>ADDRESS</th>\n",
       "      <th>LONGITUDE</th>\n",
       "      <th>LATITUDE</th>\n",
       "      <th>TARGET(PRICE_IN_LACS)</th>\n",
       "    </tr>\n",
       "  </thead>\n",
       "  <tbody>\n",
       "    <tr>\n",
       "      <th>0</th>\n",
       "      <td>Owner</td>\n",
       "      <td>0</td>\n",
       "      <td>0</td>\n",
       "      <td>2</td>\n",
       "      <td>BHK</td>\n",
       "      <td>1300.236407</td>\n",
       "      <td>1</td>\n",
       "      <td>1</td>\n",
       "      <td>Ksfc Layout,Bangalore</td>\n",
       "      <td>12.969910</td>\n",
       "      <td>77.597960</td>\n",
       "      <td>55.0</td>\n",
       "    </tr>\n",
       "    <tr>\n",
       "      <th>1</th>\n",
       "      <td>Dealer</td>\n",
       "      <td>0</td>\n",
       "      <td>0</td>\n",
       "      <td>2</td>\n",
       "      <td>BHK</td>\n",
       "      <td>1275.000000</td>\n",
       "      <td>1</td>\n",
       "      <td>1</td>\n",
       "      <td>Vishweshwara Nagar,Mysore</td>\n",
       "      <td>12.274538</td>\n",
       "      <td>76.644605</td>\n",
       "      <td>51.0</td>\n",
       "    </tr>\n",
       "    <tr>\n",
       "      <th>2</th>\n",
       "      <td>Owner</td>\n",
       "      <td>0</td>\n",
       "      <td>0</td>\n",
       "      <td>2</td>\n",
       "      <td>BHK</td>\n",
       "      <td>933.159722</td>\n",
       "      <td>1</td>\n",
       "      <td>1</td>\n",
       "      <td>Jigani,Bangalore</td>\n",
       "      <td>12.778033</td>\n",
       "      <td>77.632191</td>\n",
       "      <td>43.0</td>\n",
       "    </tr>\n",
       "    <tr>\n",
       "      <th>3</th>\n",
       "      <td>Owner</td>\n",
       "      <td>0</td>\n",
       "      <td>1</td>\n",
       "      <td>2</td>\n",
       "      <td>BHK</td>\n",
       "      <td>929.921143</td>\n",
       "      <td>1</td>\n",
       "      <td>1</td>\n",
       "      <td>Sector-1 Vaishali,Ghaziabad</td>\n",
       "      <td>28.642300</td>\n",
       "      <td>77.344500</td>\n",
       "      <td>62.5</td>\n",
       "    </tr>\n",
       "    <tr>\n",
       "      <th>4</th>\n",
       "      <td>Dealer</td>\n",
       "      <td>1</td>\n",
       "      <td>0</td>\n",
       "      <td>2</td>\n",
       "      <td>BHK</td>\n",
       "      <td>999.009247</td>\n",
       "      <td>0</td>\n",
       "      <td>1</td>\n",
       "      <td>New Town,Kolkata</td>\n",
       "      <td>22.592200</td>\n",
       "      <td>88.484911</td>\n",
       "      <td>60.5</td>\n",
       "    </tr>\n",
       "  </tbody>\n",
       "</table>\n",
       "</div>"
      ],
      "text/plain": [
       "  POSTED_BY  UNDER_CONSTRUCTION  RERA  BHK_NO. BHK_OR_RK    SQUARE_FT  \\\n",
       "0     Owner                   0     0        2       BHK  1300.236407   \n",
       "1    Dealer                   0     0        2       BHK  1275.000000   \n",
       "2     Owner                   0     0        2       BHK   933.159722   \n",
       "3     Owner                   0     1        2       BHK   929.921143   \n",
       "4    Dealer                   1     0        2       BHK   999.009247   \n",
       "\n",
       "   READY_TO_MOVE  RESALE                      ADDRESS  LONGITUDE   LATITUDE  \\\n",
       "0              1       1        Ksfc Layout,Bangalore  12.969910  77.597960   \n",
       "1              1       1    Vishweshwara Nagar,Mysore  12.274538  76.644605   \n",
       "2              1       1             Jigani,Bangalore  12.778033  77.632191   \n",
       "3              1       1  Sector-1 Vaishali,Ghaziabad  28.642300  77.344500   \n",
       "4              0       1             New Town,Kolkata  22.592200  88.484911   \n",
       "\n",
       "   TARGET(PRICE_IN_LACS)  \n",
       "0                   55.0  \n",
       "1                   51.0  \n",
       "2                   43.0  \n",
       "3                   62.5  \n",
       "4                   60.5  "
      ]
     },
     "execution_count": 52,
     "metadata": {},
     "output_type": "execute_result"
    }
   ],
   "source": [
    "housing.head()"
   ]
  },
  {
   "cell_type": "code",
   "execution_count": 53,
   "metadata": {},
   "outputs": [
    {
     "name": "stdout",
     "output_type": "stream",
     "text": [
      "<class 'pandas.core.frame.DataFrame'>\n",
      "RangeIndex: 29460 entries, 0 to 29459\n",
      "Data columns (total 12 columns):\n",
      " #   Column                 Non-Null Count  Dtype  \n",
      "---  ------                 --------------  -----  \n",
      " 0   POSTED_BY              29460 non-null  object \n",
      " 1   UNDER_CONSTRUCTION     29460 non-null  int64  \n",
      " 2   RERA                   29460 non-null  int64  \n",
      " 3   BHK_NO.                29460 non-null  int64  \n",
      " 4   BHK_OR_RK              29460 non-null  object \n",
      " 5   SQUARE_FT              29460 non-null  float64\n",
      " 6   READY_TO_MOVE          29460 non-null  int64  \n",
      " 7   RESALE                 29460 non-null  int64  \n",
      " 8   ADDRESS                29460 non-null  object \n",
      " 9   LONGITUDE              29460 non-null  float64\n",
      " 10  LATITUDE               29460 non-null  float64\n",
      " 11  TARGET(PRICE_IN_LACS)  29460 non-null  float64\n",
      "dtypes: float64(4), int64(5), object(3)\n",
      "memory usage: 2.7+ MB\n"
     ]
    }
   ],
   "source": [
    "housing.info()"
   ]
  },
  {
   "cell_type": "code",
   "execution_count": 54,
   "metadata": {},
   "outputs": [
    {
     "name": "stdout",
     "output_type": "stream",
     "text": [
      "POSTED_BY                0\n",
      "UNDER_CONSTRUCTION       0\n",
      "RERA                     0\n",
      "BHK_NO.                  0\n",
      "BHK_OR_RK                0\n",
      "SQUARE_FT                0\n",
      "READY_TO_MOVE            0\n",
      "RESALE                   0\n",
      "ADDRESS                  0\n",
      "LONGITUDE                0\n",
      "LATITUDE                 0\n",
      "TARGET(PRICE_IN_LACS)    0\n",
      "dtype: int64\n"
     ]
    }
   ],
   "source": [
    "print(housing.isnull().sum())"
   ]
  },
  {
   "cell_type": "code",
   "execution_count": 55,
   "metadata": {},
   "outputs": [
    {
     "data": {
      "text/plain": [
       "RERA\n",
       "0    20097\n",
       "1     9363\n",
       "Name: count, dtype: int64"
      ]
     },
     "execution_count": 55,
     "metadata": {},
     "output_type": "execute_result"
    }
   ],
   "source": [
    "housing['RERA'].value_counts()"
   ]
  },
  {
   "cell_type": "code",
   "execution_count": 56,
   "metadata": {},
   "outputs": [
    {
     "data": {
      "text/plain": [
       "READY_TO_MOVE\n",
       "1    24166\n",
       "0     5294\n",
       "Name: count, dtype: int64"
      ]
     },
     "execution_count": 56,
     "metadata": {},
     "output_type": "execute_result"
    }
   ],
   "source": [
    "housing['READY_TO_MOVE'].value_counts()   "
   ]
  },
  {
   "cell_type": "code",
   "execution_count": 57,
   "metadata": {},
   "outputs": [
    {
     "data": {
      "text/plain": [
       "RESALE\n",
       "1    27386\n",
       "0     2074\n",
       "Name: count, dtype: int64"
      ]
     },
     "execution_count": 57,
     "metadata": {},
     "output_type": "execute_result"
    }
   ],
   "source": [
    "housing['RESALE'].value_counts()"
   ]
  },
  {
   "cell_type": "code",
   "execution_count": 58,
   "metadata": {},
   "outputs": [
    {
     "data": {
      "text/plain": [
       "UNDER_CONSTRUCTION\n",
       "0    24166\n",
       "1     5294\n",
       "Name: count, dtype: int64"
      ]
     },
     "execution_count": 58,
     "metadata": {},
     "output_type": "execute_result"
    }
   ],
   "source": [
    "housing['UNDER_CONSTRUCTION'].value_counts()"
   ]
  },
  {
   "cell_type": "code",
   "execution_count": 59,
   "metadata": {},
   "outputs": [
    {
     "data": {
      "text/plain": [
       "POSTED_BY\n",
       "Dealer     18300\n",
       "Owner      10538\n",
       "Builder      622\n",
       "Name: count, dtype: int64"
      ]
     },
     "execution_count": 59,
     "metadata": {},
     "output_type": "execute_result"
    }
   ],
   "source": [
    "housing['POSTED_BY'].value_counts() "
   ]
  },
  {
   "cell_type": "code",
   "execution_count": 60,
   "metadata": {},
   "outputs": [
    {
     "data": {
      "text/plain": [
       "BHK_NO.\n",
       "2     13324\n",
       "3     10546\n",
       "1      3574\n",
       "4      1723\n",
       "5       190\n",
       "6        52\n",
       "7        11\n",
       "8        10\n",
       "13       10\n",
       "20        4\n",
       "10        4\n",
       "15        4\n",
       "12        3\n",
       "9         3\n",
       "17        1\n",
       "11        1\n",
       "Name: count, dtype: int64"
      ]
     },
     "execution_count": 60,
     "metadata": {},
     "output_type": "execute_result"
    }
   ],
   "source": [
    "housing['BHK_NO.'].value_counts()"
   ]
  },
  {
   "cell_type": "code",
   "execution_count": 61,
   "metadata": {},
   "outputs": [
    {
     "data": {
      "text/plain": [
       "ADDRESS\n",
       "Zirakpur,Chandigarh                   509\n",
       "Whitefield,Bangalore                  230\n",
       "Raj Nagar Extension,Ghaziabad         215\n",
       "Sector-137 Noida,Noida                139\n",
       "New Town,Kolkata                      131\n",
       "                                     ... \n",
       "Ambika Township,Jivarajpark,Rajkot      1\n",
       "Cheranalloor,Kochi                      1\n",
       "Baba Nagar,Bangalore                    1\n",
       "Barra Devi Naubasta road,Kanpur         1\n",
       "E3-108, Lake View Recidency,,Vapi       1\n",
       "Name: count, Length: 6899, dtype: int64"
      ]
     },
     "execution_count": 61,
     "metadata": {},
     "output_type": "execute_result"
    }
   ],
   "source": [
    "housing['ADDRESS'].value_counts()"
   ]
  },
  {
   "cell_type": "code",
   "execution_count": 62,
   "metadata": {},
   "outputs": [
    {
     "data": {
      "text/plain": [
       "TARGET(PRICE_IN_LACS)\n",
       "110.0      795\n",
       "100.0      770\n",
       "120.0      652\n",
       "130.0      598\n",
       "45.0       583\n",
       "          ... \n",
       "86.1         1\n",
       "1550.0       1\n",
       "28000.0      1\n",
       "9910.0       1\n",
       "18.3         1\n",
       "Name: count, Length: 1172, dtype: int64"
      ]
     },
     "execution_count": 62,
     "metadata": {},
     "output_type": "execute_result"
    }
   ],
   "source": [
    "housing['TARGET(PRICE_IN_LACS)'].value_counts()"
   ]
  },
  {
   "cell_type": "code",
   "execution_count": 63,
   "metadata": {},
   "outputs": [
    {
     "data": {
      "text/html": [
       "<div>\n",
       "<style scoped>\n",
       "    .dataframe tbody tr th:only-of-type {\n",
       "        vertical-align: middle;\n",
       "    }\n",
       "\n",
       "    .dataframe tbody tr th {\n",
       "        vertical-align: top;\n",
       "    }\n",
       "\n",
       "    .dataframe thead th {\n",
       "        text-align: right;\n",
       "    }\n",
       "</style>\n",
       "<table border=\"1\" class=\"dataframe\">\n",
       "  <thead>\n",
       "    <tr style=\"text-align: right;\">\n",
       "      <th></th>\n",
       "      <th>UNDER_CONSTRUCTION</th>\n",
       "      <th>RERA</th>\n",
       "      <th>BHK_NO.</th>\n",
       "      <th>SQUARE_FT</th>\n",
       "      <th>READY_TO_MOVE</th>\n",
       "      <th>RESALE</th>\n",
       "      <th>LONGITUDE</th>\n",
       "      <th>LATITUDE</th>\n",
       "      <th>TARGET(PRICE_IN_LACS)</th>\n",
       "    </tr>\n",
       "  </thead>\n",
       "  <tbody>\n",
       "    <tr>\n",
       "      <th>count</th>\n",
       "      <td>29460.000000</td>\n",
       "      <td>29460.000000</td>\n",
       "      <td>29460.000000</td>\n",
       "      <td>2.946000e+04</td>\n",
       "      <td>29460.000000</td>\n",
       "      <td>29460.000000</td>\n",
       "      <td>29460.000000</td>\n",
       "      <td>29460.000000</td>\n",
       "      <td>29460.000000</td>\n",
       "    </tr>\n",
       "    <tr>\n",
       "      <th>mean</th>\n",
       "      <td>0.179701</td>\n",
       "      <td>0.317821</td>\n",
       "      <td>2.395519</td>\n",
       "      <td>1.979932e+04</td>\n",
       "      <td>0.820299</td>\n",
       "      <td>0.929599</td>\n",
       "      <td>21.297763</td>\n",
       "      <td>76.837949</td>\n",
       "      <td>143.007840</td>\n",
       "    </tr>\n",
       "    <tr>\n",
       "      <th>std</th>\n",
       "      <td>0.383945</td>\n",
       "      <td>0.465637</td>\n",
       "      <td>0.898294</td>\n",
       "      <td>1.901044e+06</td>\n",
       "      <td>0.383945</td>\n",
       "      <td>0.255825</td>\n",
       "      <td>6.205996</td>\n",
       "      <td>10.556144</td>\n",
       "      <td>656.810013</td>\n",
       "    </tr>\n",
       "    <tr>\n",
       "      <th>min</th>\n",
       "      <td>0.000000</td>\n",
       "      <td>0.000000</td>\n",
       "      <td>1.000000</td>\n",
       "      <td>3.000000e+00</td>\n",
       "      <td>0.000000</td>\n",
       "      <td>0.000000</td>\n",
       "      <td>-37.713008</td>\n",
       "      <td>-121.761248</td>\n",
       "      <td>0.250000</td>\n",
       "    </tr>\n",
       "    <tr>\n",
       "      <th>25%</th>\n",
       "      <td>0.000000</td>\n",
       "      <td>0.000000</td>\n",
       "      <td>2.000000</td>\n",
       "      <td>9.000225e+02</td>\n",
       "      <td>1.000000</td>\n",
       "      <td>1.000000</td>\n",
       "      <td>18.452663</td>\n",
       "      <td>73.798100</td>\n",
       "      <td>38.000000</td>\n",
       "    </tr>\n",
       "    <tr>\n",
       "      <th>50%</th>\n",
       "      <td>0.000000</td>\n",
       "      <td>0.000000</td>\n",
       "      <td>2.000000</td>\n",
       "      <td>1.175088e+03</td>\n",
       "      <td>1.000000</td>\n",
       "      <td>1.000000</td>\n",
       "      <td>20.750000</td>\n",
       "      <td>77.324966</td>\n",
       "      <td>62.000000</td>\n",
       "    </tr>\n",
       "    <tr>\n",
       "      <th>75%</th>\n",
       "      <td>0.000000</td>\n",
       "      <td>1.000000</td>\n",
       "      <td>3.000000</td>\n",
       "      <td>1.552067e+03</td>\n",
       "      <td>1.000000</td>\n",
       "      <td>1.000000</td>\n",
       "      <td>26.900926</td>\n",
       "      <td>77.820000</td>\n",
       "      <td>100.000000</td>\n",
       "    </tr>\n",
       "    <tr>\n",
       "      <th>max</th>\n",
       "      <td>1.000000</td>\n",
       "      <td>1.000000</td>\n",
       "      <td>20.000000</td>\n",
       "      <td>2.545455e+08</td>\n",
       "      <td>1.000000</td>\n",
       "      <td>1.000000</td>\n",
       "      <td>59.912884</td>\n",
       "      <td>152.962676</td>\n",
       "      <td>30000.000000</td>\n",
       "    </tr>\n",
       "  </tbody>\n",
       "</table>\n",
       "</div>"
      ],
      "text/plain": [
       "       UNDER_CONSTRUCTION          RERA       BHK_NO.     SQUARE_FT  \\\n",
       "count        29460.000000  29460.000000  29460.000000  2.946000e+04   \n",
       "mean             0.179701      0.317821      2.395519  1.979932e+04   \n",
       "std              0.383945      0.465637      0.898294  1.901044e+06   \n",
       "min              0.000000      0.000000      1.000000  3.000000e+00   \n",
       "25%              0.000000      0.000000      2.000000  9.000225e+02   \n",
       "50%              0.000000      0.000000      2.000000  1.175088e+03   \n",
       "75%              0.000000      1.000000      3.000000  1.552067e+03   \n",
       "max              1.000000      1.000000     20.000000  2.545455e+08   \n",
       "\n",
       "       READY_TO_MOVE        RESALE     LONGITUDE      LATITUDE  \\\n",
       "count   29460.000000  29460.000000  29460.000000  29460.000000   \n",
       "mean        0.820299      0.929599     21.297763     76.837949   \n",
       "std         0.383945      0.255825      6.205996     10.556144   \n",
       "min         0.000000      0.000000    -37.713008   -121.761248   \n",
       "25%         1.000000      1.000000     18.452663     73.798100   \n",
       "50%         1.000000      1.000000     20.750000     77.324966   \n",
       "75%         1.000000      1.000000     26.900926     77.820000   \n",
       "max         1.000000      1.000000     59.912884    152.962676   \n",
       "\n",
       "       TARGET(PRICE_IN_LACS)  \n",
       "count           29460.000000  \n",
       "mean              143.007840  \n",
       "std               656.810013  \n",
       "min                 0.250000  \n",
       "25%                38.000000  \n",
       "50%                62.000000  \n",
       "75%               100.000000  \n",
       "max             30000.000000  "
      ]
     },
     "execution_count": 63,
     "metadata": {},
     "output_type": "execute_result"
    }
   ],
   "source": [
    "housing.describe()"
   ]
  },
  {
   "cell_type": "code",
   "execution_count": 64,
   "metadata": {},
   "outputs": [
    {
     "data": {
      "text/html": [
       "<div>\n",
       "<style scoped>\n",
       "    .dataframe tbody tr th:only-of-type {\n",
       "        vertical-align: middle;\n",
       "    }\n",
       "\n",
       "    .dataframe tbody tr th {\n",
       "        vertical-align: top;\n",
       "    }\n",
       "\n",
       "    .dataframe thead th {\n",
       "        text-align: right;\n",
       "    }\n",
       "</style>\n",
       "<table border=\"1\" class=\"dataframe\">\n",
       "  <thead>\n",
       "    <tr style=\"text-align: right;\">\n",
       "      <th></th>\n",
       "      <th>POSTED_BY</th>\n",
       "      <th>UNDER_CONSTRUCTION</th>\n",
       "      <th>RERA</th>\n",
       "      <th>BHK_NO.</th>\n",
       "      <th>BHK_OR_RK</th>\n",
       "      <th>SQUARE_FT</th>\n",
       "      <th>READY_TO_MOVE</th>\n",
       "      <th>RESALE</th>\n",
       "      <th>ADDRESS</th>\n",
       "      <th>LONGITUDE</th>\n",
       "      <th>LATITUDE</th>\n",
       "      <th>TARGET(PRICE_IN_LACS)</th>\n",
       "    </tr>\n",
       "  </thead>\n",
       "  <tbody>\n",
       "    <tr>\n",
       "      <th>0</th>\n",
       "      <td>Owner</td>\n",
       "      <td>0</td>\n",
       "      <td>0</td>\n",
       "      <td>2</td>\n",
       "      <td>BHK</td>\n",
       "      <td>1300.236407</td>\n",
       "      <td>1</td>\n",
       "      <td>1</td>\n",
       "      <td>Bangalore</td>\n",
       "      <td>12.969910</td>\n",
       "      <td>77.597960</td>\n",
       "      <td>55.0</td>\n",
       "    </tr>\n",
       "    <tr>\n",
       "      <th>1</th>\n",
       "      <td>Dealer</td>\n",
       "      <td>0</td>\n",
       "      <td>0</td>\n",
       "      <td>2</td>\n",
       "      <td>BHK</td>\n",
       "      <td>1275.000000</td>\n",
       "      <td>1</td>\n",
       "      <td>1</td>\n",
       "      <td>Mysore</td>\n",
       "      <td>12.274538</td>\n",
       "      <td>76.644605</td>\n",
       "      <td>51.0</td>\n",
       "    </tr>\n",
       "    <tr>\n",
       "      <th>2</th>\n",
       "      <td>Owner</td>\n",
       "      <td>0</td>\n",
       "      <td>0</td>\n",
       "      <td>2</td>\n",
       "      <td>BHK</td>\n",
       "      <td>933.159722</td>\n",
       "      <td>1</td>\n",
       "      <td>1</td>\n",
       "      <td>Bangalore</td>\n",
       "      <td>12.778033</td>\n",
       "      <td>77.632191</td>\n",
       "      <td>43.0</td>\n",
       "    </tr>\n",
       "    <tr>\n",
       "      <th>3</th>\n",
       "      <td>Owner</td>\n",
       "      <td>0</td>\n",
       "      <td>1</td>\n",
       "      <td>2</td>\n",
       "      <td>BHK</td>\n",
       "      <td>929.921143</td>\n",
       "      <td>1</td>\n",
       "      <td>1</td>\n",
       "      <td>Ghaziabad</td>\n",
       "      <td>28.642300</td>\n",
       "      <td>77.344500</td>\n",
       "      <td>62.5</td>\n",
       "    </tr>\n",
       "    <tr>\n",
       "      <th>4</th>\n",
       "      <td>Dealer</td>\n",
       "      <td>1</td>\n",
       "      <td>0</td>\n",
       "      <td>2</td>\n",
       "      <td>BHK</td>\n",
       "      <td>999.009247</td>\n",
       "      <td>0</td>\n",
       "      <td>1</td>\n",
       "      <td>Kolkata</td>\n",
       "      <td>22.592200</td>\n",
       "      <td>88.484911</td>\n",
       "      <td>60.5</td>\n",
       "    </tr>\n",
       "    <tr>\n",
       "      <th>...</th>\n",
       "      <td>...</td>\n",
       "      <td>...</td>\n",
       "      <td>...</td>\n",
       "      <td>...</td>\n",
       "      <td>...</td>\n",
       "      <td>...</td>\n",
       "      <td>...</td>\n",
       "      <td>...</td>\n",
       "      <td>...</td>\n",
       "      <td>...</td>\n",
       "      <td>...</td>\n",
       "      <td>...</td>\n",
       "    </tr>\n",
       "    <tr>\n",
       "      <th>29455</th>\n",
       "      <td>Dealer</td>\n",
       "      <td>0</td>\n",
       "      <td>0</td>\n",
       "      <td>13</td>\n",
       "      <td>BHK</td>\n",
       "      <td>10460.251050</td>\n",
       "      <td>1</td>\n",
       "      <td>1</td>\n",
       "      <td>Bangalore</td>\n",
       "      <td>13.143933</td>\n",
       "      <td>77.667304</td>\n",
       "      <td>500.0</td>\n",
       "    </tr>\n",
       "    <tr>\n",
       "      <th>29456</th>\n",
       "      <td>Dealer</td>\n",
       "      <td>0</td>\n",
       "      <td>0</td>\n",
       "      <td>13</td>\n",
       "      <td>BHK</td>\n",
       "      <td>10460.251050</td>\n",
       "      <td>1</td>\n",
       "      <td>1</td>\n",
       "      <td>Bangalore</td>\n",
       "      <td>13.143933</td>\n",
       "      <td>77.667304</td>\n",
       "      <td>500.0</td>\n",
       "    </tr>\n",
       "    <tr>\n",
       "      <th>29457</th>\n",
       "      <td>Dealer</td>\n",
       "      <td>0</td>\n",
       "      <td>0</td>\n",
       "      <td>13</td>\n",
       "      <td>BHK</td>\n",
       "      <td>10460.251050</td>\n",
       "      <td>1</td>\n",
       "      <td>1</td>\n",
       "      <td>Bangalore</td>\n",
       "      <td>13.143933</td>\n",
       "      <td>77.667304</td>\n",
       "      <td>500.0</td>\n",
       "    </tr>\n",
       "    <tr>\n",
       "      <th>29458</th>\n",
       "      <td>Dealer</td>\n",
       "      <td>0</td>\n",
       "      <td>0</td>\n",
       "      <td>13</td>\n",
       "      <td>BHK</td>\n",
       "      <td>10460.251050</td>\n",
       "      <td>1</td>\n",
       "      <td>1</td>\n",
       "      <td>Bangalore</td>\n",
       "      <td>13.143933</td>\n",
       "      <td>77.667304</td>\n",
       "      <td>500.0</td>\n",
       "    </tr>\n",
       "    <tr>\n",
       "      <th>29459</th>\n",
       "      <td>Dealer</td>\n",
       "      <td>0</td>\n",
       "      <td>0</td>\n",
       "      <td>13</td>\n",
       "      <td>BHK</td>\n",
       "      <td>10460.251050</td>\n",
       "      <td>1</td>\n",
       "      <td>1</td>\n",
       "      <td>Bangalore</td>\n",
       "      <td>13.143933</td>\n",
       "      <td>77.667304</td>\n",
       "      <td>500.0</td>\n",
       "    </tr>\n",
       "  </tbody>\n",
       "</table>\n",
       "<p>29460 rows × 12 columns</p>\n",
       "</div>"
      ],
      "text/plain": [
       "      POSTED_BY  UNDER_CONSTRUCTION  RERA  BHK_NO. BHK_OR_RK     SQUARE_FT  \\\n",
       "0         Owner                   0     0        2       BHK   1300.236407   \n",
       "1        Dealer                   0     0        2       BHK   1275.000000   \n",
       "2         Owner                   0     0        2       BHK    933.159722   \n",
       "3         Owner                   0     1        2       BHK    929.921143   \n",
       "4        Dealer                   1     0        2       BHK    999.009247   \n",
       "...         ...                 ...   ...      ...       ...           ...   \n",
       "29455    Dealer                   0     0       13       BHK  10460.251050   \n",
       "29456    Dealer                   0     0       13       BHK  10460.251050   \n",
       "29457    Dealer                   0     0       13       BHK  10460.251050   \n",
       "29458    Dealer                   0     0       13       BHK  10460.251050   \n",
       "29459    Dealer                   0     0       13       BHK  10460.251050   \n",
       "\n",
       "       READY_TO_MOVE  RESALE    ADDRESS  LONGITUDE   LATITUDE  \\\n",
       "0                  1       1  Bangalore  12.969910  77.597960   \n",
       "1                  1       1     Mysore  12.274538  76.644605   \n",
       "2                  1       1  Bangalore  12.778033  77.632191   \n",
       "3                  1       1  Ghaziabad  28.642300  77.344500   \n",
       "4                  0       1    Kolkata  22.592200  88.484911   \n",
       "...              ...     ...        ...        ...        ...   \n",
       "29455              1       1  Bangalore  13.143933  77.667304   \n",
       "29456              1       1  Bangalore  13.143933  77.667304   \n",
       "29457              1       1  Bangalore  13.143933  77.667304   \n",
       "29458              1       1  Bangalore  13.143933  77.667304   \n",
       "29459              1       1  Bangalore  13.143933  77.667304   \n",
       "\n",
       "       TARGET(PRICE_IN_LACS)  \n",
       "0                       55.0  \n",
       "1                       51.0  \n",
       "2                       43.0  \n",
       "3                       62.5  \n",
       "4                       60.5  \n",
       "...                      ...  \n",
       "29455                  500.0  \n",
       "29456                  500.0  \n",
       "29457                  500.0  \n",
       "29458                  500.0  \n",
       "29459                  500.0  \n",
       "\n",
       "[29460 rows x 12 columns]"
      ]
     },
     "execution_count": 64,
     "metadata": {},
     "output_type": "execute_result"
    }
   ],
   "source": [
    "housing['ADDRESS'] = housing['ADDRESS'].str.split(',').apply(lambda x: x[-1])\n",
    "housing"
   ]
  },
  {
   "cell_type": "code",
   "execution_count": 65,
   "metadata": {},
   "outputs": [
    {
     "data": {
      "text/plain": [
       "array(['Bangalore', 'Mysore', 'Ghaziabad', 'Kolkata', 'Kochi', 'Jaipur',\n",
       "       'Mohali', 'Chennai', 'Siliguri', 'Noida', 'Raigad', 'Bhubaneswar',\n",
       "       'Wardha', 'Pune', 'Mumbai', 'Nagpur', 'Deoghar', 'Bhiwadi',\n",
       "       'Faridabad', 'Lalitpur', 'Maharashtra', 'Vadodara',\n",
       "       'Visakhapatnam', 'Vapi', 'Mangalore', 'Aurangabad', 'Ottapalam',\n",
       "       'Vijayawada', 'Belgaum', 'Bhopal', 'Lucknow', 'Kanpur',\n",
       "       'Gandhinagar', 'Pondicherry', 'Agra', 'Ranchi', 'Gurgaon', 'Udupi',\n",
       "       'Indore', 'Jodhpur', 'Coimbatore', 'Valsad', 'Palghar', 'Surat',\n",
       "       'Varanasi', 'Guwahati', 'Amravati', 'Anand', 'Tirupati',\n",
       "       'Secunderabad', 'Raipur', 'Vizianagaram', 'Thrissur', 'Satna',\n",
       "       'Madurai', 'Chandigarh', 'Shimla', 'Gwalior', 'Rajkot', 'Sonipat',\n",
       "       'Allahabad', 'Berhampur', 'Roorkee', 'Dharuhera', 'Latur',\n",
       "       'Durgapur', 'Panchkula', 'Solapur', 'Durg', 'Goa', 'Jamshedpur',\n",
       "       'Hazaribagh', 'Jabalpur', 'Hosur', 'Morbi', 'Hubli', 'Karnal',\n",
       "       'Patna', 'Bilaspur', 'Ratnagiri', 'Meerut', 'Kotdwara',\n",
       "       'Jalandhar', 'Amritsar', 'Patiala', 'Ludhiana', 'Alwar', 'Kota',\n",
       "       'Panaji', 'Kolhapur', 'Ernakulam', 'Bhavnagar', 'Bharuch',\n",
       "       'Asansol', 'Jhansi', 'Margao', 'Anantapur', 'Eluru', 'Bhilai',\n",
       "       'Dehradun', 'Guntur', 'Jalgaon', 'Udaipur', 'Gurdaspur',\n",
       "       'Neemrana', 'Hassan', 'Sindhudurg', 'Hoshangabad', 'Kottayam',\n",
       "       'Dhanbad', 'Navsari', 'Bahadurgarh', 'Nellore', 'Dhule',\n",
       "       'Tirunelveli', 'Cuttack', 'Haridwar', 'Nainital', 'Jamnagar',\n",
       "       'Kanchipuram', 'Kadi', 'Karad', 'Jagdalpur', 'Panipat',\n",
       "       'Muzaffarpur', 'Salem', 'Jhunjhunu', 'Gandhidham', 'Junagadh',\n",
       "       'Moradabad', 'Ahmednagar', 'Jalna', 'Bhiwani', 'Palakkad',\n",
       "       'Kannur', 'Karjat', 'Akola', 'Jind', 'Gaya', 'Ambala', 'Ajmer',\n",
       "       'Hajipur', 'Dharwad', 'Pudukkottai', 'Kollam', 'Ooty', 'Bhandara',\n",
       "       'Barabanki', 'Rajpura', 'Palwal', 'Aligarh', 'Erode', 'Rudrapur',\n",
       "       'Tenali', 'Ongole', 'Nizamabad', 'Puri', 'Dalhousie', 'Siddipet',\n",
       "       'Solan', 'Darbhanga', 'Kadapa', 'Kakinada', 'Agartala', 'Warangal',\n",
       "       'Haldwani', 'Osmanabad', 'Bhagalpur', 'Bardhaman', 'Rishikesh',\n",
       "       'Chandrapur', 'Bokaro', 'Jharsuguda', 'Bhimavaram', 'Kurnool',\n",
       "       'Amroha', 'Hapur', 'Sabarkantha', 'Harda', 'Ujjain', 'Thoothukudi',\n",
       "       'Karaikudi', 'Mathura', 'Gadhinglaj', 'Rewari', 'Godhra',\n",
       "       'Kharagpur', 'Srikakulam', 'Srinagar', 'Midnapore', 'Rayagada',\n",
       "       'Banswara', 'Shirdi', 'Rohtak', 'Pali', 'Hathras', 'Yavatmal',\n",
       "       'Balasore', 'Chhindwara', 'Bareilly', 'Vidisha', 'Thanjavur',\n",
       "       'Kangra', 'Bikaner', 'Rewa', 'Porbandar', 'Nagaur', 'Nanded',\n",
       "       'Rourkela', 'Nadiad', 'Gulbarga', 'Palanpur', 'Bhadrak',\n",
       "       'Kurukshetra', 'Dibrugarh', 'Sagar', 'Machilipatnam',\n",
       "       'Pathanamthitta', 'Bankura', 'Jammu', 'Idukki', 'Korba', 'Raigarh',\n",
       "       'Silchar', 'Arrah', 'Nagaon', 'Karwar', 'Dahod', 'Nagapattinam',\n",
       "       'Sikar', 'Angul', 'Baddi', 'Darjeeling', 'Raisen', 'Hoshiarpur',\n",
       "       'Beed', 'Gadarwara', 'Jajpur', 'Haldia', 'Chittoor', 'Faizabad',\n",
       "       'Malappuram', 'Betul', 'Surendranagar', 'Phagwara', 'Visnagar',\n",
       "       'Rajnandgaon', 'Cuddalore', 'Raichur', 'Sambalpur', 'Gondia',\n",
       "       'Vellore', 'Bharatpur', 'Bhuj', 'Siwan', 'Washim'], dtype=object)"
      ]
     },
     "execution_count": 65,
     "metadata": {},
     "output_type": "execute_result"
    }
   ],
   "source": [
    "housing['ADDRESS'].unique()"
   ]
  },
  {
   "cell_type": "code",
   "execution_count": 66,
   "metadata": {},
   "outputs": [
    {
     "data": {
      "text/plain": [
       "ADDRESS\n",
       "Bangalore      4349\n",
       "Lalitpur       2993\n",
       "Mumbai         2023\n",
       "Pune           1991\n",
       "Noida          1767\n",
       "               ... \n",
       "Bhadrak           1\n",
       "Kurukshetra       1\n",
       "Dibrugarh         1\n",
       "Sagar             1\n",
       "Washim            1\n",
       "Name: count, Length: 256, dtype: int64"
      ]
     },
     "execution_count": 66,
     "metadata": {},
     "output_type": "execute_result"
    }
   ],
   "source": [
    "housing['ADDRESS'].value_counts()"
   ]
  },
  {
   "cell_type": "code",
   "execution_count": 67,
   "metadata": {},
   "outputs": [
    {
     "data": {
      "text/html": [
       "<div>\n",
       "<style scoped>\n",
       "    .dataframe tbody tr th:only-of-type {\n",
       "        vertical-align: middle;\n",
       "    }\n",
       "\n",
       "    .dataframe tbody tr th {\n",
       "        vertical-align: top;\n",
       "    }\n",
       "\n",
       "    .dataframe thead th {\n",
       "        text-align: right;\n",
       "    }\n",
       "</style>\n",
       "<table border=\"1\" class=\"dataframe\">\n",
       "  <thead>\n",
       "    <tr style=\"text-align: right;\">\n",
       "      <th></th>\n",
       "      <th>UNDER_CONSTRUCTION</th>\n",
       "      <th>RERA</th>\n",
       "      <th>BHK_NO.</th>\n",
       "      <th>SQUARE_FT</th>\n",
       "      <th>READY_TO_MOVE</th>\n",
       "      <th>RESALE</th>\n",
       "      <th>LONGITUDE</th>\n",
       "      <th>LATITUDE</th>\n",
       "      <th>TARGET(PRICE_IN_LACS)</th>\n",
       "    </tr>\n",
       "  </thead>\n",
       "  <tbody>\n",
       "    <tr>\n",
       "      <th>count</th>\n",
       "      <td>29460.000000</td>\n",
       "      <td>29460.000000</td>\n",
       "      <td>29460.000000</td>\n",
       "      <td>2.946000e+04</td>\n",
       "      <td>29460.000000</td>\n",
       "      <td>29460.000000</td>\n",
       "      <td>29460.000000</td>\n",
       "      <td>29460.000000</td>\n",
       "      <td>29460.000000</td>\n",
       "    </tr>\n",
       "    <tr>\n",
       "      <th>mean</th>\n",
       "      <td>0.179701</td>\n",
       "      <td>0.317821</td>\n",
       "      <td>2.395519</td>\n",
       "      <td>1.979932e+04</td>\n",
       "      <td>0.820299</td>\n",
       "      <td>0.929599</td>\n",
       "      <td>21.297763</td>\n",
       "      <td>76.837949</td>\n",
       "      <td>143.007840</td>\n",
       "    </tr>\n",
       "    <tr>\n",
       "      <th>std</th>\n",
       "      <td>0.383945</td>\n",
       "      <td>0.465637</td>\n",
       "      <td>0.898294</td>\n",
       "      <td>1.901044e+06</td>\n",
       "      <td>0.383945</td>\n",
       "      <td>0.255825</td>\n",
       "      <td>6.205996</td>\n",
       "      <td>10.556144</td>\n",
       "      <td>656.810013</td>\n",
       "    </tr>\n",
       "    <tr>\n",
       "      <th>min</th>\n",
       "      <td>0.000000</td>\n",
       "      <td>0.000000</td>\n",
       "      <td>1.000000</td>\n",
       "      <td>3.000000e+00</td>\n",
       "      <td>0.000000</td>\n",
       "      <td>0.000000</td>\n",
       "      <td>-37.713008</td>\n",
       "      <td>-121.761248</td>\n",
       "      <td>0.250000</td>\n",
       "    </tr>\n",
       "    <tr>\n",
       "      <th>25%</th>\n",
       "      <td>0.000000</td>\n",
       "      <td>0.000000</td>\n",
       "      <td>2.000000</td>\n",
       "      <td>9.000225e+02</td>\n",
       "      <td>1.000000</td>\n",
       "      <td>1.000000</td>\n",
       "      <td>18.452663</td>\n",
       "      <td>73.798100</td>\n",
       "      <td>38.000000</td>\n",
       "    </tr>\n",
       "    <tr>\n",
       "      <th>50%</th>\n",
       "      <td>0.000000</td>\n",
       "      <td>0.000000</td>\n",
       "      <td>2.000000</td>\n",
       "      <td>1.175088e+03</td>\n",
       "      <td>1.000000</td>\n",
       "      <td>1.000000</td>\n",
       "      <td>20.750000</td>\n",
       "      <td>77.324966</td>\n",
       "      <td>62.000000</td>\n",
       "    </tr>\n",
       "    <tr>\n",
       "      <th>75%</th>\n",
       "      <td>0.000000</td>\n",
       "      <td>1.000000</td>\n",
       "      <td>3.000000</td>\n",
       "      <td>1.552067e+03</td>\n",
       "      <td>1.000000</td>\n",
       "      <td>1.000000</td>\n",
       "      <td>26.900926</td>\n",
       "      <td>77.820000</td>\n",
       "      <td>100.000000</td>\n",
       "    </tr>\n",
       "    <tr>\n",
       "      <th>max</th>\n",
       "      <td>1.000000</td>\n",
       "      <td>1.000000</td>\n",
       "      <td>20.000000</td>\n",
       "      <td>2.545455e+08</td>\n",
       "      <td>1.000000</td>\n",
       "      <td>1.000000</td>\n",
       "      <td>59.912884</td>\n",
       "      <td>152.962676</td>\n",
       "      <td>30000.000000</td>\n",
       "    </tr>\n",
       "  </tbody>\n",
       "</table>\n",
       "</div>"
      ],
      "text/plain": [
       "       UNDER_CONSTRUCTION          RERA       BHK_NO.     SQUARE_FT  \\\n",
       "count        29460.000000  29460.000000  29460.000000  2.946000e+04   \n",
       "mean             0.179701      0.317821      2.395519  1.979932e+04   \n",
       "std              0.383945      0.465637      0.898294  1.901044e+06   \n",
       "min              0.000000      0.000000      1.000000  3.000000e+00   \n",
       "25%              0.000000      0.000000      2.000000  9.000225e+02   \n",
       "50%              0.000000      0.000000      2.000000  1.175088e+03   \n",
       "75%              0.000000      1.000000      3.000000  1.552067e+03   \n",
       "max              1.000000      1.000000     20.000000  2.545455e+08   \n",
       "\n",
       "       READY_TO_MOVE        RESALE     LONGITUDE      LATITUDE  \\\n",
       "count   29460.000000  29460.000000  29460.000000  29460.000000   \n",
       "mean        0.820299      0.929599     21.297763     76.837949   \n",
       "std         0.383945      0.255825      6.205996     10.556144   \n",
       "min         0.000000      0.000000    -37.713008   -121.761248   \n",
       "25%         1.000000      1.000000     18.452663     73.798100   \n",
       "50%         1.000000      1.000000     20.750000     77.324966   \n",
       "75%         1.000000      1.000000     26.900926     77.820000   \n",
       "max         1.000000      1.000000     59.912884    152.962676   \n",
       "\n",
       "       TARGET(PRICE_IN_LACS)  \n",
       "count           29460.000000  \n",
       "mean              143.007840  \n",
       "std               656.810013  \n",
       "min                 0.250000  \n",
       "25%                38.000000  \n",
       "50%                62.000000  \n",
       "75%               100.000000  \n",
       "max             30000.000000  "
      ]
     },
     "execution_count": 67,
     "metadata": {},
     "output_type": "execute_result"
    }
   ],
   "source": [
    "housing.describe()"
   ]
  },
  {
   "cell_type": "code",
   "execution_count": 68,
   "metadata": {},
   "outputs": [
    {
     "data": {
      "text/plain": [
       "array([[<Axes: title={'center': 'UNDER_CONSTRUCTION'}>,\n",
       "        <Axes: title={'center': 'RERA'}>,\n",
       "        <Axes: title={'center': 'BHK_NO.'}>],\n",
       "       [<Axes: title={'center': 'SQUARE_FT'}>,\n",
       "        <Axes: title={'center': 'READY_TO_MOVE'}>,\n",
       "        <Axes: title={'center': 'RESALE'}>],\n",
       "       [<Axes: title={'center': 'LONGITUDE'}>,\n",
       "        <Axes: title={'center': 'LATITUDE'}>,\n",
       "        <Axes: title={'center': 'TARGET(PRICE_IN_LACS)'}>]], dtype=object)"
      ]
     },
     "execution_count": 68,
     "metadata": {},
     "output_type": "execute_result"
    },
    {
     "data": {
      "image/png": "[encoded data removed]",
      "text/plain": [
       "<Figure size 2000x1500 with 9 Axes>"
      ]
     },
     "metadata": {},
     "output_type": "display_data"
    }
   ],
   "source": [
    "%matplotlib inline\n",
    "import matplotlib.pyplot as plt\n",
    "housing.hist(bins=50,figsize=(20,15))"
   ]
  },
  {
   "cell_type": "code",
   "execution_count": 69,
   "metadata": {},
   "outputs": [
    {
     "data": {
      "text/plain": [
       "<Axes: xlabel='BHK_NO.', ylabel='TARGET(PRICE_IN_LACS)'>"
      ]
     },
     "execution_count": 69,
     "metadata": {},
     "output_type": "execute_result"
    },
    {
     "data": {
      "image/png": "[encoded data removed]",
      "text/plain": [
       "<Figure size 640x480 with 1 Axes>"
      ]
     },
     "metadata": {},
     "output_type": "display_data"
    }
   ],
   "source": [
    "housing.plot(kind=\"scatter\",x='BHK_NO.',y='TARGET(PRICE_IN_LACS)',alpha=0.8)"
   ]
  },
  {
   "cell_type": "code",
   "execution_count": 70,
   "metadata": {},
   "outputs": [
    {
     "data": {
      "text/plain": [
       "ADDRESS\n",
       "Bangalore      4349\n",
       "Lalitpur       2993\n",
       "Mumbai         2023\n",
       "Pune           1991\n",
       "Noida          1767\n",
       "               ... \n",
       "Bhadrak           1\n",
       "Kurukshetra       1\n",
       "Dibrugarh         1\n",
       "Sagar             1\n",
       "Washim            1\n",
       "Name: count, Length: 256, dtype: int64"
      ]
     },
     "execution_count": 70,
     "metadata": {},
     "output_type": "execute_result"
    }
   ],
   "source": [
    "housing['ADDRESS'].value_counts()"
   ]
  },
  {
   "cell_type": "code",
   "execution_count": 71,
   "metadata": {},
   "outputs": [
    {
     "data": {
      "text/plain": [
       "(29460, 12)"
      ]
     },
     "execution_count": 71,
     "metadata": {},
     "output_type": "execute_result"
    }
   ],
   "source": [
    "housing.shape"
   ]
  },
  {
   "cell_type": "code",
   "execution_count": 72,
   "metadata": {},
   "outputs": [
    {
     "data": {
      "text/html": [
       "<div>\n",
       "<style scoped>\n",
       "    .dataframe tbody tr th:only-of-type {\n",
       "        vertical-align: middle;\n",
       "    }\n",
       "\n",
       "    .dataframe tbody tr th {\n",
       "        vertical-align: top;\n",
       "    }\n",
       "\n",
       "    .dataframe thead th {\n",
       "        text-align: right;\n",
       "    }\n",
       "</style>\n",
       "<table border=\"1\" class=\"dataframe\">\n",
       "  <thead>\n",
       "    <tr style=\"text-align: right;\">\n",
       "      <th></th>\n",
       "      <th>UNDER_CONSTRUCTION</th>\n",
       "      <th>RERA</th>\n",
       "      <th>BHK_NO.</th>\n",
       "      <th>SQUARE_FT</th>\n",
       "      <th>READY_TO_MOVE</th>\n",
       "      <th>RESALE</th>\n",
       "      <th>LONGITUDE</th>\n",
       "      <th>LATITUDE</th>\n",
       "      <th>TARGET(PRICE_IN_LACS)</th>\n",
       "    </tr>\n",
       "  </thead>\n",
       "  <tbody>\n",
       "    <tr>\n",
       "      <th>count</th>\n",
       "      <td>29460.000000</td>\n",
       "      <td>29460.000000</td>\n",
       "      <td>29460.000000</td>\n",
       "      <td>2.946000e+04</td>\n",
       "      <td>29460.000000</td>\n",
       "      <td>29460.000000</td>\n",
       "      <td>29460.000000</td>\n",
       "      <td>29460.000000</td>\n",
       "      <td>29460.000000</td>\n",
       "    </tr>\n",
       "    <tr>\n",
       "      <th>mean</th>\n",
       "      <td>0.179701</td>\n",
       "      <td>0.317821</td>\n",
       "      <td>2.395519</td>\n",
       "      <td>1.979932e+04</td>\n",
       "      <td>0.820299</td>\n",
       "      <td>0.929599</td>\n",
       "      <td>21.297763</td>\n",
       "      <td>76.837949</td>\n",
       "      <td>143.007840</td>\n",
       "    </tr>\n",
       "    <tr>\n",
       "      <th>std</th>\n",
       "      <td>0.383945</td>\n",
       "      <td>0.465637</td>\n",
       "      <td>0.898294</td>\n",
       "      <td>1.901044e+06</td>\n",
       "      <td>0.383945</td>\n",
       "      <td>0.255825</td>\n",
       "      <td>6.205996</td>\n",
       "      <td>10.556144</td>\n",
       "      <td>656.810013</td>\n",
       "    </tr>\n",
       "    <tr>\n",
       "      <th>min</th>\n",
       "      <td>0.000000</td>\n",
       "      <td>0.000000</td>\n",
       "      <td>1.000000</td>\n",
       "      <td>3.000000e+00</td>\n",
       "      <td>0.000000</td>\n",
       "      <td>0.000000</td>\n",
       "      <td>-37.713008</td>\n",
       "      <td>-121.761248</td>\n",
       "      <td>0.250000</td>\n",
       "    </tr>\n",
       "    <tr>\n",
       "      <th>25%</th>\n",
       "      <td>0.000000</td>\n",
       "      <td>0.000000</td>\n",
       "      <td>2.000000</td>\n",
       "      <td>9.000225e+02</td>\n",
       "      <td>1.000000</td>\n",
       "      <td>1.000000</td>\n",
       "      <td>18.452663</td>\n",
       "      <td>73.798100</td>\n",
       "      <td>38.000000</td>\n",
       "    </tr>\n",
       "    <tr>\n",
       "      <th>50%</th>\n",
       "      <td>0.000000</td>\n",
       "      <td>0.000000</td>\n",
       "      <td>2.000000</td>\n",
       "      <td>1.175088e+03</td>\n",
       "      <td>1.000000</td>\n",
       "      <td>1.000000</td>\n",
       "      <td>20.750000</td>\n",
       "      <td>77.324966</td>\n",
       "      <td>62.000000</td>\n",
       "    </tr>\n",
       "    <tr>\n",
       "      <th>75%</th>\n",
       "      <td>0.000000</td>\n",
       "      <td>1.000000</td>\n",
       "      <td>3.000000</td>\n",
       "      <td>1.552067e+03</td>\n",
       "      <td>1.000000</td>\n",
       "      <td>1.000000</td>\n",
       "      <td>26.900926</td>\n",
       "      <td>77.820000</td>\n",
       "      <td>100.000000</td>\n",
       "    </tr>\n",
       "    <tr>\n",
       "      <th>max</th>\n",
       "      <td>1.000000</td>\n",
       "      <td>1.000000</td>\n",
       "      <td>20.000000</td>\n",
       "      <td>2.545455e+08</td>\n",
       "      <td>1.000000</td>\n",
       "      <td>1.000000</td>\n",
       "      <td>59.912884</td>\n",
       "      <td>152.962676</td>\n",
       "      <td>30000.000000</td>\n",
       "    </tr>\n",
       "  </tbody>\n",
       "</table>\n",
       "</div>"
      ],
      "text/plain": [
       "       UNDER_CONSTRUCTION          RERA       BHK_NO.     SQUARE_FT  \\\n",
       "count        29460.000000  29460.000000  29460.000000  2.946000e+04   \n",
       "mean             0.179701      0.317821      2.395519  1.979932e+04   \n",
       "std              0.383945      0.465637      0.898294  1.901044e+06   \n",
       "min              0.000000      0.000000      1.000000  3.000000e+00   \n",
       "25%              0.000000      0.000000      2.000000  9.000225e+02   \n",
       "50%              0.000000      0.000000      2.000000  1.175088e+03   \n",
       "75%              0.000000      1.000000      3.000000  1.552067e+03   \n",
       "max              1.000000      1.000000     20.000000  2.545455e+08   \n",
       "\n",
       "       READY_TO_MOVE        RESALE     LONGITUDE      LATITUDE  \\\n",
       "count   29460.000000  29460.000000  29460.000000  29460.000000   \n",
       "mean        0.820299      0.929599     21.297763     76.837949   \n",
       "std         0.383945      0.255825      6.205996     10.556144   \n",
       "min         0.000000      0.000000    -37.713008   -121.761248   \n",
       "25%         1.000000      1.000000     18.452663     73.798100   \n",
       "50%         1.000000      1.000000     20.750000     77.324966   \n",
       "75%         1.000000      1.000000     26.900926     77.820000   \n",
       "max         1.000000      1.000000     59.912884    152.962676   \n",
       "\n",
       "       TARGET(PRICE_IN_LACS)  \n",
       "count           29460.000000  \n",
       "mean              143.007840  \n",
       "std               656.810013  \n",
       "min                 0.250000  \n",
       "25%                38.000000  \n",
       "50%                62.000000  \n",
       "75%               100.000000  \n",
       "max             30000.000000  "
      ]
     },
     "execution_count": 72,
     "metadata": {},
     "output_type": "execute_result"
    }
   ],
   "source": [
    "housing.describe()"
   ]
  },
  {
   "cell_type": "markdown",
   "metadata": {},
   "source": [
    "## Looking For Correlation"
   ]
  },
  {
   "cell_type": "code",
   "execution_count": 73,
   "metadata": {},
   "outputs": [
    {
     "data": {
      "text/plain": [
       "TARGET(PRICE_IN_LACS)    1.000000\n",
       "SQUARE_FT                0.402666\n",
       "BHK_NO.                  0.111822\n",
       "RERA                     0.067515\n",
       "UNDER_CONSTRUCTION       0.055317\n",
       "LATITUDE                -0.017240\n",
       "LONGITUDE               -0.031321\n",
       "READY_TO_MOVE           -0.055317\n",
       "RESALE                  -0.207321\n",
       "Name: TARGET(PRICE_IN_LACS), dtype: float64"
      ]
     },
     "execution_count": 73,
     "metadata": {},
     "output_type": "execute_result"
    }
   ],
   "source": [
    "g=housing.drop(['POSTED_BY', 'BHK_OR_RK', 'ADDRESS'], axis=1)\n",
    "corr_matriix=g.corr()\n",
    "corr_matriix['TARGET(PRICE_IN_LACS)'].sort_values(ascending=False)"
   ]
  },
  {
   "cell_type": "code",
   "execution_count": 74,
   "metadata": {},
   "outputs": [
    {
     "data": {
      "text/html": [
       "<div>\n",
       "<style scoped>\n",
       "    .dataframe tbody tr th:only-of-type {\n",
       "        vertical-align: middle;\n",
       "    }\n",
       "\n",
       "    .dataframe tbody tr th {\n",
       "        vertical-align: top;\n",
       "    }\n",
       "\n",
       "    .dataframe thead th {\n",
       "        text-align: right;\n",
       "    }\n",
       "</style>\n",
       "<table border=\"1\" class=\"dataframe\">\n",
       "  <thead>\n",
       "    <tr style=\"text-align: right;\">\n",
       "      <th></th>\n",
       "      <th>UNDER_CONSTRUCTION</th>\n",
       "      <th>RERA</th>\n",
       "      <th>BHK_NO.</th>\n",
       "      <th>SQUARE_FT</th>\n",
       "      <th>READY_TO_MOVE</th>\n",
       "      <th>RESALE</th>\n",
       "      <th>LONGITUDE</th>\n",
       "      <th>LATITUDE</th>\n",
       "      <th>TARGET(PRICE_IN_LACS)</th>\n",
       "    </tr>\n",
       "  </thead>\n",
       "  <tbody>\n",
       "    <tr>\n",
       "      <th>UNDER_CONSTRUCTION</th>\n",
       "      <td>1.000000</td>\n",
       "      <td>0.363885</td>\n",
       "      <td>-0.041522</td>\n",
       "      <td>-0.004203</td>\n",
       "      <td>-1.000000</td>\n",
       "      <td>-0.347428</td>\n",
       "      <td>0.006626</td>\n",
       "      <td>-0.000392</td>\n",
       "      <td>0.055317</td>\n",
       "    </tr>\n",
       "    <tr>\n",
       "      <th>RERA</th>\n",
       "      <td>0.363885</td>\n",
       "      <td>1.000000</td>\n",
       "      <td>0.006878</td>\n",
       "      <td>-0.006228</td>\n",
       "      <td>-0.363885</td>\n",
       "      <td>-0.270386</td>\n",
       "      <td>0.105215</td>\n",
       "      <td>-0.065118</td>\n",
       "      <td>0.067515</td>\n",
       "    </tr>\n",
       "    <tr>\n",
       "      <th>BHK_NO.</th>\n",
       "      <td>-0.041522</td>\n",
       "      <td>0.006878</td>\n",
       "      <td>1.000000</td>\n",
       "      <td>0.005171</td>\n",
       "      <td>0.041522</td>\n",
       "      <td>0.015260</td>\n",
       "      <td>0.062493</td>\n",
       "      <td>0.046203</td>\n",
       "      <td>0.111822</td>\n",
       "    </tr>\n",
       "    <tr>\n",
       "      <th>SQUARE_FT</th>\n",
       "      <td>-0.004203</td>\n",
       "      <td>-0.006228</td>\n",
       "      <td>0.005171</td>\n",
       "      <td>1.000000</td>\n",
       "      <td>0.004203</td>\n",
       "      <td>0.001731</td>\n",
       "      <td>-0.012586</td>\n",
       "      <td>0.000803</td>\n",
       "      <td>0.402666</td>\n",
       "    </tr>\n",
       "    <tr>\n",
       "      <th>READY_TO_MOVE</th>\n",
       "      <td>-1.000000</td>\n",
       "      <td>-0.363885</td>\n",
       "      <td>0.041522</td>\n",
       "      <td>0.004203</td>\n",
       "      <td>1.000000</td>\n",
       "      <td>0.347428</td>\n",
       "      <td>-0.006626</td>\n",
       "      <td>0.000392</td>\n",
       "      <td>-0.055317</td>\n",
       "    </tr>\n",
       "    <tr>\n",
       "      <th>RESALE</th>\n",
       "      <td>-0.347428</td>\n",
       "      <td>-0.270386</td>\n",
       "      <td>0.015260</td>\n",
       "      <td>0.001731</td>\n",
       "      <td>0.347428</td>\n",
       "      <td>1.000000</td>\n",
       "      <td>0.023920</td>\n",
       "      <td>0.014850</td>\n",
       "      <td>-0.207321</td>\n",
       "    </tr>\n",
       "    <tr>\n",
       "      <th>LONGITUDE</th>\n",
       "      <td>0.006626</td>\n",
       "      <td>0.105215</td>\n",
       "      <td>0.062493</td>\n",
       "      <td>-0.012586</td>\n",
       "      <td>-0.006626</td>\n",
       "      <td>0.023920</td>\n",
       "      <td>1.000000</td>\n",
       "      <td>-0.155052</td>\n",
       "      <td>-0.031321</td>\n",
       "    </tr>\n",
       "    <tr>\n",
       "      <th>LATITUDE</th>\n",
       "      <td>-0.000392</td>\n",
       "      <td>-0.065118</td>\n",
       "      <td>0.046203</td>\n",
       "      <td>0.000803</td>\n",
       "      <td>0.000392</td>\n",
       "      <td>0.014850</td>\n",
       "      <td>-0.155052</td>\n",
       "      <td>1.000000</td>\n",
       "      <td>-0.017240</td>\n",
       "    </tr>\n",
       "    <tr>\n",
       "      <th>TARGET(PRICE_IN_LACS)</th>\n",
       "      <td>0.055317</td>\n",
       "      <td>0.067515</td>\n",
       "      <td>0.111822</td>\n",
       "      <td>0.402666</td>\n",
       "      <td>-0.055317</td>\n",
       "      <td>-0.207321</td>\n",
       "      <td>-0.031321</td>\n",
       "      <td>-0.017240</td>\n",
       "      <td>1.000000</td>\n",
       "    </tr>\n",
       "  </tbody>\n",
       "</table>\n",
       "</div>"
      ],
      "text/plain": [
       "                       UNDER_CONSTRUCTION      RERA   BHK_NO.  SQUARE_FT  \\\n",
       "UNDER_CONSTRUCTION               1.000000  0.363885 -0.041522  -0.004203   \n",
       "RERA                             0.363885  1.000000  0.006878  -0.006228   \n",
       "BHK_NO.                         -0.041522  0.006878  1.000000   0.005171   \n",
       "SQUARE_FT                       -0.004203 -0.006228  0.005171   1.000000   \n",
       "READY_TO_MOVE                   -1.000000 -0.363885  0.041522   0.004203   \n",
       "RESALE                          -0.347428 -0.270386  0.015260   0.001731   \n",
       "LONGITUDE                        0.006626  0.105215  0.062493  -0.012586   \n",
       "LATITUDE                        -0.000392 -0.065118  0.046203   0.000803   \n",
       "TARGET(PRICE_IN_LACS)            0.055317  0.067515  0.111822   0.402666   \n",
       "\n",
       "                       READY_TO_MOVE    RESALE  LONGITUDE  LATITUDE  \\\n",
       "UNDER_CONSTRUCTION         -1.000000 -0.347428   0.006626 -0.000392   \n",
       "RERA                       -0.363885 -0.270386   0.105215 -0.065118   \n",
       "BHK_NO.                     0.041522  0.015260   0.062493  0.046203   \n",
       "SQUARE_FT                   0.004203  0.001731  -0.012586  0.000803   \n",
       "READY_TO_MOVE               1.000000  0.347428  -0.006626  0.000392   \n",
       "RESALE                      0.347428  1.000000   0.023920  0.014850   \n",
       "LONGITUDE                  -0.006626  0.023920   1.000000 -0.155052   \n",
       "LATITUDE                    0.000392  0.014850  -0.155052  1.000000   \n",
       "TARGET(PRICE_IN_LACS)      -0.055317 -0.207321  -0.031321 -0.017240   \n",
       "\n",
       "                       TARGET(PRICE_IN_LACS)  \n",
       "UNDER_CONSTRUCTION                  0.055317  \n",
       "RERA                                0.067515  \n",
       "BHK_NO.                             0.111822  \n",
       "SQUARE_FT                           0.402666  \n",
       "READY_TO_MOVE                      -0.055317  \n",
       "RESALE                             -0.207321  \n",
       "LONGITUDE                          -0.031321  \n",
       "LATITUDE                           -0.017240  \n",
       "TARGET(PRICE_IN_LACS)               1.000000  "
      ]
     },
     "execution_count": 74,
     "metadata": {},
     "output_type": "execute_result"
    }
   ],
   "source": [
    "g.corr()"
   ]
  },
  {
   "cell_type": "code",
   "execution_count": 75,
   "metadata": {},
   "outputs": [
    {
     "data": {
      "text/plain": [
       "<Axes: xlabel='TARGET(PRICE_IN_LACS)', ylabel='SQUARE_FT'>"
      ]
     },
     "execution_count": 75,
     "metadata": {},
     "output_type": "execute_result"
    },
    {
     "data": {
      "image/png": "[encoded data removed]",
      "text/plain": [
       "<Figure size 1200x800 with 16 Axes>"
      ]
     },
     "metadata": {},
     "output_type": "display_data"
    },
    {
     "data": {
      "image/png": "[encoded data removed]",
      "text/plain": [
       "<Figure size 640x480 with 1 Axes>"
      ]
     },
     "metadata": {},
     "output_type": "display_data"
    },
    {
     "data": {
      "image/png": "[encoded data removed]",
      "text/plain": [
       "<Figure size 640x480 with 1 Axes>"
      ]
     },
     "metadata": {},
     "output_type": "display_data"
    }
   ],
   "source": [
    "from pandas.plotting import scatter_matrix\n",
    "attributes=['TARGET(PRICE_IN_LACS)','BHK_NO.','SQUARE_FT','RERA']\n",
    "scatter_matrix(housing[attributes],figsize=(12,8))\n",
    "housing.plot(kind=\"scatter\",x='BHK_NO.',y='TARGET(PRICE_IN_LACS)',alpha=1)\n",
    "housing.plot(kind=\"scatter\",x='TARGET(PRICE_IN_LACS)',y='SQUARE_FT',alpha=0.8)"
   ]
  },
  {
   "cell_type": "code",
   "execution_count": 76,
   "metadata": {},
   "outputs": [],
   "source": [
    "housing['Price_Per_SQFT']=(housing['TARGET(PRICE_IN_LACS)']*100000)/housing['SQUARE_FT']"
   ]
  },
  {
   "cell_type": "code",
   "execution_count": 77,
   "metadata": {},
   "outputs": [
    {
     "data": {
      "text/plain": [
       "count    2.946000e+04\n",
       "mean     7.202504e+03\n",
       "std      6.574305e+05\n",
       "min      1.500000e+00\n",
       "25%      4.500248e+02\n",
       "50%      5.316770e+02\n",
       "75%      6.125828e+02\n",
       "max      8.484848e+07\n",
       "dtype: float64"
      ]
     },
     "execution_count": 77,
     "metadata": {},
     "output_type": "execute_result"
    }
   ],
   "source": [
    "(housing['SQUARE_FT']/housing['BHK_NO.']).describe()"
   ]
  },
  {
   "cell_type": "code",
   "execution_count": 78,
   "metadata": {},
   "outputs": [
    {
     "data": {
      "text/plain": [
       "BHK_OR_RK\n",
       "BHK    29436\n",
       "RK        24\n",
       "Name: count, dtype: int64"
      ]
     },
     "execution_count": 78,
     "metadata": {},
     "output_type": "execute_result"
    }
   ],
   "source": [
    "housing['BHK_OR_RK'].value_counts()"
   ]
  },
  {
   "cell_type": "code",
   "execution_count": 79,
   "metadata": {},
   "outputs": [],
   "source": [
    "housing=housing.drop(['POSTED_BY','LONGITUDE','LATITUDE'],axis=1)"
   ]
  },
  {
   "cell_type": "markdown",
   "metadata": {},
   "source": [
    "## Removing price outliers"
   ]
  },
  {
   "cell_type": "code",
   "execution_count": 80,
   "metadata": {},
   "outputs": [
    {
     "data": {
      "text/html": [
       "<div>\n",
       "<style scoped>\n",
       "    .dataframe tbody tr th:only-of-type {\n",
       "        vertical-align: middle;\n",
       "    }\n",
       "\n",
       "    .dataframe tbody tr th {\n",
       "        vertical-align: top;\n",
       "    }\n",
       "\n",
       "    .dataframe thead th {\n",
       "        text-align: right;\n",
       "    }\n",
       "</style>\n",
       "<table border=\"1\" class=\"dataframe\">\n",
       "  <thead>\n",
       "    <tr style=\"text-align: right;\">\n",
       "      <th></th>\n",
       "      <th>UNDER_CONSTRUCTION</th>\n",
       "      <th>RERA</th>\n",
       "      <th>BHK_NO.</th>\n",
       "      <th>SQUARE_FT</th>\n",
       "      <th>READY_TO_MOVE</th>\n",
       "      <th>RESALE</th>\n",
       "      <th>TARGET(PRICE_IN_LACS)</th>\n",
       "      <th>Price_Per_SQFT</th>\n",
       "    </tr>\n",
       "  </thead>\n",
       "  <tbody>\n",
       "    <tr>\n",
       "      <th>count</th>\n",
       "      <td>29460.000000</td>\n",
       "      <td>29460.000000</td>\n",
       "      <td>29460.000000</td>\n",
       "      <td>2.946000e+04</td>\n",
       "      <td>29460.000000</td>\n",
       "      <td>29460.000000</td>\n",
       "      <td>29460.000000</td>\n",
       "      <td>29460.000000</td>\n",
       "    </tr>\n",
       "    <tr>\n",
       "      <th>mean</th>\n",
       "      <td>0.179701</td>\n",
       "      <td>0.317821</td>\n",
       "      <td>2.395519</td>\n",
       "      <td>1.979932e+04</td>\n",
       "      <td>0.820299</td>\n",
       "      <td>0.929599</td>\n",
       "      <td>143.007840</td>\n",
       "      <td>7503.106178</td>\n",
       "    </tr>\n",
       "    <tr>\n",
       "      <th>std</th>\n",
       "      <td>0.383945</td>\n",
       "      <td>0.465637</td>\n",
       "      <td>0.898294</td>\n",
       "      <td>1.901044e+06</td>\n",
       "      <td>0.383945</td>\n",
       "      <td>0.255825</td>\n",
       "      <td>656.810013</td>\n",
       "      <td>10846.424169</td>\n",
       "    </tr>\n",
       "    <tr>\n",
       "      <th>min</th>\n",
       "      <td>0.000000</td>\n",
       "      <td>0.000000</td>\n",
       "      <td>1.000000</td>\n",
       "      <td>3.000000e+00</td>\n",
       "      <td>0.000000</td>\n",
       "      <td>0.000000</td>\n",
       "      <td>0.250000</td>\n",
       "      <td>1.000000</td>\n",
       "    </tr>\n",
       "    <tr>\n",
       "      <th>25%</th>\n",
       "      <td>0.000000</td>\n",
       "      <td>0.000000</td>\n",
       "      <td>2.000000</td>\n",
       "      <td>9.000225e+02</td>\n",
       "      <td>1.000000</td>\n",
       "      <td>1.000000</td>\n",
       "      <td>38.000000</td>\n",
       "      <td>3553.000000</td>\n",
       "    </tr>\n",
       "    <tr>\n",
       "      <th>50%</th>\n",
       "      <td>0.000000</td>\n",
       "      <td>0.000000</td>\n",
       "      <td>2.000000</td>\n",
       "      <td>1.175088e+03</td>\n",
       "      <td>1.000000</td>\n",
       "      <td>1.000000</td>\n",
       "      <td>62.000000</td>\n",
       "      <td>5093.000000</td>\n",
       "    </tr>\n",
       "    <tr>\n",
       "      <th>75%</th>\n",
       "      <td>0.000000</td>\n",
       "      <td>1.000000</td>\n",
       "      <td>3.000000</td>\n",
       "      <td>1.552067e+03</td>\n",
       "      <td>1.000000</td>\n",
       "      <td>1.000000</td>\n",
       "      <td>100.000000</td>\n",
       "      <td>8055.000000</td>\n",
       "    </tr>\n",
       "    <tr>\n",
       "      <th>max</th>\n",
       "      <td>1.000000</td>\n",
       "      <td>1.000000</td>\n",
       "      <td>20.000000</td>\n",
       "      <td>2.545455e+08</td>\n",
       "      <td>1.000000</td>\n",
       "      <td>1.000000</td>\n",
       "      <td>30000.000000</td>\n",
       "      <td>900000.000000</td>\n",
       "    </tr>\n",
       "  </tbody>\n",
       "</table>\n",
       "</div>"
      ],
      "text/plain": [
       "       UNDER_CONSTRUCTION          RERA       BHK_NO.     SQUARE_FT  \\\n",
       "count        29460.000000  29460.000000  29460.000000  2.946000e+04   \n",
       "mean             0.179701      0.317821      2.395519  1.979932e+04   \n",
       "std              0.383945      0.465637      0.898294  1.901044e+06   \n",
       "min              0.000000      0.000000      1.000000  3.000000e+00   \n",
       "25%              0.000000      0.000000      2.000000  9.000225e+02   \n",
       "50%              0.000000      0.000000      2.000000  1.175088e+03   \n",
       "75%              0.000000      1.000000      3.000000  1.552067e+03   \n",
       "max              1.000000      1.000000     20.000000  2.545455e+08   \n",
       "\n",
       "       READY_TO_MOVE        RESALE  TARGET(PRICE_IN_LACS)  Price_Per_SQFT  \n",
       "count   29460.000000  29460.000000           29460.000000    29460.000000  \n",
       "mean        0.820299      0.929599             143.007840     7503.106178  \n",
       "std         0.383945      0.255825             656.810013    10846.424169  \n",
       "min         0.000000      0.000000               0.250000        1.000000  \n",
       "25%         1.000000      1.000000              38.000000     3553.000000  \n",
       "50%         1.000000      1.000000              62.000000     5093.000000  \n",
       "75%         1.000000      1.000000             100.000000     8055.000000  \n",
       "max         1.000000      1.000000           30000.000000   900000.000000  "
      ]
     },
     "execution_count": 80,
     "metadata": {},
     "output_type": "execute_result"
    }
   ],
   "source": [
    "housing.describe()"
   ]
  },
  {
   "cell_type": "code",
   "execution_count": 81,
   "metadata": {},
   "outputs": [
    {
     "name": "stderr",
     "output_type": "stream",
     "text": [
      "C:\\Users\\gs671\\AppData\\Local\\Temp\\ipykernel_8976\\3282118947.py:2: UserWarning: \n",
      "\n",
      "`distplot` is a deprecated function and will be removed in seaborn v0.14.0.\n",
      "\n",
      "Please adapt your code to use either `displot` (a figure-level function with\n",
      "similar flexibility) or `histplot` (an axes-level function for histograms).\n",
      "\n",
      "For a guide to updating your code to use the new functions, please see\n",
      "https://gist.github.com/mwaskom/de44147ed2974457ad6372750bbe5751\n",
      "\n",
      "  sns.distplot(housing['TARGET(PRICE_IN_LACS)'])\n"
     ]
    },
    {
     "data": {
      "text/plain": [
       "<Axes: xlabel='TARGET(PRICE_IN_LACS)', ylabel='Density'>"
      ]
     },
     "execution_count": 81,
     "metadata": {},
     "output_type": "execute_result"
    },
    {
     "data": {
      "image/png": "[encoded data removed]",
      "text/plain": [
       "<Figure size 640x480 with 1 Axes>"
      ]
     },
     "metadata": {},
     "output_type": "display_data"
    }
   ],
   "source": [
    "import seaborn as sns\n",
    "sns.distplot(housing['TARGET(PRICE_IN_LACS)'])"
   ]
  },
  {
   "cell_type": "code",
   "execution_count": 82,
   "metadata": {},
   "outputs": [
    {
     "data": {
      "text/plain": [
       "TARGET(PRICE_IN_LACS)\n",
       "110.0      795\n",
       "100.0      770\n",
       "120.0      652\n",
       "130.0      598\n",
       "45.0       583\n",
       "          ... \n",
       "86.1         1\n",
       "1550.0       1\n",
       "28000.0      1\n",
       "9910.0       1\n",
       "18.3         1\n",
       "Name: count, Length: 1172, dtype: int64"
      ]
     },
     "execution_count": 82,
     "metadata": {},
     "output_type": "execute_result"
    }
   ],
   "source": [
    "housing['TARGET(PRICE_IN_LACS)'].value_counts()"
   ]
  },
  {
   "cell_type": "code",
   "execution_count": 83,
   "metadata": {},
   "outputs": [
    {
     "data": {
      "text/html": [
       "<div>\n",
       "<style scoped>\n",
       "    .dataframe tbody tr th:only-of-type {\n",
       "        vertical-align: middle;\n",
       "    }\n",
       "\n",
       "    .dataframe tbody tr th {\n",
       "        vertical-align: top;\n",
       "    }\n",
       "\n",
       "    .dataframe thead th {\n",
       "        text-align: right;\n",
       "    }\n",
       "</style>\n",
       "<table border=\"1\" class=\"dataframe\">\n",
       "  <thead>\n",
       "    <tr style=\"text-align: right;\">\n",
       "      <th></th>\n",
       "      <th>UNDER_CONSTRUCTION</th>\n",
       "      <th>RERA</th>\n",
       "      <th>BHK_NO.</th>\n",
       "      <th>SQUARE_FT</th>\n",
       "      <th>READY_TO_MOVE</th>\n",
       "      <th>RESALE</th>\n",
       "      <th>TARGET(PRICE_IN_LACS)</th>\n",
       "      <th>Price_Per_SQFT</th>\n",
       "    </tr>\n",
       "  </thead>\n",
       "  <tbody>\n",
       "    <tr>\n",
       "      <th>count</th>\n",
       "      <td>29460.000000</td>\n",
       "      <td>29460.000000</td>\n",
       "      <td>29460.000000</td>\n",
       "      <td>2.946000e+04</td>\n",
       "      <td>29460.000000</td>\n",
       "      <td>29460.000000</td>\n",
       "      <td>29460.000000</td>\n",
       "      <td>29460.000000</td>\n",
       "    </tr>\n",
       "    <tr>\n",
       "      <th>mean</th>\n",
       "      <td>0.179701</td>\n",
       "      <td>0.317821</td>\n",
       "      <td>2.395519</td>\n",
       "      <td>1.979932e+04</td>\n",
       "      <td>0.820299</td>\n",
       "      <td>0.929599</td>\n",
       "      <td>143.007840</td>\n",
       "      <td>7503.106178</td>\n",
       "    </tr>\n",
       "    <tr>\n",
       "      <th>std</th>\n",
       "      <td>0.383945</td>\n",
       "      <td>0.465637</td>\n",
       "      <td>0.898294</td>\n",
       "      <td>1.901044e+06</td>\n",
       "      <td>0.383945</td>\n",
       "      <td>0.255825</td>\n",
       "      <td>656.810013</td>\n",
       "      <td>10846.424169</td>\n",
       "    </tr>\n",
       "    <tr>\n",
       "      <th>min</th>\n",
       "      <td>0.000000</td>\n",
       "      <td>0.000000</td>\n",
       "      <td>1.000000</td>\n",
       "      <td>3.000000e+00</td>\n",
       "      <td>0.000000</td>\n",
       "      <td>0.000000</td>\n",
       "      <td>0.250000</td>\n",
       "      <td>1.000000</td>\n",
       "    </tr>\n",
       "    <tr>\n",
       "      <th>25%</th>\n",
       "      <td>0.000000</td>\n",
       "      <td>0.000000</td>\n",
       "      <td>2.000000</td>\n",
       "      <td>9.000225e+02</td>\n",
       "      <td>1.000000</td>\n",
       "      <td>1.000000</td>\n",
       "      <td>38.000000</td>\n",
       "      <td>3553.000000</td>\n",
       "    </tr>\n",
       "    <tr>\n",
       "      <th>50%</th>\n",
       "      <td>0.000000</td>\n",
       "      <td>0.000000</td>\n",
       "      <td>2.000000</td>\n",
       "      <td>1.175088e+03</td>\n",
       "      <td>1.000000</td>\n",
       "      <td>1.000000</td>\n",
       "      <td>62.000000</td>\n",
       "      <td>5093.000000</td>\n",
       "    </tr>\n",
       "    <tr>\n",
       "      <th>75%</th>\n",
       "      <td>0.000000</td>\n",
       "      <td>1.000000</td>\n",
       "      <td>3.000000</td>\n",
       "      <td>1.552067e+03</td>\n",
       "      <td>1.000000</td>\n",
       "      <td>1.000000</td>\n",
       "      <td>100.000000</td>\n",
       "      <td>8055.000000</td>\n",
       "    </tr>\n",
       "    <tr>\n",
       "      <th>max</th>\n",
       "      <td>1.000000</td>\n",
       "      <td>1.000000</td>\n",
       "      <td>20.000000</td>\n",
       "      <td>2.545455e+08</td>\n",
       "      <td>1.000000</td>\n",
       "      <td>1.000000</td>\n",
       "      <td>30000.000000</td>\n",
       "      <td>900000.000000</td>\n",
       "    </tr>\n",
       "  </tbody>\n",
       "</table>\n",
       "</div>"
      ],
      "text/plain": [
       "       UNDER_CONSTRUCTION          RERA       BHK_NO.     SQUARE_FT  \\\n",
       "count        29460.000000  29460.000000  29460.000000  2.946000e+04   \n",
       "mean             0.179701      0.317821      2.395519  1.979932e+04   \n",
       "std              0.383945      0.465637      0.898294  1.901044e+06   \n",
       "min              0.000000      0.000000      1.000000  3.000000e+00   \n",
       "25%              0.000000      0.000000      2.000000  9.000225e+02   \n",
       "50%              0.000000      0.000000      2.000000  1.175088e+03   \n",
       "75%              0.000000      1.000000      3.000000  1.552067e+03   \n",
       "max              1.000000      1.000000     20.000000  2.545455e+08   \n",
       "\n",
       "       READY_TO_MOVE        RESALE  TARGET(PRICE_IN_LACS)  Price_Per_SQFT  \n",
       "count   29460.000000  29460.000000           29460.000000    29460.000000  \n",
       "mean        0.820299      0.929599             143.007840     7503.106178  \n",
       "std         0.383945      0.255825             656.810013    10846.424169  \n",
       "min         0.000000      0.000000               0.250000        1.000000  \n",
       "25%         1.000000      1.000000              38.000000     3553.000000  \n",
       "50%         1.000000      1.000000              62.000000     5093.000000  \n",
       "75%         1.000000      1.000000             100.000000     8055.000000  \n",
       "max         1.000000      1.000000           30000.000000   900000.000000  "
      ]
     },
     "execution_count": 83,
     "metadata": {},
     "output_type": "execute_result"
    }
   ],
   "source": [
    "housing.describe()"
   ]
  },
  {
   "cell_type": "code",
   "execution_count": 84,
   "metadata": {},
   "outputs": [
    {
     "data": {
      "text/plain": [
       "62.0"
      ]
     },
     "execution_count": 84,
     "metadata": {},
     "output_type": "execute_result"
    }
   ],
   "source": [
    "#import numpy as np\n",
    "Q1 = np.percentile(housing['TARGET(PRICE_IN_LACS)'],25)\n",
    "Q3 = np.percentile(housing['TARGET(PRICE_IN_LACS)'], 75)\n",
    "IQR = Q3 - Q1\n",
    "IQR"
   ]
  },
  {
   "cell_type": "code",
   "execution_count": 85,
   "metadata": {},
   "outputs": [],
   "source": [
    "upper = np.where(housing['TARGET(PRICE_IN_LACS)'] > (Q3+1.5*IQR))\n",
    "# Lower bound\n",
    "lower = np.where(housing['TARGET(PRICE_IN_LACS)'] < (Q1-1.5*IQR))"
   ]
  },
  {
   "cell_type": "code",
   "execution_count": 86,
   "metadata": {},
   "outputs": [],
   "source": [
    "housing.drop(upper[0], inplace = True)\n",
    "housing.drop(lower[0], inplace = True)"
   ]
  },
  {
   "cell_type": "code",
   "execution_count": 87,
   "metadata": {},
   "outputs": [
    {
     "data": {
      "text/plain": [
       "(26367, 10)"
      ]
     },
     "execution_count": 87,
     "metadata": {},
     "output_type": "execute_result"
    }
   ],
   "source": [
    "housing.shape"
   ]
  },
  {
   "cell_type": "code",
   "execution_count": 88,
   "metadata": {},
   "outputs": [],
   "source": [
    "#housing =housing.sort_values('TARGET(PRICE_IN_LACS)',ascending=False)"
   ]
  },
  {
   "cell_type": "code",
   "execution_count": 89,
   "metadata": {},
   "outputs": [
    {
     "name": "stderr",
     "output_type": "stream",
     "text": [
      "C:\\Users\\gs671\\AppData\\Local\\Temp\\ipykernel_8976\\4208369730.py:1: UserWarning: \n",
      "\n",
      "`distplot` is a deprecated function and will be removed in seaborn v0.14.0.\n",
      "\n",
      "Please adapt your code to use either `displot` (a figure-level function with\n",
      "similar flexibility) or `histplot` (an axes-level function for histograms).\n",
      "\n",
      "For a guide to updating your code to use the new functions, please see\n",
      "https://gist.github.com/mwaskom/de44147ed2974457ad6372750bbe5751\n",
      "\n",
      "  sns.distplot(housing['TARGET(PRICE_IN_LACS)'])\n"
     ]
    },
    {
     "data": {
      "text/plain": [
       "<Axes: xlabel='TARGET(PRICE_IN_LACS)', ylabel='Density'>"
      ]
     },
     "execution_count": 89,
     "metadata": {},
     "output_type": "execute_result"
    },
    {
     "data": {
      "image/png": "[encoded data removed]",
      "text/plain": [
       "<Figure size 640x480 with 1 Axes>"
      ]
     },
     "metadata": {},
     "output_type": "display_data"
    }
   ],
   "source": [
    "sns.distplot(housing['TARGET(PRICE_IN_LACS)'])"
   ]
  },
  {
   "cell_type": "markdown",
   "metadata": {},
   "source": [
    "## Cleaning the outliers of sqft"
   ]
  },
  {
   "cell_type": "code",
   "execution_count": 90,
   "metadata": {},
   "outputs": [
    {
     "name": "stderr",
     "output_type": "stream",
     "text": [
      "C:\\Users\\gs671\\AppData\\Local\\Temp\\ipykernel_8976\\989767318.py:1: UserWarning: \n",
      "\n",
      "`distplot` is a deprecated function and will be removed in seaborn v0.14.0.\n",
      "\n",
      "Please adapt your code to use either `displot` (a figure-level function with\n",
      "similar flexibility) or `histplot` (an axes-level function for histograms).\n",
      "\n",
      "For a guide to updating your code to use the new functions, please see\n",
      "https://gist.github.com/mwaskom/de44147ed2974457ad6372750bbe5751\n",
      "\n",
      "  sns.distplot(housing['SQUARE_FT'])\n"
     ]
    },
    {
     "data": {
      "text/plain": [
       "<Axes: xlabel='SQUARE_FT', ylabel='Density'>"
      ]
     },
     "execution_count": 90,
     "metadata": {},
     "output_type": "execute_result"
    },
    {
     "data": {
      "image/png": "[encoded data removed]",
      "text/plain": [
       "<Figure size 640x480 with 1 Axes>"
      ]
     },
     "metadata": {},
     "output_type": "display_data"
    }
   ],
   "source": [
    "sns.distplot(housing['SQUARE_FT'])"
   ]
  },
  {
   "cell_type": "code",
   "execution_count": 91,
   "metadata": {},
   "outputs": [
    {
     "data": {
      "text/plain": [
       "SQUARE_FT\n",
       "1000.000000    467\n",
       "1250.000000    277\n",
       "800.000000     198\n",
       "1200.000000    175\n",
       "1500.000000    107\n",
       "              ... \n",
       "1655.115341      1\n",
       "2102.631579      1\n",
       "620.113238       1\n",
       "1039.046265      1\n",
       "896.774194       1\n",
       "Name: count, Length: 17265, dtype: int64"
      ]
     },
     "execution_count": 91,
     "metadata": {},
     "output_type": "execute_result"
    }
   ],
   "source": [
    "housing['SQUARE_FT'].value_counts()"
   ]
  },
  {
   "cell_type": "code",
   "execution_count": 92,
   "metadata": {},
   "outputs": [
    {
     "data": {
      "text/plain": [
       "(624.03152416, 1812.3020378000006, 1188.2705136400004)"
      ]
     },
     "execution_count": 92,
     "metadata": {},
     "output_type": "execute_result"
    }
   ],
   "source": [
    "s1=np.percentile(housing['SQUARE_FT'],10)\n",
    "s3=np.percentile(housing['SQUARE_FT'], 90)\n",
    "sqr=s3-s1\n",
    "s1,s3,sqr"
   ]
  },
  {
   "cell_type": "code",
   "execution_count": 93,
   "metadata": {},
   "outputs": [
    {
     "name": "stdout",
     "output_type": "stream",
     "text": [
      "0.23746942380685657\n"
     ]
    }
   ],
   "source": [
    "housing['SQUARE_FT']  = np.where(housing['SQUARE_FT'] <621, 621,housing['SQUARE_FT'] )\n",
    "housing['SQUARE_FT']  = np.where(housing['SQUARE_FT'] > 1814,  1814,housing['SQUARE_FT'] )\n",
    "print(housing['SQUARE_FT'] .skew())"
   ]
  },
  {
   "cell_type": "code",
   "execution_count": 94,
   "metadata": {},
   "outputs": [
    {
     "data": {
      "text/html": [
       "<div>\n",
       "<style scoped>\n",
       "    .dataframe tbody tr th:only-of-type {\n",
       "        vertical-align: middle;\n",
       "    }\n",
       "\n",
       "    .dataframe tbody tr th {\n",
       "        vertical-align: top;\n",
       "    }\n",
       "\n",
       "    .dataframe thead th {\n",
       "        text-align: right;\n",
       "    }\n",
       "</style>\n",
       "<table border=\"1\" class=\"dataframe\">\n",
       "  <thead>\n",
       "    <tr style=\"text-align: right;\">\n",
       "      <th></th>\n",
       "      <th>UNDER_CONSTRUCTION</th>\n",
       "      <th>RERA</th>\n",
       "      <th>BHK_NO.</th>\n",
       "      <th>SQUARE_FT</th>\n",
       "      <th>READY_TO_MOVE</th>\n",
       "      <th>RESALE</th>\n",
       "      <th>TARGET(PRICE_IN_LACS)</th>\n",
       "      <th>Price_Per_SQFT</th>\n",
       "    </tr>\n",
       "  </thead>\n",
       "  <tbody>\n",
       "    <tr>\n",
       "      <th>count</th>\n",
       "      <td>26367.000000</td>\n",
       "      <td>26367.000000</td>\n",
       "      <td>26367.000000</td>\n",
       "      <td>26367.000000</td>\n",
       "      <td>26367.000000</td>\n",
       "      <td>26367.000000</td>\n",
       "      <td>26367.000000</td>\n",
       "      <td>26367.000000</td>\n",
       "    </tr>\n",
       "    <tr>\n",
       "      <th>mean</th>\n",
       "      <td>0.178822</td>\n",
       "      <td>0.306709</td>\n",
       "      <td>2.289225</td>\n",
       "      <td>1167.166184</td>\n",
       "      <td>0.821178</td>\n",
       "      <td>0.933895</td>\n",
       "      <td>66.153713</td>\n",
       "      <td>6005.852088</td>\n",
       "    </tr>\n",
       "    <tr>\n",
       "      <th>std</th>\n",
       "      <td>0.383210</td>\n",
       "      <td>0.461136</td>\n",
       "      <td>0.771180</td>\n",
       "      <td>380.063921</td>\n",
       "      <td>0.383210</td>\n",
       "      <td>0.248471</td>\n",
       "      <td>40.534850</td>\n",
       "      <td>8681.737034</td>\n",
       "    </tr>\n",
       "    <tr>\n",
       "      <th>min</th>\n",
       "      <td>0.000000</td>\n",
       "      <td>0.000000</td>\n",
       "      <td>1.000000</td>\n",
       "      <td>621.000000</td>\n",
       "      <td>0.000000</td>\n",
       "      <td>0.000000</td>\n",
       "      <td>0.250000</td>\n",
       "      <td>1.000000</td>\n",
       "    </tr>\n",
       "    <tr>\n",
       "      <th>25%</th>\n",
       "      <td>0.000000</td>\n",
       "      <td>0.000000</td>\n",
       "      <td>2.000000</td>\n",
       "      <td>860.296106</td>\n",
       "      <td>1.000000</td>\n",
       "      <td>1.000000</td>\n",
       "      <td>35.000000</td>\n",
       "      <td>3418.000000</td>\n",
       "    </tr>\n",
       "    <tr>\n",
       "      <th>50%</th>\n",
       "      <td>0.000000</td>\n",
       "      <td>0.000000</td>\n",
       "      <td>2.000000</td>\n",
       "      <td>1132.125733</td>\n",
       "      <td>1.000000</td>\n",
       "      <td>1.000000</td>\n",
       "      <td>55.000000</td>\n",
       "      <td>4736.000000</td>\n",
       "    </tr>\n",
       "    <tr>\n",
       "      <th>75%</th>\n",
       "      <td>0.000000</td>\n",
       "      <td>1.000000</td>\n",
       "      <td>3.000000</td>\n",
       "      <td>1450.326323</td>\n",
       "      <td>1.000000</td>\n",
       "      <td>1.000000</td>\n",
       "      <td>87.000000</td>\n",
       "      <td>6879.500001</td>\n",
       "    </tr>\n",
       "    <tr>\n",
       "      <th>max</th>\n",
       "      <td>1.000000</td>\n",
       "      <td>1.000000</td>\n",
       "      <td>20.000000</td>\n",
       "      <td>1814.000000</td>\n",
       "      <td>1.000000</td>\n",
       "      <td>1.000000</td>\n",
       "      <td>190.000000</td>\n",
       "      <td>900000.000000</td>\n",
       "    </tr>\n",
       "  </tbody>\n",
       "</table>\n",
       "</div>"
      ],
      "text/plain": [
       "       UNDER_CONSTRUCTION          RERA       BHK_NO.     SQUARE_FT  \\\n",
       "count        26367.000000  26367.000000  26367.000000  26367.000000   \n",
       "mean             0.178822      0.306709      2.289225   1167.166184   \n",
       "std              0.383210      0.461136      0.771180    380.063921   \n",
       "min              0.000000      0.000000      1.000000    621.000000   \n",
       "25%              0.000000      0.000000      2.000000    860.296106   \n",
       "50%              0.000000      0.000000      2.000000   1132.125733   \n",
       "75%              0.000000      1.000000      3.000000   1450.326323   \n",
       "max              1.000000      1.000000     20.000000   1814.000000   \n",
       "\n",
       "       READY_TO_MOVE        RESALE  TARGET(PRICE_IN_LACS)  Price_Per_SQFT  \n",
       "count   26367.000000  26367.000000           26367.000000    26367.000000  \n",
       "mean        0.821178      0.933895              66.153713     6005.852088  \n",
       "std         0.383210      0.248471              40.534850     8681.737034  \n",
       "min         0.000000      0.000000               0.250000        1.000000  \n",
       "25%         1.000000      1.000000              35.000000     3418.000000  \n",
       "50%         1.000000      1.000000              55.000000     4736.000000  \n",
       "75%         1.000000      1.000000              87.000000     6879.500001  \n",
       "max         1.000000      1.000000             190.000000   900000.000000  "
      ]
     },
     "execution_count": 94,
     "metadata": {},
     "output_type": "execute_result"
    }
   ],
   "source": [
    "housing = housing.sort_values('SQUARE_FT',ascending=False)\n",
    "housing.describe()"
   ]
  },
  {
   "cell_type": "code",
   "execution_count": 95,
   "metadata": {},
   "outputs": [
    {
     "data": {
      "text/plain": [
       "SQUARE_FT\n",
       "1814.000000    2633\n",
       "621.000000     2612\n",
       "1000.000000     467\n",
       "1250.000000     277\n",
       "800.000000      198\n",
       "               ... \n",
       "1274.141631       1\n",
       "1274.088231       1\n",
       "1274.078568       1\n",
       "1273.571221       1\n",
       "1150.038081       1\n",
       "Name: count, Length: 13338, dtype: int64"
      ]
     },
     "execution_count": 95,
     "metadata": {},
     "output_type": "execute_result"
    }
   ],
   "source": [
    "housing['SQUARE_FT'].value_counts()"
   ]
  },
  {
   "cell_type": "code",
   "execution_count": 96,
   "metadata": {},
   "outputs": [
    {
     "name": "stderr",
     "output_type": "stream",
     "text": [
      "C:\\Users\\gs671\\AppData\\Local\\Temp\\ipykernel_8976\\989767318.py:1: UserWarning: \n",
      "\n",
      "`distplot` is a deprecated function and will be removed in seaborn v0.14.0.\n",
      "\n",
      "Please adapt your code to use either `displot` (a figure-level function with\n",
      "similar flexibility) or `histplot` (an axes-level function for histograms).\n",
      "\n",
      "For a guide to updating your code to use the new functions, please see\n",
      "https://gist.github.com/mwaskom/de44147ed2974457ad6372750bbe5751\n",
      "\n",
      "  sns.distplot(housing['SQUARE_FT'])\n"
     ]
    },
    {
     "data": {
      "text/plain": [
       "<Axes: xlabel='SQUARE_FT', ylabel='Density'>"
      ]
     },
     "execution_count": 96,
     "metadata": {},
     "output_type": "execute_result"
    },
    {
     "data": {
      "image/png": "[encoded data removed]",
      "text/plain": [
       "<Figure size 640x480 with 1 Axes>"
      ]
     },
     "metadata": {},
     "output_type": "display_data"
    }
   ],
   "source": [
    "sns.distplot(housing['SQUARE_FT'])"
   ]
  },
  {
   "cell_type": "markdown",
   "metadata": {},
   "source": [
    "## Removing outliers of bhk no"
   ]
  },
  {
   "cell_type": "code",
   "execution_count": 97,
   "metadata": {},
   "outputs": [
    {
     "name": "stderr",
     "output_type": "stream",
     "text": [
      "C:\\Users\\gs671\\AppData\\Local\\Temp\\ipykernel_8976\\2967515802.py:1: UserWarning: \n",
      "\n",
      "`distplot` is a deprecated function and will be removed in seaborn v0.14.0.\n",
      "\n",
      "Please adapt your code to use either `displot` (a figure-level function with\n",
      "similar flexibility) or `histplot` (an axes-level function for histograms).\n",
      "\n",
      "For a guide to updating your code to use the new functions, please see\n",
      "https://gist.github.com/mwaskom/de44147ed2974457ad6372750bbe5751\n",
      "\n",
      "  sns.distplot(housing['BHK_NO.'])\n"
     ]
    },
    {
     "data": {
      "text/plain": [
       "<Axes: xlabel='BHK_NO.', ylabel='Density'>"
      ]
     },
     "execution_count": 97,
     "metadata": {},
     "output_type": "execute_result"
    },
    {
     "data": {
      "image/png": "[encoded data removed]",
      "text/plain": [
       "<Figure size 640x480 with 1 Axes>"
      ]
     },
     "metadata": {},
     "output_type": "display_data"
    }
   ],
   "source": [
    "sns.distplot(housing['BHK_NO.'])"
   ]
  },
  {
   "cell_type": "code",
   "execution_count": 98,
   "metadata": {},
   "outputs": [
    {
     "data": {
      "text/plain": [
       "BHK_NO.\n",
       "2    12794\n",
       "3     9079\n",
       "1     3538\n",
       "4      869\n",
       "5       56\n",
       "6       31\n",
       "Name: count, dtype: int64"
      ]
     },
     "execution_count": 98,
     "metadata": {},
     "output_type": "execute_result"
    }
   ],
   "source": [
    "housing['BHK_NO.'] = housing['BHK_NO.'].apply(lambda x: x if x < 6 else 6)\n",
    "housing['BHK_NO.'].value_counts()"
   ]
  },
  {
   "cell_type": "code",
   "execution_count": 99,
   "metadata": {},
   "outputs": [
    {
     "name": "stderr",
     "output_type": "stream",
     "text": [
      "C:\\Users\\gs671\\AppData\\Local\\Temp\\ipykernel_8976\\3468642219.py:1: UserWarning: \n",
      "\n",
      "`distplot` is a deprecated function and will be removed in seaborn v0.14.0.\n",
      "\n",
      "Please adapt your code to use either `displot` (a figure-level function with\n",
      "similar flexibility) or `histplot` (an axes-level function for histograms).\n",
      "\n",
      "For a guide to updating your code to use the new functions, please see\n",
      "https://gist.github.com/mwaskom/de44147ed2974457ad6372750bbe5751\n",
      "\n",
      "  sns.distplot(housing['BHK_NO.'])\n"
     ]
    },
    {
     "data": {
      "text/html": [
       "<div>\n",
       "<style scoped>\n",
       "    .dataframe tbody tr th:only-of-type {\n",
       "        vertical-align: middle;\n",
       "    }\n",
       "\n",
       "    .dataframe tbody tr th {\n",
       "        vertical-align: top;\n",
       "    }\n",
       "\n",
       "    .dataframe thead th {\n",
       "        text-align: right;\n",
       "    }\n",
       "</style>\n",
       "<table border=\"1\" class=\"dataframe\">\n",
       "  <thead>\n",
       "    <tr style=\"text-align: right;\">\n",
       "      <th></th>\n",
       "      <th>UNDER_CONSTRUCTION</th>\n",
       "      <th>RERA</th>\n",
       "      <th>BHK_NO.</th>\n",
       "      <th>SQUARE_FT</th>\n",
       "      <th>READY_TO_MOVE</th>\n",
       "      <th>RESALE</th>\n",
       "      <th>TARGET(PRICE_IN_LACS)</th>\n",
       "      <th>Price_Per_SQFT</th>\n",
       "    </tr>\n",
       "  </thead>\n",
       "  <tbody>\n",
       "    <tr>\n",
       "      <th>count</th>\n",
       "      <td>26367.000000</td>\n",
       "      <td>26367.000000</td>\n",
       "      <td>26367.000000</td>\n",
       "      <td>26367.000000</td>\n",
       "      <td>26367.000000</td>\n",
       "      <td>26367.000000</td>\n",
       "      <td>26367.000000</td>\n",
       "      <td>26367.000000</td>\n",
       "    </tr>\n",
       "    <tr>\n",
       "      <th>mean</th>\n",
       "      <td>0.178822</td>\n",
       "      <td>0.306709</td>\n",
       "      <td>2.287139</td>\n",
       "      <td>1167.166184</td>\n",
       "      <td>0.821178</td>\n",
       "      <td>0.933895</td>\n",
       "      <td>66.153713</td>\n",
       "      <td>6005.852088</td>\n",
       "    </tr>\n",
       "    <tr>\n",
       "      <th>std</th>\n",
       "      <td>0.383210</td>\n",
       "      <td>0.461136</td>\n",
       "      <td>0.752227</td>\n",
       "      <td>380.063921</td>\n",
       "      <td>0.383210</td>\n",
       "      <td>0.248471</td>\n",
       "      <td>40.534850</td>\n",
       "      <td>8681.737034</td>\n",
       "    </tr>\n",
       "    <tr>\n",
       "      <th>min</th>\n",
       "      <td>0.000000</td>\n",
       "      <td>0.000000</td>\n",
       "      <td>1.000000</td>\n",
       "      <td>621.000000</td>\n",
       "      <td>0.000000</td>\n",
       "      <td>0.000000</td>\n",
       "      <td>0.250000</td>\n",
       "      <td>1.000000</td>\n",
       "    </tr>\n",
       "    <tr>\n",
       "      <th>25%</th>\n",
       "      <td>0.000000</td>\n",
       "      <td>0.000000</td>\n",
       "      <td>2.000000</td>\n",
       "      <td>860.296106</td>\n",
       "      <td>1.000000</td>\n",
       "      <td>1.000000</td>\n",
       "      <td>35.000000</td>\n",
       "      <td>3418.000000</td>\n",
       "    </tr>\n",
       "    <tr>\n",
       "      <th>50%</th>\n",
       "      <td>0.000000</td>\n",
       "      <td>0.000000</td>\n",
       "      <td>2.000000</td>\n",
       "      <td>1132.125733</td>\n",
       "      <td>1.000000</td>\n",
       "      <td>1.000000</td>\n",
       "      <td>55.000000</td>\n",
       "      <td>4736.000000</td>\n",
       "    </tr>\n",
       "    <tr>\n",
       "      <th>75%</th>\n",
       "      <td>0.000000</td>\n",
       "      <td>1.000000</td>\n",
       "      <td>3.000000</td>\n",
       "      <td>1450.326323</td>\n",
       "      <td>1.000000</td>\n",
       "      <td>1.000000</td>\n",
       "      <td>87.000000</td>\n",
       "      <td>6879.500001</td>\n",
       "    </tr>\n",
       "    <tr>\n",
       "      <th>max</th>\n",
       "      <td>1.000000</td>\n",
       "      <td>1.000000</td>\n",
       "      <td>6.000000</td>\n",
       "      <td>1814.000000</td>\n",
       "      <td>1.000000</td>\n",
       "      <td>1.000000</td>\n",
       "      <td>190.000000</td>\n",
       "      <td>900000.000000</td>\n",
       "    </tr>\n",
       "  </tbody>\n",
       "</table>\n",
       "</div>"
      ],
      "text/plain": [
       "       UNDER_CONSTRUCTION          RERA       BHK_NO.     SQUARE_FT  \\\n",
       "count        26367.000000  26367.000000  26367.000000  26367.000000   \n",
       "mean             0.178822      0.306709      2.287139   1167.166184   \n",
       "std              0.383210      0.461136      0.752227    380.063921   \n",
       "min              0.000000      0.000000      1.000000    621.000000   \n",
       "25%              0.000000      0.000000      2.000000    860.296106   \n",
       "50%              0.000000      0.000000      2.000000   1132.125733   \n",
       "75%              0.000000      1.000000      3.000000   1450.326323   \n",
       "max              1.000000      1.000000      6.000000   1814.000000   \n",
       "\n",
       "       READY_TO_MOVE        RESALE  TARGET(PRICE_IN_LACS)  Price_Per_SQFT  \n",
       "count   26367.000000  26367.000000           26367.000000    26367.000000  \n",
       "mean        0.821178      0.933895              66.153713     6005.852088  \n",
       "std         0.383210      0.248471              40.534850     8681.737034  \n",
       "min         0.000000      0.000000               0.250000        1.000000  \n",
       "25%         1.000000      1.000000              35.000000     3418.000000  \n",
       "50%         1.000000      1.000000              55.000000     4736.000000  \n",
       "75%         1.000000      1.000000              87.000000     6879.500001  \n",
       "max         1.000000      1.000000             190.000000   900000.000000  "
      ]
     },
     "execution_count": 99,
     "metadata": {},
     "output_type": "execute_result"
    },
    {
     "data": {
      "image/png": "[encoded data removed]",
      "text/plain": [
       "<Figure size 640x480 with 1 Axes>"
      ]
     },
     "metadata": {},
     "output_type": "display_data"
    }
   ],
   "source": [
    "sns.distplot(housing['BHK_NO.'])\n",
    "housing.describe()"
   ]
  },
  {
   "cell_type": "code",
   "execution_count": 100,
   "metadata": {},
   "outputs": [],
   "source": [
    "housing=housing.drop(['UNDER_CONSTRUCTION','READY_TO_MOVE','RESALE','BHK_OR_RK','Price_Per_SQFT'],axis=1)"
   ]
  },
  {
   "cell_type": "code",
   "execution_count": 101,
   "metadata": {},
   "outputs": [],
   "source": [
    "housing.to_csv(\"cleaned_data.csv\")"
   ]
  },
  {
   "cell_type": "code",
   "execution_count": 102,
   "metadata": {},
   "outputs": [],
   "source": [
    "from sklearn import preprocessing\n",
    "def label_encoder(housing, column_name):\n",
    "    label_encoder = preprocessing.LabelEncoder()\n",
    "\n",
    "    housing[column_name]= label_encoder.fit_transform(housing[column_name])\n",
    "    print(column_name)\n",
    "    for i in range(len(housing[column_name].unique())):\n",
    "        print(\"For {} : {}\".format(i, label_encoder.inverse_transform([i])))\n",
    "    print('-'*10)\n",
    "    print(housing[column_name].value_counts())\n",
    "    print('-'*10)\n",
    "    \n",
    "    return housing[column_name], label_encoder"
   ]
  },
  {
   "cell_type": "code",
   "execution_count": 103,
   "metadata": {},
   "outputs": [
    {
     "name": "stdout",
     "output_type": "stream",
     "text": [
      "ADDRESS\n",
      "For 0 : ['Agartala']\n",
      "For 1 : ['Agra']\n",
      "For 2 : ['Ahmednagar']\n",
      "For 3 : ['Ajmer']\n",
      "For 4 : ['Akola']\n",
      "For 5 : ['Aligarh']\n",
      "For 6 : ['Allahabad']\n",
      "For 7 : ['Alwar']\n",
      "For 8 : ['Ambala']\n",
      "For 9 : ['Amravati']\n",
      "For 10 : ['Amritsar']\n",
      "For 11 : ['Amroha']\n",
      "For 12 : ['Anand']\n",
      "For 13 : ['Anantapur']\n",
      "For 14 : ['Angul']\n",
      "For 15 : ['Arrah']\n",
      "For 16 : ['Asansol']\n",
      "For 17 : ['Aurangabad']\n",
      "For 18 : ['Baddi']\n",
      "For 19 : ['Bahadurgarh']\n",
      "For 20 : ['Balasore']\n",
      "For 21 : ['Bangalore']\n",
      "For 22 : ['Bankura']\n",
      "For 23 : ['Banswara']\n",
      "For 24 : ['Barabanki']\n",
      "For 25 : ['Bardhaman']\n",
      "For 26 : ['Bareilly']\n",
      "For 27 : ['Beed']\n",
      "For 28 : ['Belgaum']\n",
      "For 29 : ['Berhampur']\n",
      "For 30 : ['Betul']\n",
      "For 31 : ['Bhadrak']\n",
      "For 32 : ['Bhagalpur']\n",
      "For 33 : ['Bhandara']\n",
      "For 34 : ['Bharatpur']\n",
      "For 35 : ['Bharuch']\n",
      "For 36 : ['Bhavnagar']\n",
      "For 37 : ['Bhilai']\n",
      "For 38 : ['Bhimavaram']\n",
      "For 39 : ['Bhiwadi']\n",
      "For 40 : ['Bhiwani']\n",
      "For 41 : ['Bhopal']\n",
      "For 42 : ['Bhubaneswar']\n",
      "For 43 : ['Bhuj']\n",
      "For 44 : ['Bikaner']\n",
      "For 45 : ['Bilaspur']\n",
      "For 46 : ['Bokaro']\n",
      "For 47 : ['Chandigarh']\n",
      "For 48 : ['Chandrapur']\n",
      "For 49 : ['Chennai']\n",
      "For 50 : ['Chhindwara']\n",
      "For 51 : ['Chittoor']\n",
      "For 52 : ['Coimbatore']\n",
      "For 53 : ['Cuttack']\n",
      "For 54 : ['Dahod']\n",
      "For 55 : ['Dalhousie']\n",
      "For 56 : ['Darbhanga']\n",
      "For 57 : ['Darjeeling']\n",
      "For 58 : ['Dehradun']\n",
      "For 59 : ['Deoghar']\n",
      "For 60 : ['Dhanbad']\n",
      "For 61 : ['Dharuhera']\n",
      "For 62 : ['Dharwad']\n",
      "For 63 : ['Dhule']\n",
      "For 64 : ['Dibrugarh']\n",
      "For 65 : ['Durg']\n",
      "For 66 : ['Durgapur']\n",
      "For 67 : ['Eluru']\n",
      "For 68 : ['Ernakulam']\n",
      "For 69 : ['Erode']\n",
      "For 70 : ['Faizabad']\n",
      "For 71 : ['Faridabad']\n",
      "For 72 : ['Gadarwara']\n",
      "For 73 : ['Gadhinglaj']\n",
      "For 74 : ['Gandhidham']\n",
      "For 75 : ['Gandhinagar']\n",
      "For 76 : ['Gaya']\n",
      "For 77 : ['Ghaziabad']\n",
      "For 78 : ['Goa']\n",
      "For 79 : ['Godhra']\n",
      "For 80 : ['Gondia']\n",
      "For 81 : ['Gulbarga']\n",
      "For 82 : ['Guntur']\n",
      "For 83 : ['Gurdaspur']\n",
      "For 84 : ['Gurgaon']\n",
      "For 85 : ['Guwahati']\n",
      "For 86 : ['Gwalior']\n",
      "For 87 : ['Hajipur']\n",
      "For 88 : ['Haldia']\n",
      "For 89 : ['Haldwani']\n",
      "For 90 : ['Hapur']\n",
      "For 91 : ['Harda']\n",
      "For 92 : ['Haridwar']\n",
      "For 93 : ['Hassan']\n",
      "For 94 : ['Hathras']\n",
      "For 95 : ['Hazaribagh']\n",
      "For 96 : ['Hoshangabad']\n",
      "For 97 : ['Hoshiarpur']\n",
      "For 98 : ['Hosur']\n",
      "For 99 : ['Hubli']\n",
      "For 100 : ['Idukki']\n",
      "For 101 : ['Indore']\n",
      "For 102 : ['Jabalpur']\n",
      "For 103 : ['Jagdalpur']\n",
      "For 104 : ['Jaipur']\n",
      "For 105 : ['Jajpur']\n",
      "For 106 : ['Jalandhar']\n",
      "For 107 : ['Jalgaon']\n",
      "For 108 : ['Jalna']\n",
      "For 109 : ['Jammu']\n",
      "For 110 : ['Jamnagar']\n",
      "For 111 : ['Jamshedpur']\n",
      "For 112 : ['Jhansi']\n",
      "For 113 : ['Jharsuguda']\n",
      "For 114 : ['Jhunjhunu']\n",
      "For 115 : ['Jind']\n",
      "For 116 : ['Jodhpur']\n",
      "For 117 : ['Junagadh']\n",
      "For 118 : ['Kadapa']\n",
      "For 119 : ['Kadi']\n",
      "For 120 : ['Kakinada']\n",
      "For 121 : ['Kanchipuram']\n",
      "For 122 : ['Kangra']\n",
      "For 123 : ['Kannur']\n",
      "For 124 : ['Kanpur']\n",
      "For 125 : ['Karad']\n",
      "For 126 : ['Karaikudi']\n",
      "For 127 : ['Karjat']\n",
      "For 128 : ['Karnal']\n",
      "For 129 : ['Karwar']\n",
      "For 130 : ['Kharagpur']\n",
      "For 131 : ['Kochi']\n",
      "For 132 : ['Kolhapur']\n",
      "For 133 : ['Kolkata']\n",
      "For 134 : ['Kollam']\n",
      "For 135 : ['Korba']\n",
      "For 136 : ['Kota']\n",
      "For 137 : ['Kotdwara']\n",
      "For 138 : ['Kottayam']\n",
      "For 139 : ['Kurnool']\n",
      "For 140 : ['Kurukshetra']\n",
      "For 141 : ['Lalitpur']\n",
      "For 142 : ['Latur']\n",
      "For 143 : ['Lucknow']\n",
      "For 144 : ['Ludhiana']\n",
      "For 145 : ['Machilipatnam']\n",
      "For 146 : ['Madurai']\n",
      "For 147 : ['Maharashtra']\n",
      "For 148 : ['Malappuram']\n",
      "For 149 : ['Mangalore']\n",
      "For 150 : ['Margao']\n",
      "For 151 : ['Mathura']\n",
      "For 152 : ['Meerut']\n",
      "For 153 : ['Midnapore']\n",
      "For 154 : ['Mohali']\n",
      "For 155 : ['Moradabad']\n",
      "For 156 : ['Morbi']\n",
      "For 157 : ['Mumbai']\n",
      "For 158 : ['Muzaffarpur']\n",
      "For 159 : ['Mysore']\n",
      "For 160 : ['Nadiad']\n",
      "For 161 : ['Nagaon']\n",
      "For 162 : ['Nagapattinam']\n",
      "For 163 : ['Nagaur']\n",
      "For 164 : ['Nagpur']\n",
      "For 165 : ['Nainital']\n",
      "For 166 : ['Nanded']\n",
      "For 167 : ['Navsari']\n",
      "For 168 : ['Neemrana']\n",
      "For 169 : ['Nellore']\n",
      "For 170 : ['Nizamabad']\n",
      "For 171 : ['Noida']\n",
      "For 172 : ['Ongole']\n",
      "For 173 : ['Ooty']\n",
      "For 174 : ['Osmanabad']\n",
      "For 175 : ['Ottapalam']\n",
      "For 176 : ['Palakkad']\n",
      "For 177 : ['Palanpur']\n",
      "For 178 : ['Palghar']\n",
      "For 179 : ['Pali']\n",
      "For 180 : ['Palwal']\n",
      "For 181 : ['Panaji']\n",
      "For 182 : ['Panchkula']\n",
      "For 183 : ['Panipat']\n",
      "For 184 : ['Pathanamthitta']\n",
      "For 185 : ['Patiala']\n",
      "For 186 : ['Patna']\n",
      "For 187 : ['Phagwara']\n",
      "For 188 : ['Pondicherry']\n",
      "For 189 : ['Porbandar']\n",
      "For 190 : ['Pudukkottai']\n",
      "For 191 : ['Pune']\n",
      "For 192 : ['Puri']\n",
      "For 193 : ['Raichur']\n",
      "For 194 : ['Raigad']\n",
      "For 195 : ['Raigarh']\n",
      "For 196 : ['Raipur']\n",
      "For 197 : ['Raisen']\n",
      "For 198 : ['Rajkot']\n",
      "For 199 : ['Rajnandgaon']\n",
      "For 200 : ['Rajpura']\n",
      "For 201 : ['Ranchi']\n",
      "For 202 : ['Ratnagiri']\n",
      "For 203 : ['Rayagada']\n",
      "For 204 : ['Rewa']\n",
      "For 205 : ['Rewari']\n",
      "For 206 : ['Rishikesh']\n",
      "For 207 : ['Rohtak']\n",
      "For 208 : ['Roorkee']\n",
      "For 209 : ['Rourkela']\n",
      "For 210 : ['Rudrapur']\n",
      "For 211 : ['Sabarkantha']\n",
      "For 212 : ['Sagar']\n",
      "For 213 : ['Salem']\n",
      "For 214 : ['Sambalpur']\n",
      "For 215 : ['Satna']\n",
      "For 216 : ['Secunderabad']\n",
      "For 217 : ['Shimla']\n",
      "For 218 : ['Shirdi']\n",
      "For 219 : ['Siddipet']\n",
      "For 220 : ['Sikar']\n",
      "For 221 : ['Silchar']\n",
      "For 222 : ['Siliguri']\n",
      "For 223 : ['Sindhudurg']\n",
      "For 224 : ['Siwan']\n",
      "For 225 : ['Solan']\n",
      "For 226 : ['Solapur']\n",
      "For 227 : ['Sonipat']\n",
      "For 228 : ['Srikakulam']\n",
      "For 229 : ['Srinagar']\n",
      "For 230 : ['Surat']\n",
      "For 231 : ['Surendranagar']\n",
      "For 232 : ['Tenali']\n",
      "For 233 : ['Thanjavur']\n",
      "For 234 : ['Thoothukudi']\n",
      "For 235 : ['Thrissur']\n",
      "For 236 : ['Tirunelveli']\n",
      "For 237 : ['Tirupati']\n",
      "For 238 : ['Udaipur']\n",
      "For 239 : ['Udupi']\n",
      "For 240 : ['Ujjain']\n",
      "For 241 : ['Vadodara']\n",
      "For 242 : ['Valsad']\n",
      "For 243 : ['Vapi']\n",
      "For 244 : ['Varanasi']\n",
      "For 245 : ['Vellore']\n",
      "For 246 : ['Vijayawada']\n",
      "For 247 : ['Visakhapatnam']\n",
      "For 248 : ['Visnagar']\n",
      "For 249 : ['Vizianagaram']\n",
      "For 250 : ['Warangal']\n",
      "For 251 : ['Wardha']\n",
      "For 252 : ['Washim']\n",
      "For 253 : ['Yavatmal']\n",
      "----------\n",
      "ADDRESS\n",
      "21     3872\n",
      "141    2188\n",
      "191    1833\n",
      "171    1631\n",
      "133    1608\n",
      "       ... \n",
      "54        1\n",
      "94        1\n",
      "221       1\n",
      "113       1\n",
      "148       1\n",
      "Name: count, Length: 254, dtype: int64\n",
      "----------\n"
     ]
    }
   ],
   "source": [
    "housing['ADDRESS'], label_encoder_posted_by = label_encoder(housing, 'ADDRESS')"
   ]
  },
  {
   "cell_type": "markdown",
   "metadata": {},
   "source": [
    "##  Train-Test Spiliting"
   ]
  },
  {
   "cell_type": "code",
   "execution_count": 104,
   "metadata": {},
   "outputs": [],
   "source": [
    "import numpy as np\n",
    "def split_train_test(data,test_ratio):\n",
    "    np.random.seed(42)\n",
    "    shuffled=np.random.permutation(len(data))\n",
    "    print(shuffled)\n",
    "    test_set_size=int(len(data)*test_ratio)\n",
    "    test_indices=shuffled[:test_set_size]\n",
    "    train_indices=shuffled[test_set_size:]\n",
    "    return data.iloc[train_indices], data.iloc[test_indices]"
   ]
  },
  {
   "cell_type": "code",
   "execution_count": 105,
   "metadata": {},
   "outputs": [
    {
     "name": "stdout",
     "output_type": "stream",
     "text": [
      "[25944  4405 18664 ...   860 15795 23654]\n"
     ]
    }
   ],
   "source": [
    "train_set,test_set=split_train_test(housing,0.2)"
   ]
  },
  {
   "cell_type": "code",
   "execution_count": 106,
   "metadata": {},
   "outputs": [
    {
     "name": "stdout",
     "output_type": "stream",
     "text": [
      "Rows in train set:21094\n",
      "Rows in test set: 5273\n",
      "\n"
     ]
    }
   ],
   "source": [
    "print(f\"Rows in train set:{len(train_set)}\\nRows in test set: {len(test_set)}\\n\")"
   ]
  },
  {
   "cell_type": "code",
   "execution_count": 107,
   "metadata": {},
   "outputs": [
    {
     "name": "stdout",
     "output_type": "stream",
     "text": [
      "Rows in train set:21093\n",
      "Rows in test set: 5274\n",
      "\n"
     ]
    }
   ],
   "source": [
    "from sklearn.model_selection import train_test_split\n",
    "train_set, test_set=train_test_split(housing,test_size=0.2,random_state=42)\n",
    "print(f\"Rows in train set:{len(train_set)}\\nRows in test set: {len(test_set)}\\n\")"
   ]
  },
  {
   "cell_type": "code",
   "execution_count": 108,
   "metadata": {},
   "outputs": [],
   "source": [
    "#from sklearn.model_selection import StratifiedShuffleSplit\n",
    "#split=StratifiedShuffleSplit(n_splits=1,test_size=0.2,random_state=42)\n",
    "#for train_index, test_index in split.split(housing,housing['BHK_N0.']):\n",
    " #strat_train_set=housing.loc[train_index]\n",
    "#strat_test_set=housing.loc[test_index]"
   ]
  },
  {
   "cell_type": "code",
   "execution_count": 109,
   "metadata": {},
   "outputs": [],
   "source": [
    "strat_train_set=train_set\n",
    "strat_test_set=test_set"
   ]
  },
  {
   "cell_type": "code",
   "execution_count": 110,
   "metadata": {},
   "outputs": [
    {
     "data": {
      "text/plain": [
       "(21093, 5)"
      ]
     },
     "execution_count": 110,
     "metadata": {},
     "output_type": "execute_result"
    }
   ],
   "source": [
    "strat_train_set.shape"
   ]
  },
  {
   "cell_type": "code",
   "execution_count": 111,
   "metadata": {},
   "outputs": [
    {
     "data": {
      "text/html": [
       "<div>\n",
       "<style scoped>\n",
       "    .dataframe tbody tr th:only-of-type {\n",
       "        vertical-align: middle;\n",
       "    }\n",
       "\n",
       "    .dataframe tbody tr th {\n",
       "        vertical-align: top;\n",
       "    }\n",
       "\n",
       "    .dataframe thead th {\n",
       "        text-align: right;\n",
       "    }\n",
       "</style>\n",
       "<table border=\"1\" class=\"dataframe\">\n",
       "  <thead>\n",
       "    <tr style=\"text-align: right;\">\n",
       "      <th></th>\n",
       "      <th>RERA</th>\n",
       "      <th>BHK_NO.</th>\n",
       "      <th>SQUARE_FT</th>\n",
       "      <th>ADDRESS</th>\n",
       "      <th>TARGET(PRICE_IN_LACS)</th>\n",
       "    </tr>\n",
       "  </thead>\n",
       "  <tbody>\n",
       "    <tr>\n",
       "      <th>count</th>\n",
       "      <td>21093.000000</td>\n",
       "      <td>21093.000000</td>\n",
       "      <td>21093.000000</td>\n",
       "      <td>21093.000000</td>\n",
       "      <td>21093.000000</td>\n",
       "    </tr>\n",
       "    <tr>\n",
       "      <th>mean</th>\n",
       "      <td>0.306500</td>\n",
       "      <td>2.286872</td>\n",
       "      <td>1166.311355</td>\n",
       "      <td>116.148201</td>\n",
       "      <td>66.069103</td>\n",
       "    </tr>\n",
       "    <tr>\n",
       "      <th>std</th>\n",
       "      <td>0.461051</td>\n",
       "      <td>0.754000</td>\n",
       "      <td>380.031293</td>\n",
       "      <td>65.966970</td>\n",
       "      <td>40.521177</td>\n",
       "    </tr>\n",
       "    <tr>\n",
       "      <th>min</th>\n",
       "      <td>0.000000</td>\n",
       "      <td>1.000000</td>\n",
       "      <td>621.000000</td>\n",
       "      <td>1.000000</td>\n",
       "      <td>0.250000</td>\n",
       "    </tr>\n",
       "    <tr>\n",
       "      <th>25%</th>\n",
       "      <td>0.000000</td>\n",
       "      <td>2.000000</td>\n",
       "      <td>861.775860</td>\n",
       "      <td>49.000000</td>\n",
       "      <td>35.000000</td>\n",
       "    </tr>\n",
       "    <tr>\n",
       "      <th>50%</th>\n",
       "      <td>0.000000</td>\n",
       "      <td>2.000000</td>\n",
       "      <td>1129.908619</td>\n",
       "      <td>133.000000</td>\n",
       "      <td>55.000000</td>\n",
       "    </tr>\n",
       "    <tr>\n",
       "      <th>75%</th>\n",
       "      <td>1.000000</td>\n",
       "      <td>3.000000</td>\n",
       "      <td>1450.209475</td>\n",
       "      <td>164.000000</td>\n",
       "      <td>87.000000</td>\n",
       "    </tr>\n",
       "    <tr>\n",
       "      <th>max</th>\n",
       "      <td>1.000000</td>\n",
       "      <td>6.000000</td>\n",
       "      <td>1814.000000</td>\n",
       "      <td>253.000000</td>\n",
       "      <td>190.000000</td>\n",
       "    </tr>\n",
       "  </tbody>\n",
       "</table>\n",
       "</div>"
      ],
      "text/plain": [
       "               RERA       BHK_NO.     SQUARE_FT       ADDRESS  \\\n",
       "count  21093.000000  21093.000000  21093.000000  21093.000000   \n",
       "mean       0.306500      2.286872   1166.311355    116.148201   \n",
       "std        0.461051      0.754000    380.031293     65.966970   \n",
       "min        0.000000      1.000000    621.000000      1.000000   \n",
       "25%        0.000000      2.000000    861.775860     49.000000   \n",
       "50%        0.000000      2.000000   1129.908619    133.000000   \n",
       "75%        1.000000      3.000000   1450.209475    164.000000   \n",
       "max        1.000000      6.000000   1814.000000    253.000000   \n",
       "\n",
       "       TARGET(PRICE_IN_LACS)  \n",
       "count           21093.000000  \n",
       "mean               66.069103  \n",
       "std                40.521177  \n",
       "min                 0.250000  \n",
       "25%                35.000000  \n",
       "50%                55.000000  \n",
       "75%                87.000000  \n",
       "max               190.000000  "
      ]
     },
     "execution_count": 111,
     "metadata": {},
     "output_type": "execute_result"
    }
   ],
   "source": [
    "strat_train_set.describe()"
   ]
  },
  {
   "cell_type": "code",
   "execution_count": 112,
   "metadata": {},
   "outputs": [
    {
     "data": {
      "text/plain": [
       "(5274, 5)"
      ]
     },
     "execution_count": 112,
     "metadata": {},
     "output_type": "execute_result"
    }
   ],
   "source": [
    "strat_test_set.shape"
   ]
  },
  {
   "cell_type": "code",
   "execution_count": 113,
   "metadata": {},
   "outputs": [
    {
     "data": {
      "text/plain": [
       "BHK_NO.\n",
       "2    2587\n",
       "3    1816\n",
       "1     687\n",
       "4     167\n",
       "5      11\n",
       "6       6\n",
       "Name: count, dtype: int64"
      ]
     },
     "execution_count": 113,
     "metadata": {},
     "output_type": "execute_result"
    }
   ],
   "source": [
    "strat_test_set.value_counts('BHK_NO.')"
   ]
  },
  {
   "cell_type": "code",
   "execution_count": 114,
   "metadata": {},
   "outputs": [
    {
     "data": {
      "text/plain": [
       "BHK_NO.\n",
       "2    10207\n",
       "3     7263\n",
       "1     2851\n",
       "4      702\n",
       "5       45\n",
       "6       25\n",
       "Name: count, dtype: int64"
      ]
     },
     "execution_count": 114,
     "metadata": {},
     "output_type": "execute_result"
    }
   ],
   "source": [
    "strat_train_set.value_counts('BHK_NO.')"
   ]
  },
  {
   "cell_type": "code",
   "execution_count": 115,
   "metadata": {},
   "outputs": [],
   "source": [
    "housing=strat_train_set.copy()"
   ]
  },
  {
   "cell_type": "code",
   "execution_count": 116,
   "metadata": {},
   "outputs": [],
   "source": [
    "housing=strat_train_set.drop(\"TARGET(PRICE_IN_LACS)\",axis=1)\n",
    "housing_labels=strat_train_set[\"TARGET(PRICE_IN_LACS)\"].copy()"
   ]
  },
  {
   "cell_type": "markdown",
   "metadata": {},
   "source": [
    "## Creating a Pipeline"
   ]
  },
  {
   "cell_type": "code",
   "execution_count": 117,
   "metadata": {},
   "outputs": [],
   "source": [
    "from sklearn.impute import SimpleImputer\n",
    "from sklearn.pipeline import Pipeline\n",
    "from sklearn.preprocessing import OneHotEncoder,StandardScaler \n",
    "my_pipeline=Pipeline([\n",
    "  ('imputer', SimpleImputer(strategy='median')),\n",
    "    # .....add as many as you want in your pipeline\n",
    " ('std_scaler',StandardScaler()),\n",
    "])"
   ]
  },
  {
   "cell_type": "code",
   "execution_count": 118,
   "metadata": {},
   "outputs": [],
   "source": [
    "housing_num=my_pipeline.fit_transform(housing)"
   ]
  },
  {
   "cell_type": "code",
   "execution_count": 119,
   "metadata": {},
   "outputs": [
    {
     "data": {
      "text/plain": [
       "(21093, 4)"
      ]
     },
     "execution_count": 119,
     "metadata": {},
     "output_type": "execute_result"
    }
   ],
   "source": [
    "housing_num.shape"
   ]
  },
  {
   "cell_type": "markdown",
   "metadata": {},
   "source": [
    "## Selecting a desired model"
   ]
  },
  {
   "cell_type": "code",
   "execution_count": 120,
   "metadata": {},
   "outputs": [
    {
     "data": {
      "text/html": [
       "<style>#sk-container-id-1 {color: black;}#sk-container-id-1 pre{padding: 0;}#sk-container-id-1 div.sk-toggleable {background-color: white;}#sk-container-id-1 label.sk-toggleable__label {cursor: pointer;display: block;width: 100%;margin-bottom: 0;padding: 0.3em;box-sizing: border-box;text-align: center;}#sk-container-id-1 label.sk-toggleable__label-arrow:before {content: \"▸\";float: left;margin-right: 0.25em;color: #696969;}#sk-container-id-1 label.sk-toggleable__label-arrow:hover:before {color: black;}#sk-container-id-1 div.sk-estimator:hover label.sk-toggleable__label-arrow:before {color: black;}#sk-container-id-1 div.sk-toggleable__content {max-height: 0;max-width: 0;overflow: hidden;text-align: left;background-color: #f0f8ff;}#sk-container-id-1 div.sk-toggleable__content pre {margin: 0.2em;color: black;border-radius: 0.25em;background-color: #f0f8ff;}#sk-container-id-1 input.sk-toggleable__control:checked~div.sk-toggleable__content {max-height: 200px;max-width: 100%;overflow: auto;}#sk-container-id-1 input.sk-toggleable__control:checked~label.sk-toggleable__label-arrow:before {content: \"▾\";}#sk-container-id-1 div.sk-estimator input.sk-toggleable__control:checked~label.sk-toggleable__label {background-color: #d4ebff;}#sk-container-id-1 div.sk-label input.sk-toggleable__control:checked~label.sk-toggleable__label {background-color: #d4ebff;}#sk-container-id-1 input.sk-hidden--visually {border: 0;clip: rect(1px 1px 1px 1px);clip: rect(1px, 1px, 1px, 1px);height: 1px;margin: -1px;overflow: hidden;padding: 0;position: absolute;width: 1px;}#sk-container-id-1 div.sk-estimator {font-family: monospace;background-color: #f0f8ff;border: 1px dotted black;border-radius: 0.25em;box-sizing: border-box;margin-bottom: 0.5em;}#sk-container-id-1 div.sk-estimator:hover {background-color: #d4ebff;}#sk-container-id-1 div.sk-parallel-item::after {content: \"\";width: 100%;border-bottom: 1px solid gray;flex-grow: 1;}#sk-container-id-1 div.sk-label:hover label.sk-toggleable__label {background-color: #d4ebff;}#sk-container-id-1 div.sk-serial::before {content: \"\";position: absolute;border-left: 1px solid gray;box-sizing: border-box;top: 0;bottom: 0;left: 50%;z-index: 0;}#sk-container-id-1 div.sk-serial {display: flex;flex-direction: column;align-items: center;background-color: white;padding-right: 0.2em;padding-left: 0.2em;position: relative;}#sk-container-id-1 div.sk-item {position: relative;z-index: 1;}#sk-container-id-1 div.sk-parallel {display: flex;align-items: stretch;justify-content: center;background-color: white;position: relative;}#sk-container-id-1 div.sk-item::before, #sk-container-id-1 div.sk-parallel-item::before {content: \"\";position: absolute;border-left: 1px solid gray;box-sizing: border-box;top: 0;bottom: 0;left: 50%;z-index: -1;}#sk-container-id-1 div.sk-parallel-item {display: flex;flex-direction: column;z-index: 1;position: relative;background-color: white;}#sk-container-id-1 div.sk-parallel-item:first-child::after {align-self: flex-end;width: 50%;}#sk-container-id-1 div.sk-parallel-item:last-child::after {align-self: flex-start;width: 50%;}#sk-container-id-1 div.sk-parallel-item:only-child::after {width: 0;}#sk-container-id-1 div.sk-dashed-wrapped {border: 1px dashed gray;margin: 0 0.4em 0.5em 0.4em;box-sizing: border-box;padding-bottom: 0.4em;background-color: white;}#sk-container-id-1 div.sk-label label {font-family: monospace;font-weight: bold;display: inline-block;line-height: 1.2em;}#sk-container-id-1 div.sk-label-container {text-align: center;}#sk-container-id-1 div.sk-container {/* jupyter's `normalize.less` sets `[hidden] { display: none; }` but bootstrap.min.css set `[hidden] { display: none !important; }` so we also need the `!important` here to be able to override the default hidden behavior on the sphinx rendered scikit-learn.org. See: https://github.com/scikit-learn/scikit-learn/issues/21755 */display: inline-block !important;position: relative;}#sk-container-id-1 div.sk-text-repr-fallback {display: none;}</style><div id=\"sk-container-id-1\" class=\"sk-top-container\"><div class=\"sk-text-repr-fallback\"><pre>RandomForestRegressor()</pre><b>In a Jupyter environment, please rerun this cell to show the HTML representation or trust the notebook. <br />On GitHub, the HTML representation is unable to render, please try loading this page with nbviewer.org.</b></div><div class=\"sk-container\" hidden><div class=\"sk-item\"><div class=\"sk-estimator sk-toggleable\"><input class=\"sk-toggleable__control sk-hidden--visually\" id=\"sk-estimator-id-1\" type=\"checkbox\" checked><label for=\"sk-estimator-id-1\" class=\"sk-toggleable__label sk-toggleable__label-arrow\">RandomForestRegressor</label><div class=\"sk-toggleable__content\"><pre>RandomForestRegressor()</pre></div></div></div></div></div>"
      ],
      "text/plain": [
       "RandomForestRegressor()"
      ]
     },
     "execution_count": 120,
     "metadata": {},
     "output_type": "execute_result"
    }
   ],
   "source": [
    "from sklearn.linear_model import LinearRegression\n",
    "from sklearn.tree import  DecisionTreeRegressor\n",
    "from sklearn.ensemble import RandomForestRegressor\n",
    "#model=LinearRegression()\n",
    "#model=DecisionTreeRegressor()\n",
    "model=RandomForestRegressor()\n",
    "model.fit(housing_num,housing_labels)"
   ]
  },
  {
   "cell_type": "code",
   "execution_count": 121,
   "metadata": {},
   "outputs": [
    {
     "name": "stdout",
     "output_type": "stream",
     "text": [
      "       RERA  BHK_NO.    SQUARE_FT  ADDRESS\n",
      "14925     0        1   621.000000      141\n",
      "22851     1        1   685.027261      157\n",
      "20607     1        2   621.000000      157\n",
      "2117      0        1   665.821179       75\n",
      "23211     1        3  1814.000000       49\n"
     ]
    }
   ],
   "source": [
    "some_data=housing.iloc[:5]\n",
    "print(some_data)"
   ]
  },
  {
   "cell_type": "code",
   "execution_count": 122,
   "metadata": {},
   "outputs": [],
   "source": [
    "some_labels=housing_labels.iloc[:5]"
   ]
  },
  {
   "cell_type": "code",
   "execution_count": 123,
   "metadata": {},
   "outputs": [
    {
     "data": {
      "text/plain": [
       "array([[-0.66480119, -1.70676813, -1.43494573,  0.37673988],\n",
       "       [ 1.5042091 , -1.70676813, -1.26646282,  0.61929125],\n",
       "       [ 1.5042091 , -0.38047649, -1.43494573,  0.61929125],\n",
       "       [-0.66480119, -1.70676813, -1.31700218, -0.62378454],\n",
       "       [ 1.5042091 ,  0.94581514,  1.70434385, -1.01793053]])"
      ]
     },
     "execution_count": 123,
     "metadata": {},
     "output_type": "execute_result"
    }
   ],
   "source": [
    "prepared_data=my_pipeline.transform(some_data)\n",
    "prepared_data"
   ]
  },
  {
   "cell_type": "code",
   "execution_count": 124,
   "metadata": {},
   "outputs": [
    {
     "data": {
      "text/plain": [
       "array([62.23698837, 51.192     , 93.38066227, 22.045     , 86.62357798])"
      ]
     },
     "execution_count": 124,
     "metadata": {},
     "output_type": "execute_result"
    }
   ],
   "source": [
    "model.predict(prepared_data)"
   ]
  },
  {
   "cell_type": "code",
   "execution_count": 125,
   "metadata": {},
   "outputs": [
    {
     "data": {
      "text/plain": [
       "[42.5, 49.0, 77.1, 21.0, 79.0]"
      ]
     },
     "execution_count": 125,
     "metadata": {},
     "output_type": "execute_result"
    }
   ],
   "source": [
    "list(some_labels)"
   ]
  },
  {
   "cell_type": "markdown",
   "metadata": {},
   "source": [
    "## Evaluating model"
   ]
  },
  {
   "cell_type": "code",
   "execution_count": 126,
   "metadata": {},
   "outputs": [],
   "source": [
    "from sklearn.metrics import mean_squared_error\n",
    "housing_predictions=model.predict(housing_num)\n",
    "lin_mse=mean_squared_error(housing_labels,housing_predictions)\n",
    "lin_rmse=np.sqrt(lin_mse)"
   ]
  },
  {
   "cell_type": "code",
   "execution_count": 127,
   "metadata": {},
   "outputs": [
    {
     "data": {
      "text/plain": [
       "214.68809605030108"
      ]
     },
     "execution_count": 127,
     "metadata": {},
     "output_type": "execute_result"
    }
   ],
   "source": [
    "lin_mse"
   ]
  },
  {
   "cell_type": "code",
   "execution_count": 128,
   "metadata": {},
   "outputs": [
    {
     "data": {
      "text/plain": [
       "14.652238602012359"
      ]
     },
     "execution_count": 128,
     "metadata": {},
     "output_type": "execute_result"
    }
   ],
   "source": [
    "lin_rmse"
   ]
  },
  {
   "cell_type": "code",
   "execution_count": 129,
   "metadata": {},
   "outputs": [],
   "source": [
    "from sklearn.model_selection import cross_val_score\n",
    "scores=cross_val_score(model,housing_num,housing_labels,scoring=\"neg_mean_squared_error\")\n",
    "rmse_scores=(-scores)"
   ]
  },
  {
   "cell_type": "code",
   "execution_count": 130,
   "metadata": {},
   "outputs": [
    {
     "data": {
      "text/plain": [
       "array([658.53303762, 635.99660193, 678.43730237, 665.38452436,\n",
       "       635.16126106])"
      ]
     },
     "execution_count": 130,
     "metadata": {},
     "output_type": "execute_result"
    }
   ],
   "source": [
    "rmse_scores"
   ]
  },
  {
   "cell_type": "code",
   "execution_count": 131,
   "metadata": {},
   "outputs": [],
   "source": [
    "def print_scores(scores):\n",
    "    print(\"Scores:\",scores)\n",
    "    print(\"Mean:\",scores.mean())\n",
    "    print(\"Standard deviation\",scores.std())"
   ]
  },
  {
   "cell_type": "code",
   "execution_count": 132,
   "metadata": {},
   "outputs": [
    {
     "name": "stdout",
     "output_type": "stream",
     "text": [
      "Scores: [658.53303762 635.99660193 678.43730237 665.38452436 635.16126106]\n",
      "Mean: 654.7025454677524\n",
      "Standard deviation 16.87536753974217\n"
     ]
    }
   ],
   "source": [
    "print_scores(rmse_scores)"
   ]
  },
  {
   "cell_type": "markdown",
   "metadata": {},
   "source": [
    "## Saving the model"
   ]
  },
  {
   "cell_type": "code",
   "execution_count": 133,
   "metadata": {},
   "outputs": [
    {
     "data": {
      "text/plain": [
       "['HousePricePridiction.joblib']"
      ]
     },
     "execution_count": 133,
     "metadata": {},
     "output_type": "execute_result"
    }
   ],
   "source": [
    "from joblib import dump,load\n",
    "dump(model,'HousePricePridiction.joblib')"
   ]
  },
  {
   "cell_type": "markdown",
   "metadata": {},
   "source": [
    "##  Testing the model on Test data"
   ]
  },
  {
   "cell_type": "code",
   "execution_count": 134,
   "metadata": {},
   "outputs": [
    {
     "name": "stdout",
     "output_type": "stream",
     "text": [
      "[ 31.43501589  80.4        139.60133333 ...  31.55        46.328\n",
      "  61.72      ] [26.5, 74.9, 76.0, 170.0, 110.0, 40.0, 70.0, 11.3, 28.0, 150.0, 45.0, 53.0, 65.0, 85.0, 190.0, 43.0, 37.0, 25.0, 190.0, 36.0, 110.0, 85.0, 70.0, 91.1, 67.2, 150.0, 80.3, 18.5, 85.0, 30.0, 30.0, 66.5, 26.0, 60.0, 67.0, 56.0, 33.0, 32.0, 49.4, 25.0, 140.0, 40.0, 17.5, 60.0, 32.0, 89.0, 37.5, 17.5, 22.5, 29.0, 49.0, 44.4, 67.5, 37.0, 170.0, 110.0, 50.0, 75.0, 45.0, 25.0, 55.1, 85.0, 67.2, 45.0, 55.0, 160.0, 34.0, 28.8, 48.5, 58.0, 34.5, 72.6, 140.0, 70.0, 42.0, 56.9, 87.0, 20.0, 87.0, 56.5, 120.0, 110.0, 25.0, 18.0, 30.6, 50.2, 24.0, 99.9, 150.0, 130.0, 160.0, 51.0, 28.0, 65.0, 20.0, 96.0, 37.0, 51.0, 45.0, 75.0, 72.0, 160.0, 27.0, 99.6, 17.8, 26.0, 120.0, 90.0, 68.0, 38.0, 12.0, 110.0, 100.0, 16.0, 13.0, 100.0, 90.0, 53.0, 40.0, 96.0, 80.0, 40.0, 42.0, 20.0, 50.0, 69.0, 18.1, 150.0, 30.0, 65.0, 55.0, 27.0, 110.0, 100.0, 42.5, 15.0, 64.0, 31.0, 53.0, 20.0, 75.0, 47.0, 95.0, 45.0, 100.0, 45.0, 130.0, 34.1, 85.8, 47.7, 35.0, 55.0, 80.0, 28.5, 70.0, 80.0, 28.9, 130.0, 140.0, 35.2, 30.0, 62.0, 120.0, 13.0, 85.0, 23.0, 38.0, 85.0, 55.0, 44.0, 26.0, 150.0, 54.0, 98.0, 70.0, 82.0, 110.0, 35.0, 54.0, 12.9, 55.0, 11.0, 95.0, 28.0, 85.0, 40.0, 82.0, 70.0, 50.5, 56.0, 18.0, 52.0, 19.0, 34.3, 85.0, 68.0, 11.0, 110.0, 110.0, 56.0, 56.3, 63.0, 90.0, 130.0, 62.0, 31.6, 42.0, 29.2, 80.0, 47.0, 46.0, 50.0, 84.9, 93.0, 52.0, 140.0, 75.0, 140.0, 130.0, 52.0, 42.5, 49.0, 40.0, 35.0, 55.0, 18.0, 52.1, 90.0, 110.0, 140.0, 48.5, 32.5, 26.1, 69.6, 64.0, 72.0, 66.0, 15.0, 31.4, 80.0, 180.0, 49.7, 50.0, 71.0, 38.0, 140.0, 54.0, 16.6, 32.0, 30.5, 150.0, 45.2, 190.0, 21.0, 44.0, 54.0, 150.0, 31.0, 74.0, 62.0, 40.0, 55.0, 45.0, 35.3, 130.0, 21.0, 42.0, 68.0, 180.0, 100.0, 59.0, 18.0, 22.7, 36.5, 20.0, 16.4, 49.0, 54.0, 25.5, 93.0, 100.0, 10.0, 89.0, 82.0, 180.0, 42.0, 43.5, 58.0, 87.0, 42.5, 89.9, 87.0, 30.0, 45.0, 55.8, 150.0, 95.0, 20.0, 35.0, 39.1, 47.0, 41.1, 30.5, 30.0, 30.0, 65.0, 45.0, 41.7, 80.1, 51.0, 58.0, 71.5, 85.0, 35.0, 68.0, 100.0, 100.0, 56.0, 160.0, 110.0, 70.0, 150.0, 75.0, 60.0, 13.5, 47.0, 110.0, 30.0, 52.8, 22.0, 170.0, 43.4, 52.0, 50.0, 33.6, 190.0, 96.0, 150.0, 26.0, 11.0, 64.0, 67.0, 41.0, 26.2, 72.1, 140.0, 94.0, 80.0, 150.0, 68.0, 120.0, 60.4, 170.0, 15.0, 32.0, 160.0, 55.0, 33.7, 25.5, 55.9, 77.0, 27.0, 70.0, 12.0, 35.0, 17.0, 60.0, 67.0, 30.0, 63.0, 170.0, 90.0, 26.0, 120.0, 54.0, 58.0, 19.9, 87.3, 66.2, 43.9, 15.0, 70.0, 110.0, 46.0, 39.8, 48.1, 45.0, 80.0, 85.0, 72.0, 36.0, 30.0, 35.5, 180.0, 100.0, 66.0, 26.0, 100.0, 97.0, 51.0, 36.5, 64.0, 42.0, 43.0, 140.0, 110.0, 130.0, 82.0, 12.0, 14.0, 48.0, 58.0, 58.5, 110.0, 90.0, 34.0, 59.0, 130.0, 67.5, 180.0, 13.0, 26.0, 31.9, 72.0, 65.0, 43.0, 57.0, 85.0, 59.9, 120.0, 25.0, 34.0, 45.0, 37.0, 50.0, 32.0, 160.0, 50.0, 190.0, 23.0, 81.0, 160.0, 110.0, 49.0, 52.0, 55.0, 170.0, 28.0, 12.5, 46.0, 120.0, 70.0, 41.0, 57.8, 66.0, 36.0, 45.0, 40.0, 81.0, 35.7, 15.0, 190.0, 18.0, 40.0, 10.0, 90.0, 15.0, 41.0, 70.0, 64.5, 28.0, 130.0, 24.0, 61.0, 49.5, 20.0, 45.0, 48.5, 100.0, 18.0, 40.0, 72.0, 160.0, 60.0, 50.0, 62.0, 92.0, 160.0, 74.0, 9.5, 110.0, 46.6, 43.0, 31.0, 43.4, 71.0, 69.0, 20.0, 67.0, 21.0, 81.0, 48.0, 75.0, 65.0, 49.0, 59.5, 51.0, 20.0, 40.0, 17.0, 45.0, 57.0, 59.3, 160.0, 57.5, 68.0, 60.9, 75.2, 45.0, 62.0, 16.0, 130.0, 40.0, 28.0, 77.9, 34.9, 23.1, 72.0, 110.0, 59.5, 100.0, 19.5, 73.0, 110.0, 38.0, 55.0, 42.0, 90.0, 58.5, 43.0, 130.0, 65.0, 41.5, 85.0, 42.8, 56.0, 43.0, 46.0, 81.0, 80.0, 40.2, 86.0, 39.9, 91.0, 46.4, 42.5, 20.0, 84.5, 160.0, 68.0, 25.0, 37.2, 34.0, 70.5, 77.1, 45.0, 23.8, 38.0, 100.0, 40.0, 28.0, 74.0, 24.0, 61.2, 47.0, 60.0, 70.0, 40.0, 85.0, 67.9, 48.0, 16.5, 32.0, 46.0, 53.0, 53.7, 110.0, 70.0, 120.0, 110.0, 75.0, 83.0, 87.5, 26.9, 67.0, 71.5, 110.0, 45.0, 43.9, 53.0, 100.0, 57.0, 25.0, 72.0, 31.5, 16.0, 44.5, 66.0, 38.0, 66.5, 67.0, 45.0, 100.0, 23.8, 22.0, 90.0, 65.0, 83.0, 43.0, 43.9, 28.0, 18.0, 72.0, 52.0, 69.0, 88.0, 100.0, 18.0, 55.0, 180.0, 40.0, 41.0, 60.0, 8.7, 42.0, 39.9, 26.0, 45.0, 54.7, 36.0, 28.5, 65.0, 11.9, 85.0, 52.7, 35.0, 110.0, 38.0, 73.0, 49.5, 22.6, 68.0, 15.5, 160.0, 76.0, 65.0, 91.7, 190.0, 120.0, 68.0, 50.0, 22.0, 17.0, 150.0, 150.0, 48.0, 110.0, 65.0, 50.0, 110.0, 84.5, 14.5, 22.0, 98.0, 38.3, 75.0, 50.0, 57.7, 160.0, 34.0, 16.0, 20.0, 42.0, 8.7, 42.0, 75.0, 90.0, 17.0, 24.0, 45.0, 71.9, 65.0, 22.0, 50.0, 75.0, 59.0, 18.0, 74.1, 25.0, 70.0, 40.0, 160.0, 25.0, 60.0, 27.4, 150.0, 56.0, 60.2, 140.0, 34.0, 1.3, 25.0, 72.6, 41.0, 64.9, 38.0, 21.0, 76.0, 150.0, 95.0, 160.0, 25.0, 35.9, 77.0, 28.0, 29.8, 53.0, 4.9, 90.0, 56.4, 59.0, 18.0, 85.5, 65.0, 75.0, 100.0, 56.0, 43.0, 43.0, 55.0, 32.0, 29.6, 120.0, 65.5, 51.0, 55.0, 110.0, 150.0, 42.3, 90.0, 72.0, 21.6, 24.7, 37.1, 35.0, 17.3, 94.0, 40.0, 60.0, 110.0, 47.0, 160.0, 50.4, 80.0, 130.0, 24.0, 48.0, 33.6, 140.0, 55.0, 45.0, 82.0, 26.0, 160.0, 120.0, 65.0, 48.0, 21.0, 9.0, 98.2, 140.0, 160.0, 18.9, 160.0, 19.0, 45.7, 180.0, 140.0, 25.8, 160.0, 13.0, 30.0, 86.0, 35.0, 77.5, 170.0, 75.0, 24.0, 110.0, 60.0, 45.0, 130.0, 88.0, 35.0, 50.0, 170.0, 34.0, 120.0, 72.0, 49.9, 100.0, 150.0, 29.2, 52.0, 45.0, 60.0, 180.0, 130.0, 59.0, 65.0, 26.9, 59.1, 32.5, 38.0, 160.0, 82.0, 85.5, 160.0, 65.0, 42.0, 48.1, 14.2, 97.0, 42.0, 56.0, 50.2, 28.0, 24.0, 90.8, 33.3, 22.0, 42.0, 46.0, 27.5, 25.0, 78.0, 20.0, 70.0, 60.0, 32.5, 37.3, 18.4, 46.5, 64.0, 78.1, 46.0, 45.0, 42.8, 32.9, 130.0, 48.7, 100.0, 68.0, 59.0, 58.5, 73.8, 110.0, 130.0, 40.0, 27.0, 55.0, 95.0, 55.4, 69.2, 17.0, 37.0, 36.0, 85.0, 32.0, 58.2, 28.0, 60.0, 36.4, 50.0, 42.0, 38.0, 42.0, 74.0, 36.0, 55.0, 90.0, 110.0, 100.0, 180.0, 160.0, 41.6, 34.7, 160.0, 61.3, 85.0, 43.0, 40.0, 170.0, 70.0, 60.0, 180.0, 14.0, 75.0, 75.0, 58.0, 47.3, 28.0, 57.9, 130.0, 110.0, 90.0, 80.0, 17.9, 100.0, 44.5, 42.0, 23.0, 85.0, 52.0, 55.0, 55.0, 140.0, 29.0, 70.0, 55.0, 120.0, 76.9, 23.5, 55.0, 100.0, 57.0, 76.0, 52.0, 60.0, 130.0, 45.0, 140.0, 75.0, 36.0, 40.0, 19.0, 12.5, 110.0, 56.1, 35.0, 85.0, 35.0, 26.0, 42.0, 170.0, 16.5, 48.0, 130.0, 33.2, 40.0, 70.0, 91.0, 120.0, 52.9, 50.0, 41.0, 95.0, 87.0, 50.0, 96.9, 7.5, 50.0, 19.0, 65.0, 31.8, 18.0, 190.0, 45.0, 150.0, 60.0, 24.0, 68.0, 12.2, 84.3, 49.5, 18.9, 85.0, 32.1, 55.0, 59.0, 32.0, 17.1, 100.0, 48.0, 70.0, 30.0, 71.0, 35.5, 33.5, 38.0, 50.7, 100.0, 64.4, 73.9, 97.6, 130.0, 64.0, 34.2, 23.8, 14.5, 44.8, 130.0, 160.0, 31.9, 45.0, 100.0, 54.0, 90.0, 25.0, 24.0, 110.0, 100.0, 57.9, 40.0, 120.0, 58.5, 22.0, 23.0, 46.0, 33.7, 45.0, 160.0, 16.6, 48.5, 130.0, 38.0, 93.0, 26.4, 55.2, 130.0, 42.0, 86.0, 16.5, 23.0, 27.9, 69.0, 51.0, 28.0, 49.0, 70.0, 60.0, 90.0, 14.0, 78.0, 86.0, 65.0, 21.0, 77.1, 56.0, 85.0, 32.5, 33.0, 27.0, 55.0, 52.0, 85.0, 63.0, 60.0, 24.2, 18.0, 95.0, 25.2, 40.6, 32.0, 41.0, 170.0, 110.0, 26.0, 150.0, 85.0, 31.0, 51.5, 16.8, 80.0, 43.0, 23.5, 60.0, 45.0, 22.0, 80.0, 47.0, 95.0, 39.5, 26.3, 28.5, 28.0, 33.7, 26.0, 54.5, 110.0, 120.0, 47.0, 53.0, 67.6, 140.0, 65.0, 80.0, 63.3, 94.0, 20.2, 31.0, 82.1, 63.2, 83.4, 50.0, 100.0, 53.0, 53.9, 70.0, 27.9, 55.0, 170.0, 47.3, 48.0, 120.0, 28.0, 75.0, 110.0, 110.0, 37.8, 42.5, 27.5, 110.0, 110.0, 40.0, 130.0, 26.0, 120.0, 60.0, 20.0, 110.0, 60.0, 170.0, 120.0, 80.0, 67.0, 120.0, 70.0, 85.0, 62.0, 33.5, 66.0, 43.0, 47.1, 24.0, 95.0, 90.0, 36.0, 70.0, 80.0, 22.1, 140.0, 120.0, 34.0, 86.0, 76.0, 13.0, 32.9, 82.0, 14.4, 100.0, 80.0, 110.0, 59.4, 62.0, 36.0, 110.0, 160.0, 38.0, 74.5, 70.0, 74.0, 86.0, 86.0, 52.0, 85.0, 33.0, 61.0, 110.0, 85.0, 40.0, 110.0, 10.5, 36.0, 39.7, 24.5, 27.0, 78.0, 110.0, 17.5, 70.9, 88.0, 100.0, 55.0, 130.0, 62.0, 57.0, 110.0, 90.0, 25.4, 42.0, 53.7, 140.0, 30.0, 150.0, 44.2, 65.0, 47.5, 30.0, 31.0, 62.0, 85.0, 14.0, 47.1, 95.0, 50.0, 21.6, 90.0, 45.0, 130.0, 91.0, 65.0, 62.5, 47.7, 180.0, 46.0, 25.0, 75.0, 45.0, 85.0, 49.0, 68.0, 50.5, 34.0, 26.3, 78.0, 130.0, 50.0, 45.0, 150.0, 95.0, 73.0, 40.0, 35.9, 39.9, 91.0, 49.8, 65.0, 42.0, 100.0, 22.5, 57.0, 31.0, 100.0, 45.0, 90.0, 92.0, 130.0, 120.0, 72.8, 48.5, 60.0, 35.0, 30.0, 68.0, 72.0, 60.0, 69.2, 32.1, 48.0, 27.0, 130.0, 48.0, 32.0, 58.0, 67.0, 110.0, 14.9, 120.0, 65.0, 22.0, 68.0, 95.0, 130.0, 56.5, 55.0, 65.0, 17.0, 78.0, 120.0, 42.0, 42.0, 35.0, 80.0, 48.1, 45.0, 60.0, 30.0, 32.0, 160.0, 170.0, 35.3, 190.0, 39.0, 8.0, 52.0, 90.0, 42.1, 130.0, 46.0, 60.3, 18.2, 7.0, 45.0, 37.6, 35.5, 70.0, 140.0, 51.2, 83.5, 23.0, 20.4, 55.0, 24.9, 78.1, 48.0, 130.0, 28.0, 100.0, 100.0, 40.8, 49.0, 41.0, 54.0, 72.0, 78.0, 63.9, 60.0, 41.4, 72.0, 130.0, 17.5, 56.0, 100.0, 72.0, 65.0, 66.0, 7.5, 130.0, 45.9, 82.0, 24.0, 65.0, 35.0, 28.0, 43.0, 29.0, 170.0, 40.0, 75.0, 160.0, 35.0, 31.9, 37.4, 100.0, 88.0, 96.0, 150.0, 140.0, 79.0, 73.0, 130.0, 40.0, 57.0, 41.0, 41.5, 32.0, 140.0, 26.0, 78.0, 18.9, 37.5, 95.0, 68.0, 90.0, 45.0, 21.5, 90.0, 33.3, 150.0, 62.0, 33.5, 76.0, 62.0, 37.0, 120.0, 48.5, 83.7, 56.8, 50.0, 23.4, 20.0, 61.2, 70.0, 67.0, 140.0, 31.0, 48.0, 41.0, 180.0, 80.0, 140.0, 21.0, 41.0, 44.0, 36.0, 28.0, 30.0, 67.0, 55.0, 37.2, 100.0, 32.0, 30.0, 89.1, 65.0, 48.0, 76.9, 55.0, 45.3, 72.5, 110.0, 50.0, 87.0, 51.0, 24.0, 110.0, 69.6, 81.3, 19.0, 65.0, 45.0, 32.0, 120.0, 69.0, 35.0, 4.5, 28.0, 30.0, 180.0, 70.0, 24.7, 34.0, 53.2, 69.7, 120.0, 100.0, 75.0, 32.0, 72.0, 80.0, 95.0, 57.0, 16.2, 16.0, 43.4, 65.0, 180.0, 180.0, 53.0, 65.0, 59.5, 64.5, 90.0, 87.0, 91.2, 63.9, 100.0, 52.0, 24.7, 57.0, 91.0, 160.0, 85.0, 35.0, 40.0, 32.0, 72.0, 31.9, 58.0, 41.0, 33.3, 110.0, 39.0, 18.0, 170.0, 50.0, 82.5, 100.0, 30.0, 130.0, 24.0, 110.0, 110.0, 45.0, 65.0, 56.0, 42.1, 85.0, 44.0, 180.0, 120.0, 39.4, 26.0, 33.0, 88.0, 78.0, 48.6, 110.0, 43.0, 72.0, 68.0, 20.9, 92.0, 65.0, 160.0, 60.0, 38.0, 110.0, 31.0, 26.5, 83.0, 35.0, 61.0, 30.0, 31.0, 55.0, 26.0, 34.0, 180.0, 150.0, 50.0, 160.0, 45.0, 180.0, 120.0, 48.4, 140.0, 80.0, 40.0, 70.0, 110.0, 35.5, 16.0, 120.0, 57.0, 69.6, 33.0, 74.0, 75.0, 140.0, 80.0, 29.0, 43.0, 71.0, 48.0, 50.0, 91.9, 140.0, 60.0, 62.0, 110.0, 8.0, 190.0, 110.0, 33.0, 41.9, 95.0, 80.7, 36.0, 46.5, 21.0, 85.5, 32.0, 140.0, 91.0, 96.0, 77.0, 110.0, 95.0, 40.0, 55.0, 150.0, 110.0, 69.0, 16.8, 55.0, 85.0, 45.0, 75.0, 60.0, 15.0, 38.0, 80.0, 180.0, 110.0, 28.0, 110.0, 110.0, 160.0, 88.0, 160.0, 140.0, 77.9, 42.0, 87.3, 48.0, 95.0, 160.0, 26.0, 95.0, 78.0, 47.5, 75.0, 21.0, 55.0, 85.0, 17.3, 58.4, 150.0, 15.9, 18.0, 110.0, 35.9, 120.0, 28.0, 170.0, 52.0, 52.0, 16.0, 75.0, 110.0, 31.0, 9.0, 41.9, 78.0, 40.1, 71.7, 120.0, 70.0, 78.0, 46.0, 160.0, 120.0, 170.0, 75.0, 8.7, 85.0, 69.0, 30.0, 70.0, 35.0, 45.0, 95.0, 19.0, 53.0, 47.2, 17.0, 86.0, 85.0, 35.0, 48.0, 75.0, 87.0, 85.0, 110.0, 90.9, 28.0, 75.0, 170.0, 35.0, 120.0, 150.0, 85.0, 55.0, 40.0, 35.0, 18.0, 37.8, 120.0, 120.0, 68.4, 40.4, 70.0, 180.0, 14.3, 64.6, 96.4, 28.7, 63.1, 30.0, 40.0, 23.0, 50.0, 30.0, 32.0, 42.0, 85.0, 42.0, 41.0, 170.0, 63.0, 55.0, 53.5, 67.6, 15.4, 83.0, 39.0, 21.0, 55.0, 45.8, 54.0, 93.0, 110.0, 17.5, 57.0, 30.0, 130.0, 53.0, 72.0, 13.5, 85.0, 39.0, 85.0, 32.0, 34.0, 72.0, 60.0, 150.0, 66.0, 140.0, 46.0, 25.0, 76.0, 68.0, 38.4, 89.1, 52.5, 31.9, 25.0, 78.0, 110.0, 40.0, 95.0, 120.0, 68.0, 75.0, 41.0, 19.0, 45.0, 130.0, 100.0, 180.0, 62.0, 21.5, 62.0, 110.0, 42.5, 140.0, 59.7, 100.0, 99.0, 55.0, 68.0, 86.0, 12.0, 40.0, 13.0, 75.0, 55.0, 60.0, 79.9, 43.2, 60.0, 110.0, 190.0, 60.0, 23.4, 75.0, 37.0, 40.0, 80.0, 95.5, 25.5, 56.0, 12.5, 32.0, 57.1, 70.0, 50.0, 62.0, 49.0, 66.0, 53.0, 110.0, 50.0, 50.0, 110.0, 83.8, 46.5, 28.0, 95.0, 55.0, 20.0, 99.0, 120.0, 17.3, 32.0, 120.0, 50.0, 150.0, 62.0, 20.0, 43.0, 46.8, 85.0, 81.0, 18.0, 32.2, 85.0, 19.0, 140.0, 130.0, 78.0, 24.0, 86.0, 35.0, 25.0, 100.0, 54.5, 13.5, 180.0, 50.0, 95.0, 60.0, 33.0, 25.0, 170.0, 36.0, 62.6, 30.9, 52.0, 49.0, 50.8, 100.0, 45.0, 14.5, 65.0, 40.0, 70.0, 18.5, 120.0, 37.0, 38.0, 52.0, 180.0, 20.0, 57.9, 73.0, 21.5, 45.0, 80.0, 100.0, 35.0, 68.0, 38.7, 33.9, 43.0, 150.0, 64.0, 40.0, 60.0, 69.3, 42.8, 25.0, 120.0, 70.0, 71.0, 38.5, 41.0, 50.0, 190.0, 31.5, 120.0, 60.0, 17.0, 25.0, 150.0, 89.5, 89.0, 180.0, 52.0, 42.3, 31.0, 55.9, 90.0, 120.0, 77.0, 21.5, 35.0, 39.5, 60.0, 85.0, 48.0, 56.0, 62.4, 54.0, 27.4, 140.0, 45.0, 74.0, 39.0, 60.0, 42.0, 81.2, 45.0, 75.0, 47.0, 72.0, 64.0, 16.0, 25.0, 90.0, 41.2, 32.0, 55.0, 14.0, 83.6, 160.0, 31.5, 120.0, 120.0, 39.0, 39.0, 65.0, 110.0, 4.9, 66.0, 90.0, 32.0, 34.0, 58.0, 160.0, 24.9, 110.0, 67.0, 37.0, 13.0, 19.8, 78.0, 18.0, 78.0, 60.0, 85.0, 23.5, 49.0, 29.0, 60.0, 42.0, 90.0, 37.0, 23.0, 53.0, 70.0, 90.0, 42.0, 59.0, 29.0, 85.0, 43.0, 43.7, 85.0, 36.0, 52.0, 45.0, 110.0, 93.7, 120.0, 60.0, 27.0, 45.5, 40.0, 16.0, 140.0, 48.0, 59.0, 45.0, 14.5, 50.0, 11.9, 95.0, 55.0, 57.0, 24.0, 120.0, 34.0, 53.5, 58.7, 25.5, 60.0, 71.5, 63.5, 36.0, 120.0, 58.7, 36.2, 100.0, 35.0, 120.0, 53.0, 51.0, 35.0, 57.0, 42.0, 140.0, 48.0, 18.5, 62.0, 150.0, 54.6, 21.0, 150.0, 76.9, 82.0, 24.0, 47.5, 150.0, 42.0, 140.0, 32.0, 55.0, 120.0, 150.0, 62.0, 75.0, 45.0, 70.6, 56.4, 40.5, 50.0, 54.0, 110.0, 21.2, 50.0, 100.0, 110.0, 26.0, 93.6, 89.0, 69.5, 78.0, 36.5, 46.0, 25.0, 120.0, 54.0, 38.0, 29.3, 60.0, 58.0, 41.0, 52.1, 78.0, 37.8, 67.9, 120.0, 170.0, 31.5, 60.0, 50.0, 130.0, 150.0, 35.6, 45.8, 22.5, 130.0, 75.0, 70.0, 28.0, 58.0, 68.4, 27.2, 30.0, 53.0, 30.0, 44.8, 100.0, 80.0, 27.0, 99.0, 52.6, 100.0, 66.0, 17.0, 130.0, 61.0, 30.0, 51.0, 100.0, 120.0, 62.0, 6.0, 160.0, 87.0, 22.0, 25.0, 65.0, 110.0, 130.0, 60.0, 130.0, 79.0, 76.0, 34.1, 170.0, 190.0, 30.0, 72.0, 24.5, 14.5, 34.0, 42.0, 110.0, 40.0, 120.0, 84.1, 42.0, 17.3, 38.8, 37.0, 54.2, 55.0, 190.0, 22.0, 54.8, 35.0, 100.0, 110.0, 42.1, 35.5, 75.0, 29.0, 23.4, 180.0, 82.0, 76.2, 150.0, 170.0, 130.0, 82.0, 100.0, 26.8, 36.0, 35.0, 48.0, 52.0, 23.0, 68.5, 36.0, 75.0, 18.0, 41.0, 65.0, 65.0, 75.0, 75.0, 15.0, 190.0, 25.0, 25.0, 130.0, 45.0, 31.0, 91.1, 80.0, 100.0, 21.5, 41.0, 34.9, 120.0, 100.0, 100.0, 110.0, 150.0, 43.9, 130.0, 32.5, 96.0, 46.3, 86.0, 50.0, 36.0, 100.0, 120.0, 80.0, 100.0, 28.0, 81.0, 45.0, 37.0, 150.0, 39.0, 77.5, 75.0, 36.0, 170.0, 36.0, 130.0, 38.0, 31.9, 30.0, 53.5, 180.0, 49.9, 55.0, 57.9, 77.0, 55.0, 30.0, 110.0, 55.0, 30.0, 120.0, 55.3, 65.0, 75.0, 120.0, 50.0, 39.0, 50.0, 150.0, 22.0, 72.2, 62.3, 150.0, 27.0, 30.0, 70.0, 17.5, 45.0, 180.0, 42.0, 68.0, 73.0, 43.5, 66.9, 85.0, 99.0, 46.5, 22.0, 94.0, 190.0, 170.0, 55.0, 73.0, 40.0, 110.0, 28.0, 80.0, 32.5, 53.0, 100.0, 160.0, 56.0, 77.0, 22.0, 85.0, 35.4, 25.0, 55.0, 17.0, 65.0, 90.0, 130.0, 140.0, 49.0, 24.7, 90.0, 120.0, 38.0, 25.8, 65.0, 100.0, 50.0, 44.0, 170.0, 57.3, 65.0, 120.0, 170.0, 28.0, 49.0, 40.0, 140.0, 190.0, 130.0, 28.5, 100.0, 65.0, 87.0, 110.0, 48.0, 38.9, 75.0, 40.0, 16.0, 81.0, 22.0, 30.0, 54.5, 100.0, 130.0, 62.9, 40.9, 76.9, 54.0, 38.0, 44.0, 35.0, 36.0, 46.0, 46.0, 98.9, 16.0, 40.0, 44.5, 160.0, 41.0, 43.0, 140.0, 31.0, 98.9, 59.0, 65.0, 36.0, 67.0, 45.0, 100.0, 30.0, 67.0, 24.4, 42.5, 45.0, 15.0, 100.0, 170.0, 32.0, 18.0, 69.3, 87.6, 45.0, 100.0, 72.0, 130.0, 29.0, 38.5, 72.5, 71.0, 30.0, 100.0, 45.5, 43.5, 120.0, 46.1, 65.0, 100.0, 150.0, 10.0, 80.0, 45.0, 120.0, 26.0, 100.0, 110.0, 90.0, 38.2, 37.0, 50.0, 80.0, 25.9, 15.0, 100.0, 24.5, 28.0, 22.9, 41.0, 45.0, 54.0, 72.8, 78.0, 52.0, 54.0, 26.0, 89.0, 130.0, 49.0, 140.0, 100.0, 39.2, 7.2, 35.5, 56.0, 81.9, 43.9, 89.0, 110.0, 160.0, 120.0, 32.8, 100.0, 27.0, 63.0, 55.0, 74.5, 55.0, 71.0, 120.0, 72.4, 90.0, 60.0, 40.0, 65.0, 110.0, 79.0, 80.5, 17.3, 180.0, 120.0, 30.0, 42.4, 16.9, 34.0, 16.0, 65.0, 30.0, 26.0, 60.0, 26.0, 55.0, 90.0, 26.9, 53.0, 7.5, 32.0, 110.0, 120.0, 69.0, 60.0, 130.0, 21.5, 35.0, 110.0, 27.3, 130.0, 85.0, 78.0, 47.0, 29.0, 31.0, 63.5, 50.9, 51.0, 33.0, 120.0, 55.0, 140.0, 34.0, 47.0, 75.0, 81.0, 79.5, 34.0, 81.0, 55.0, 130.0, 70.0, 18.0, 73.0, 95.8, 100.0, 52.0, 29.7, 80.0, 84.5, 27.0, 29.0, 13.2, 25.0, 70.0, 27.9, 35.0, 45.5, 79.0, 80.0, 90.0, 110.0, 62.0, 130.0, 77.9, 140.0, 17.6, 130.0, 75.0, 100.0, 36.0, 75.4, 110.0, 130.0, 62.0, 25.11, 85.0, 4.0, 30.0, 190.0, 140.0, 100.0, 73.5, 170.0, 29.0, 75.0, 55.0, 52.0, 85.0, 65.0, 15.4, 26.0, 130.0, 26.5, 72.5, 83.3, 31.0, 15.0, 85.5, 68.4, 100.0, 28.7, 14.0, 52.0, 26.0, 24.7, 190.0, 15.0, 43.0, 100.0, 24.0, 25.0, 75.0, 120.0, 31.9, 50.0, 43.3, 45.0, 83.0, 40.0, 50.0, 54.6, 65.8, 81.0, 28.5, 64.8, 49.0, 46.0, 85.0, 35.0, 61.0, 61.6, 38.8, 90.0, 95.0, 45.9, 73.0, 56.4, 140.0, 70.0, 72.5, 45.2, 190.0, 56.0, 36.0, 96.0, 130.0, 29.5, 25.0, 45.0, 59.0, 130.0, 40.0, 45.0, 21.5, 130.0, 76.0, 93.0, 68.8, 27.0, 150.0, 45.0, 38.0, 87.0, 34.2, 75.0, 89.0, 76.0, 70.0, 74.0, 19.0, 12.0, 45.0, 110.0, 60.0, 17.0, 25.0, 77.8, 150.0, 55.0, 79.0, 67.0, 30.0, 63.0, 25.0, 110.0, 83.0, 61.5, 66.0, 38.0, 110.0, 37.0, 34.0, 55.0, 75.0, 45.9, 64.0, 40.0, 18.0, 65.7, 45.0, 69.9, 70.0, 94.0, 43.0, 110.0, 26.0, 100.0, 47.2, 36.0, 170.0, 22.0, 35.0, 45.0, 62.0, 84.0, 85.0, 52.0, 70.1, 64.9, 43.0, 100.0, 40.0, 140.0, 38.5, 37.5, 73.9, 23.0, 65.0, 110.0, 100.0, 42.0, 55.0, 140.0, 68.0, 28.0, 22.0, 56.0, 31.0, 19.0, 170.0, 77.0, 75.0, 62.5, 85.1, 55.0, 110.0, 29.0, 77.4, 15.7, 48.0, 31.9, 22.0, 82.0, 75.0, 100.0, 68.0, 130.0, 86.0, 28.0, 52.1, 23.0, 26.5, 13.0, 20.0, 60.0, 35.0, 130.0, 75.6, 99.0, 25.0, 55.0, 92.2, 19.0, 45.0, 23.5, 50.5, 51.1, 170.0, 12.0, 75.0, 45.0, 97.0, 27.5, 17.5, 60.0, 53.0, 42.0, 100.0, 24.0, 100.0, 180.0, 34.0, 45.6, 160.0, 55.0, 26.5, 50.0, 100.0, 79.2, 33.1, 32.5, 80.0, 51.0, 71.0, 120.0, 40.0, 51.0, 85.0, 83.7, 46.7, 160.0, 55.0, 45.0, 45.0, 160.0, 67.0, 71.0, 110.0, 190.0, 22.0, 58.0, 30.0, 20.0, 27.2, 108.0, 62.0, 4.0, 5.0, 55.0, 52.0, 48.4, 36.0, 52.0, 30.0, 150.0, 130.0, 95.0, 54.2, 64.5, 180.0, 42.1, 51.5, 180.0, 17.0, 80.0, 65.2, 46.4, 180.0, 66.0, 64.0, 71.0, 76.0, 140.0, 47.5, 24.0, 40.0, 130.0, 68.0, 80.0, 110.0, 29.0, 14.8, 29.0, 48.1, 90.0, 45.0, 58.0, 85.0, 130.0, 49.0, 45.0, 34.7, 40.0, 56.0, 15.0, 110.0, 17.1, 52.0, 35.0, 110.0, 80.0, 90.0, 27.0, 39.7, 65.0, 52.9, 62.0, 67.0, 91.0, 30.0, 130.0, 23.0, 27.5, 82.0, 75.0, 33.0, 140.0, 27.0, 14.0, 190.0, 37.0, 110.0, 40.0, 40.3, 54.7, 34.0, 80.0, 180.0, 45.0, 62.0, 23.1, 75.0, 52.0, 65.0, 28.8, 80.0, 85.0, 130.0, 63.0, 160.0, 69.0, 120.0, 41.5, 76.0, 160.0, 17.5, 48.0, 54.0, 120.0, 67.5, 71.5, 90.0, 120.0, 42.9, 31.3, 65.0, 68.0, 48.0, 24.2, 78.2, 31.8, 60.0, 36.0, 40.0, 38.0, 51.0, 14.0, 53.0, 50.5, 29.4, 46.0, 49.0, 26.5, 45.0, 57.6, 62.8, 33.0, 80.0, 23.0, 81.0, 21.0, 110.0, 51.0, 46.0, 35.0, 45.0, 190.0, 44.2, 65.0, 59.6, 70.8, 26.6, 100.0, 57.3, 30.0, 51.0, 63.0, 33.0, 29.9, 70.6, 120.0, 55.0, 110.0, 55.0, 72.0, 85.0, 27.9, 72.0, 150.0, 30.5, 47.0, 80.9, 42.0, 130.0, 71.5, 35.5, 35.0, 40.0, 15.9, 32.0, 27.3, 33.0, 30.2, 65.0, 41.0, 80.0, 68.0, 99.8, 110.0, 41.0, 28.0, 110.0, 37.0, 59.9, 170.0, 27.0, 26.6, 95.0, 38.0, 180.0, 35.0, 75.0, 39.0, 18.0, 35.0, 45.0, 37.0, 84.0, 43.0, 27.0, 17.0, 22.0, 70.0, 82.0, 32.0, 65.0, 110.0, 110.0, 130.0, 49.5, 17.5, 52.0, 23.0, 47.9, 35.0, 84.0, 17.0, 55.0, 71.5, 75.0, 55.0, 30.0, 32.7, 87.0, 39.0, 42.0, 85.0, 72.0, 69.8, 26.0, 85.0, 47.5, 120.0, 57.0, 18.0, 69.0, 55.5, 50.0, 85.0, 120.0, 24.1, 120.0, 37.8, 78.3, 27.0, 34.0, 95.0, 160.0, 32.4, 46.5, 45.0, 66.5, 28.5, 170.0, 70.0, 140.0, 39.0, 110.0, 110.0, 38.9, 50.0, 85.0, 27.0, 58.0, 28.0, 93.5, 52.0, 150.0, 40.0, 78.5, 26.0, 33.5, 98.5, 88.9, 73.0, 38.0, 33.0, 140.0, 180.0, 65.0, 36.0, 120.0, 85.0, 23.8, 68.0, 67.0, 80.0, 35.5, 49.5, 48.0, 110.0, 86.0, 23.5, 90.0, 58.0, 50.0, 47.0, 45.0, 80.0, 35.0, 19.7, 53.0, 45.0, 140.0, 120.0, 87.0, 46.5, 78.0, 88.0, 35.0, 40.0, 120.0, 72.0, 52.12, 17.0, 65.0, 40.0, 29.5, 54.0, 50.0, 26.0, 45.0, 160.0, 92.0, 120.0, 150.0, 100.0, 32.0, 73.0, 120.0, 15.0, 27.0, 72.0, 72.0, 50.0, 75.0, 100.0, 27.0, 43.0, 13.9, 120.0, 55.0, 84.0, 66.0, 160.0, 72.0, 48.0, 50.0, 60.0, 84.0, 50.0, 110.0, 89.0, 97.0, 140.0, 31.0, 70.5, 37.0, 62.0, 32.3, 95.0, 70.0, 36.0, 190.0, 85.0, 50.0, 55.9, 28.9, 41.0, 61.4, 42.0, 30.0, 95.0, 42.0, 44.0, 50.0, 34.0, 26.0, 32.0, 23.0, 85.0, 45.0, 22.0, 36.0, 65.0, 78.0, 34.1, 70.0, 63.9, 37.0, 17.0, 98.0, 63.0, 40.0, 63.0, 65.0, 29.0, 38.0, 60.0, 35.0, 50.0, 57.0, 42.0, 160.0, 31.0, 26.0, 35.0, 60.0, 170.0, 55.0, 82.0, 46.0, 24.5, 70.0, 70.5, 32.0, 170.0, 64.0, 15.0, 13.5, 90.0, 39.0, 65.0, 55.0, 31.0, 65.0, 110.0, 99.0, 42.0, 76.0, 68.0, 46.0, 39.5, 180.0, 99.0, 22.7, 30.0, 75.0, 52.0, 180.0, 35.0, 62.0, 75.0, 130.0, 130.0, 61.0, 35.0, 18.2, 42.5, 110.0, 44.1, 75.0, 43.0, 49.9, 39.3, 36.5, 51.0, 70.0, 0.85, 37.8, 65.0, 26.4, 14.5, 47.0, 17.3, 38.0, 47.7, 10.5, 85.0, 29.0, 81.9, 57.0, 46.0, 78.0, 55.0, 65.0, 39.0, 30.0, 46.4, 51.0, 120.0, 35.0, 81.2, 120.0, 180.0, 79.0, 87.0, 40.5, 55.0, 65.0, 42.9, 62.0, 59.9, 82.0, 23.5, 74.0, 180.0, 42.0, 43.0, 100.0, 57.0, 35.0, 60.0, 190.0, 190.0, 68.0, 160.0, 88.0, 38.0, 36.0, 57.0, 50.0, 190.0, 64.0, 120.0, 39.6, 50.0, 42.0, 83.6, 46.0, 59.9, 110.0, 40.0, 170.0, 22.0, 170.0, 59.0, 39.0, 37.0, 65.0, 72.0, 62.5, 170.0, 13.0, 49.0, 50.0, 110.0, 27.0, 35.0, 45.0, 50.0, 44.8, 180.0, 73.0, 21.4, 100.0, 85.0, 78.0, 33.7, 17.3, 60.0, 60.0, 69.0, 47.0, 46.0, 85.0, 15.0, 45.0, 31.9, 38.5, 39.5, 53.9, 30.0, 59.0, 58.0, 100.0, 110.0, 59.2, 80.0, 38.0, 34.2, 64.1, 160.0, 59.0, 12.0, 110.0, 40.0, 30.0, 55.5, 140.0, 32.0, 120.0, 67.0, 15.0, 180.0, 110.0, 57.0, 150.0, 62.0, 36.0, 92.0, 20.0, 80.0, 170.0, 63.0, 55.0, 130.0, 94.0, 48.0, 55.0, 80.0, 72.0, 59.0, 52.0, 85.0, 52.0, 45.0, 55.0, 160.0, 53.0, 70.0, 32.0, 68.0, 49.5, 50.0, 42.6, 30.0, 27.0, 46.0, 23.0, 30.0, 160.0, 51.9, 91.0, 25.0, 98.0, 62.0, 25.9, 30.0, 87.2, 32.0, 36.0, 73.0, 120.0, 80.0, 22.9, 38.9, 120.0, 45.0, 76.8, 51.9, 130.0, 29.0, 50.0, 100.0, 65.5, 140.0, 140.0, 27.0, 170.0, 53.0, 13.0, 35.1, 110.0, 70.0, 51.0, 85.0, 20.0, 70.0, 130.0, 35.7, 120.0, 66.6, 27.0, 82.0, 170.0, 38.5, 130.0, 33.0, 110.0, 170.0, 69.0, 78.9, 45.0, 35.0, 100.0, 90.0, 42.0, 180.0, 29.0, 26.0, 20.0, 92.1, 85.0, 110.0, 40.0, 190.0, 38.0, 67.0, 70.0, 62.1, 75.0, 70.0, 160.0, 76.7, 49.0, 39.75, 35.0, 26.0, 120.0, 37.0, 79.9, 45.0, 36.0, 27.0, 25.0, 12.5, 9.0, 49.5, 110.0, 61.8, 25.6, 28.5, 63.0, 61.5, 98.0, 65.0, 70.4, 71.0, 170.0, 68.0, 35.0, 170.0, 26.0, 45.0, 62.0, 8.0, 39.0, 35.0, 98.0, 130.0, 85.7, 80.0, 92.5, 72.0, 160.0, 16.0, 180.0, 51.3, 36.0, 53.0, 48.0, 26.6, 42.0, 50.0, 190.0, 19.9, 17.0, 40.0, 51.5, 30.1, 45.0, 85.0, 100.0, 25.2, 32.0, 40.0, 52.0, 110.0, 52.8, 55.0, 100.0, 15.1, 68.0, 84.0, 50.0, 66.5, 50.0, 95.0, 82.0, 54.0, 85.0, 31.7, 52.0, 110.0, 100.0, 59.2, 25.0, 140.0, 120.0, 80.0, 43.0, 19.4, 14.0, 72.5, 170.0, 44.5, 90.0, 51.0, 40.0, 45.8, 60.0, 90.2, 41.2, 50.0, 45.5, 38.0, 140.0, 50.0, 44.5, 60.0, 170.0, 130.0, 49.0, 17.0, 120.0, 89.0, 80.0, 53.0, 26.0, 43.0, 50.8, 62.0, 180.0, 20.0, 60.0, 35.0, 140.0, 66.1, 58.8, 30.0, 110.0, 36.0, 34.0, 21.0, 60.0, 97.6, 30.0, 130.0, 70.0, 140.0, 180.0, 84.0, 30.2, 12.9, 81.8, 120.0, 140.0, 60.0, 89.0, 94.0, 35.0, 120.0, 35.0, 80.0, 160.0, 130.0, 48.0, 42.0, 24.0, 110.0, 48.0, 30.0, 160.0, 70.0, 42.0, 110.0, 31.4, 50.0, 26.3, 31.3, 45.0, 110.0, 67.0, 110.0, 82.0, 52.0, 45.0, 72.0, 51.0, 61.6, 160.0, 120.0, 100.0, 73.0, 35.0, 40.6, 19.6, 150.0, 43.0, 32.6, 88.0, 43.0, 110.0, 160.0, 190.0, 29.9, 45.0, 110.0, 35.0, 80.0, 33.7, 45.0, 60.0, 42.0, 77.9, 54.8, 52.0, 98.9, 130.0, 87.1, 100.0, 23.0, 35.0, 95.0, 50.4, 39.0, 170.0, 130.0, 72.6, 45.5, 11.0, 90.0, 15.0, 15.5, 25.0, 20.0, 20.6, 34.0, 60.6, 61.7, 85.0, 120.0, 48.0, 32.0, 85.0, 25.0, 49.0, 130.0, 55.0, 30.0, 35.0, 28.0, 16.5, 41.0, 35.9, 46.6, 27.0, 60.4, 48.0, 45.0, 140.0, 150.0, 78.0, 97.0, 15.0, 110.0, 160.0, 99.0, 95.0, 55.0, 58.0, 58.5, 27.0, 28.0, 29.0, 19.5, 150.0, 20.4, 57.0, 130.0, 77.5, 190.0, 80.0, 180.0, 57.0, 120.0, 180.0, 37.5, 50.0, 18.1, 80.0, 17.0, 35.0, 26.0, 65.0, 60.0, 130.0, 66.9, 65.0, 32.0, 39.0, 45.5, 38.0, 46.6, 70.0, 52.0, 85.0, 32.0, 31.2, 36.0, 130.0, 38.0, 44.0, 66.0, 25.8, 46.0, 43.0, 60.0, 35.0, 32.0, 110.0, 56.0, 64.7, 28.0, 60.0, 65.0, 90.0, 42.0, 50.0, 30.0, 65.0, 62.5, 45.0, 77.5, 45.0, 46.0, 82.0, 70.0, 42.0, 140.0, 82.8, 68.7, 46.0, 13.0, 81.0, 61.0, 160.0, 120.0, 82.0, 30.0, 46.0, 33.0, 100.0, 53.0, 54.0, 130.0, 9.0, 98.0, 52.0, 14.0, 26.9, 28.0, 85.0, 30.0, 36.0, 95.0, 56.9, 100.0, 52.4, 16.0, 32.5, 160.0, 29.0, 86.0, 49.0, 31.5, 34.9, 59.0, 76.0, 62.0, 120.0, 46.0, 22.0, 63.0, 42.0, 140.0, 15.0, 120.0, 180.0, 25.3, 30.0, 65.0, 60.0, 25.5, 110.0, 65.0, 100.0, 71.0, 31.0, 36.0, 33.0, 84.0, 23.0, 44.5, 60.9, 90.0, 27.0, 65.0, 33.0, 19.0, 54.0, 27.5, 43.3, 47.0, 42.0, 20.0, 110.0, 53.0, 31.0, 95.0, 48.0, 28.0, 29.0, 180.0, 48.0, 90.0, 16.0, 47.5, 33.0, 65.0, 59.0, 51.1, 20.0, 86.0, 68.2, 190.0, 89.0, 53.5, 100.0, 57.0, 35.0, 65.0, 24.9, 50.0, 88.0, 95.0, 150.0, 60.0, 55.0, 120.0, 55.0, 85.0, 170.0, 36.0, 25.0, 81.7, 100.0, 45.0, 85.0, 140.0, 40.0, 83.5, 43.0, 130.0, 43.0, 170.0, 42.0, 60.0, 16.0, 26.0, 140.0, 160.0, 26.8, 26.0, 32.0, 84.0, 30.0, 46.0, 23.0, 95.0, 12.0, 75.0, 80.0, 96.0, 24.5, 58.0, 42.0, 19.0, 170.0, 32.5, 25.0, 110.0, 12.5, 85.0, 13.0, 180.0, 40.0, 25.0, 47.0, 29.3, 130.0, 35.0, 75.0, 45.1, 8.2, 96.0, 120.0, 94.0, 52.0, 25.5, 120.0, 20.0, 24.5, 50.0, 91.1, 160.0, 80.0, 22.0, 42.0, 100.0, 23.0, 22.0, 75.0, 32.6, 64.0, 80.0, 100.0, 76.9, 150.0, 65.0, 63.0, 180.0, 11.1, 190.0, 82.0, 68.2, 130.0, 89.2, 85.0, 54.0, 60.0, 50.0, 19.0, 170.0, 25.0, 86.0, 61.0, 92.0, 12.0, 17.0, 65.0, 52.0, 42.0, 160.0, 13.0, 58.0, 190.0, 32.0, 110.0, 75.0, 65.0, 51.5, 16.5, 9.0, 70.0, 120.0, 190.0, 55.4, 100.0, 50.66, 150.0, 80.0, 80.0, 110.0, 120.0, 110.0, 91.2, 21.0, 18.0, 100.0, 120.0, 30.0, 92.0, 81.0, 25.0, 50.0, 91.0, 40.0, 79.0, 110.0, 120.0, 55.0, 22.0, 130.0, 80.0, 55.0, 55.0, 80.0, 44.2, 70.0, 29.5, 14.0, 52.0, 95.5, 32.0, 130.0, 72.0, 160.0, 90.0, 35.0, 65.0, 45.7, 50.0, 180.0, 28.0, 140.0, 70.0, 95.0, 48.0, 45.0, 47.0, 75.0, 170.0, 54.5, 48.0, 73.0, 35.0, 25.0, 31.5, 56.5, 50.0, 26.0, 13.0, 160.0, 50.0, 25.5, 31.5, 45.0, 50.0, 79.7, 44.8, 46.2, 40.0, 76.0, 78.0, 28.6, 40.0, 35.0, 35.0, 28.5, 42.8, 65.0, 40.0, 57.0, 110.0, 17.0, 100.0, 43.0, 27.0, 90.0, 92.0, 33.0, 52.8, 70.5, 36.0, 28.0, 32.5, 54.0, 71.0, 69.0, 45.4, 160.0, 160.0, 180.0, 170.0, 54.0, 57.0, 31.0, 70.0, 41.1, 31.0, 83.5, 130.0, 60.0, 85.0, 20.0, 45.0, 47.0, 24.5, 21.0, 100.0, 23.0, 56.0, 71.0, 28.5, 42.0, 20.1, 68.0, 26.5, 41.5, 25.0, 87.0, 65.0, 40.0, 38.79, 24.0, 140.0, 150.0, 73.0, 150.0, 62.1, 42.0, 18.9, 100.0, 72.0, 16.0, 110.0, 58.6, 19.0, 110.0, 32.0, 140.0, 120.0, 57.0, 87.0, 65.0, 55.0, 66.0, 100.0, 10.5, 25.8, 48.0, 34.0, 73.0, 120.0, 16.5, 47.0, 140.0, 40.0, 69.5, 160.0, 55.0, 25.0, 18.0, 140.0, 85.0, 22.0, 99.0, 35.0, 78.0, 35.0, 150.0, 110.0, 22.0, 36.0, 100.0, 28.0, 60.0, 46.0, 36.5, 34.5, 170.0, 100.0, 33.0, 62.0, 55.0, 110.0, 52.0, 33.0, 80.0, 74.0, 55.0, 48.0, 15.5, 17.0, 94.0, 47.0, 33.5, 42.9, 29.0, 50.9, 170.0, 150.0, 100.0, 13.0, 110.0, 77.0, 39.0, 45.0, 28.0, 100.0, 26.0, 77.0, 140.0, 26.0, 45.0, 98.0, 30.0, 55.0, 32.0, 50.1, 24.0, 54.3, 11.0, 14.0, 25.0, 85.0, 60.0, 12.0, 100.0, 21.0, 34.0, 40.0, 35.0, 30.0, 75.0, 120.0, 16.7, 60.0, 88.0, 160.0, 55.0, 85.0, 53.0, 40.0, 25.0, 70.0, 40.0, 32.0, 25.0, 90.0, 36.7, 92.0, 60.0, 94.6, 85.0, 44.0, 21.0, 45.0, 75.0, 45.9, 29.0, 93.2, 30.9, 45.0, 95.0, 77.6, 68.0, 100.0, 130.0, 32.0, 62.9, 35.9, 80.0, 39.9, 120.0, 60.0, 34.0, 17.0, 75.0, 170.0, 100.0, 24.5, 100.0, 16.0, 75.0, 130.0, 120.0, 69.3, 30.0, 50.0, 30.0, 180.0, 22.0, 34.8, 27.0, 90.0, 25.0, 170.0, 69.7, 54.0, 78.5, 27.0, 190.0, 42.6, 190.0, 64.0, 160.0, 52.5, 50.0, 60.0, 47.0, 63.0, 17.9, 190.0, 84.0, 45.0, 77.0, 32.0, 54.0, 87.0, 46.0, 130.0, 31.0, 52.0, 73.5, 25.5, 75.0, 45.0, 61.2, 35.0, 76.8, 66.5, 11.5, 190.0, 42.5, 180.0, 46.0, 35.0, 110.0, 40.5, 100.0, 79.6, 39.0, 50.0, 190.0, 65.0, 84.0, 80.0, 47.0, 170.0, 120.0, 43.0, 56.0, 45.0, 90.0, 67.0, 70.0, 40.0, 190.0, 80.0, 56.0, 44.9, 28.0, 130.0, 28.0, 79.0, 100.0, 44.5, 90.0, 20.0, 13.0, 35.0, 60.0, 42.0, 180.0, 130.0, 38.0, 75.0, 100.0, 95.0, 65.0, 60.0, 140.0, 45.0, 21.5, 30.0, 59.2, 75.0, 38.0, 90.0, 150.0, 140.0, 35.0, 65.0, 95.0, 45.0, 110.0, 91.0, 70.0, 43.3, 85.0, 74.0, 22.0, 12.0, 87.8, 23.0, 86.0, 160.0, 32.0, 100.0, 31.0, 38.0, 58.0, 120.0, 72.0, 30.0, 37.5, 55.0, 69.0, 120.0, 130.0, 76.0, 90.0, 110.0, 32.0, 190.0, 52.0, 35.0, 90.0, 28.0, 160.0, 38.5, 58.0, 65.0, 52.0, 55.0, 58.5, 51.0, 19.8, 39.0, 50.0, 65.4, 53.5, 99.0, 160.0, 20.0, 25.0, 150.0, 140.0, 58.0, 99.0, 31.0, 79.5, 140.0, 47.0, 86.8, 100.0, 120.0, 70.0, 82.0, 65.0, 50.0, 34.0, 33.7, 30.6, 45.0, 120.0, 95.0, 160.0, 160.0, 18.2, 23.5, 70.0, 76.0, 73.5, 42.0, 150.0, 27.0, 180.0, 52.0, 50.0, 130.0, 43.0, 64.0, 93.0, 33.0, 31.5, 72.0, 87.0, 28.0, 25.0, 42.0, 18.0, 160.0, 21.0, 84.2, 120.0, 44.7, 14.0, 35.0, 50.0, 60.0, 22.0, 120.0, 25.0, 150.0, 24.0, 64.5, 27.3, 68.0, 42.0, 45.0, 25.9, 80.0, 66.0, 55.0, 31.0, 110.0, 64.0, 20.5, 170.0, 110.0, 30.0, 43.7, 93.8, 55.0, 40.0, 85.0, 47.0, 96.0, 46.5, 180.0, 66.0, 9.5, 65.0, 22.0, 65.0, 66.0, 61.8, 74.0, 85.0, 35.0, 120.0, 33.0, 76.9, 160.0, 120.0, 60.0, 35.0, 70.0, 65.0, 50.4, 42.0, 63.5, 90.0, 34.0, 80.0, 24.9, 90.0, 40.0, 75.0, 50.0, 190.0, 81.0, 34.9, 150.0, 14.0, 70.0, 20.0, 40.0, 110.0, 69.0, 21.9, 100.0, 71.9, 75.0, 39.7, 140.0, 50.0, 36.0, 150.0, 19.2, 42.0, 33.0, 180.0, 110.0, 33.0, 160.0, 100.0, 21.0, 75.0, 52.0, 72.0, 65.0, 58.0, 76.5, 14.0, 33.5, 37.0, 29.9, 54.5, 170.0, 59.5, 30.3, 35.0, 72.0, 68.0, 58.0, 23.0, 87.0, 70.0, 130.0, 50.0, 53.0, 100.0, 74.0, 38.0, 44.1, 130.0, 65.0, 28.0, 24.0, 50.0, 44.0, 22.5, 40.0, 22.0, 42.0, 30.4, 23.0, 110.0, 32.0, 23.0, 98.0, 44.0, 33.0, 48.0, 99.0, 76.0, 22.0, 150.0, 47.8, 85.0, 34.4, 65.0, 87.4, 55.0, 120.0, 52.0, 49.0, 69.5, 33.0, 33.3, 54.7, 62.0, 33.0, 64.0, 45.0, 85.0, 42.5, 88.0, 82.4, 95.0, 60.0, 28.5, 46.7, 27.0, 87.0, 45.0, 120.0, 37.2, 100.0, 100.0, 85.0, 99.0, 52.0, 45.0, 40.0, 120.0, 85.0, 98.0, 28.0, 78.0, 77.0, 55.0, 25.0, 120.0, 35.0, 43.0, 55.0, 36.5, 30.0, 45.0, 190.0, 48.0, 26.0, 49.5, 49.5, 32.0, 45.0, 190.0, 140.0, 26.0, 45.0, 90.0, 35.2, 34.0, 90.0, 27.0, 18.0, 160.0, 22.0, 31.0, 38.7, 27.9, 15.0, 24.7, 90.0, 41.0, 150.0, 54.0, 75.0, 61.0, 65.4, 80.0, 130.0, 57.8, 130.0, 100.0, 68.0, 90.0, 160.0, 49.0, 27.0, 25.0, 39.8, 43.0, 75.0, 110.0, 120.0, 80.0, 30.0, 27.4, 190.0, 25.0, 100.0, 46.5, 69.0, 45.0, 30.0, 37.3, 48.0, 39.0, 55.5, 26.0, 85.0, 75.0, 110.0, 75.0, 180.0, 70.0, 57.2, 96.9, 59.0, 42.0, 100.0, 120.0, 75.0, 58.0, 40.0, 60.0, 29.0, 100.0, 130.0, 32.0, 56.0, 110.0, 65.0, 52.0, 60.0, 39.0, 60.0, 32.5, 45.0, 35.0, 44.0, 70.0, 85.0, 120.0, 32.0, 87.0, 74.0, 95.0, 50.0, 110.0, 60.0, 160.0, 80.0, 40.0, 38.0, 12.0, 59.6, 36.0, 150.0, 110.0, 25.0, 35.7, 90.0, 160.0, 130.0, 62.8, 43.4, 45.0, 46.0, 80.0, 20.0, 130.0, 48.0, 10.0, 91.0, 44.0, 46.9, 65.0, 33.5, 32.0, 150.0, 100.0, 40.0, 77.0, 73.0, 46.7, 65.4, 93.0, 32.0, 29.2, 96.0, 57.5, 95.0, 160.0, 100.0, 99.0, 75.0, 25.0, 70.0, 35.0, 50.0, 25.2, 27.0, 22.0, 70.0, 16.5, 100.0, 63.2, 120.0, 63.0, 50.0, 48.0, 46.5, 120.0, 18.0, 14.5, 34.2, 53.0, 25.2, 80.0, 87.0, 30.0, 62.0, 87.4, 100.0, 44.0, 64.8, 18.0, 100.0, 75.0, 49.0, 51.0, 35.0, 67.2, 61.4, 58.0, 52.0, 24.0, 80.0, 32.1, 140.0, 70.0, 170.0, 160.0, 180.0, 100.0, 36.0, 40.0, 40.0, 53.0, 95.0, 46.0, 120.0, 160.0, 110.0, 73.0, 72.0, 24.0, 110.0, 27.0, 110.0, 130.0, 48.0, 100.0, 80.0, 63.0, 79.9, 92.0, 24.5, 76.0, 100.0, 130.0, 77.0, 54.0, 55.2, 60.9, 32.0, 150.0, 73.6, 24.5, 120.0, 37.5, 120.0, 80.0, 55.0, 35.0, 69.0, 190.0, 27.0, 45.0, 150.0, 110.0, 45.0, 120.0, 40.0, 40.0, 120.0, 110.0, 58.7, 18.7, 53.0, 40.0, 120.0, 37.5, 11.6, 19.5, 21.5, 42.0, 100.0, 18.1, 60.0, 38.5, 24.4, 39.9, 24.0, 22.0, 150.0, 44.8, 87.0, 65.0, 36.0, 140.0, 43.7, 31.2, 34.5, 13.0, 82.0, 59.0, 120.0, 120.0, 29.0, 23.0, 26.0, 60.0, 34.7, 70.0, 52.0, 43.1, 81.0, 150.0, 130.0, 63.0, 68.0, 82.0, 180.0, 77.0, 25.0, 75.0, 24.9, 18.5, 100.0, 160.0, 22.5, 30.4, 40.0, 80.0, 25.5, 24.5, 15.6, 58.1, 95.0, 55.0, 40.0, 22.9, 16.0, 24.9, 140.0, 92.0, 47.5, 11.0, 45.0, 59.9, 90.0, 25.9, 31.0, 80.0, 100.0, 23.0, 31.8, 21.8, 27.0, 59.6, 110.0, 31.0, 30.4, 42.0, 26.6, 70.0, 49.5, 45.0, 34.0, 170.0, 52.3, 53.0, 19.4, 58.2, 110.0, 50.0, 35.0, 29.0, 130.0, 27.0, 71.5, 29.5, 68.0, 43.0, 22.7, 79.0, 80.0, 82.0, 190.0, 35.0, 95.0, 140.0, 13.9, 48.0, 31.2, 110.0, 55.0, 71.0, 170.0, 120.0, 78.5, 42.0, 48.0, 38.0, 61.0, 92.0, 22.0, 140.0, 70.0, 22.0, 95.0, 67.1, 45.0, 42.2, 16.0, 20.0, 110.0, 33.0, 45.0, 85.0, 150.0, 19.0, 26.0, 26.7, 35.0, 80.0, 170.0, 14.0, 46.6, 40.0, 62.0, 90.0, 46.0, 81.0, 50.0, 92.0, 160.0, 75.1, 37.0, 80.2, 31.0, 120.0, 69.0, 160.0, 55.0, 120.0, 32.8, 190.0, 73.0, 26.1, 36.0, 29.5, 34.9, 65.0, 26.5, 86.0, 85.0, 55.0, 54.0, 26.0, 110.0, 36.5, 17.1, 20.0, 40.0, 38.0, 95.0, 65.0, 83.9, 120.0, 54.0, 150.0, 36.2, 37.0, 52.0, 35.0, 70.0, 190.0, 38.0, 17.5, 16.2, 35.0, 85.0, 42.0, 30.0, 75.0, 25.9, 45.5, 72.0, 55.0, 45.0, 51.0, 130.0, 75.0, 24.0, 130.0, 24.0, 28.1, 66.0, 24.0, 87.3, 38.9, 68.0, 21.0, 41.6, 42.0, 130.0, 24.0, 58.0, 25.0, 150.0, 35.0, 100.0, 20.0, 100.0, 29.3, 65.0, 46.0, 79.3, 24.1, 100.0, 80.0, 53.0, 40.0, 92.0, 42.7, 110.0, 16.0, 55.0, 20.5, 130.0, 27.0, 22.0, 110.0, 38.0, 49.1, 37.5, 120.0, 44.9, 29.0, 57.0, 23.5, 190.0, 120.0, 180.0, 85.0, 100.0, 40.9, 22.8, 150.0, 41.9, 45.0, 97.0, 85.0, 45.0, 68.0, 25.0, 40.0, 30.0, 58.0]\n"
     ]
    }
   ],
   "source": [
    "X_test=strat_test_set.drop(\"TARGET(PRICE_IN_LACS)\",axis=1)\n",
    "Y_test=strat_test_set[\"TARGET(PRICE_IN_LACS)\"].copy()\n",
    "X_test_prepared=my_pipeline.transform(X_test)\n",
    "final_prediction=model.predict(X_test_prepared)\n",
    "final_mse=mean_squared_error(Y_test,final_prediction)\n",
    "final_rmse=np.sqrt(final_mse)\n",
    "print(final_prediction,list(Y_test))"
   ]
  },
  {
   "cell_type": "code",
   "execution_count": 135,
   "metadata": {},
   "outputs": [
    {
     "data": {
      "text/plain": [
       "25.35352113879704"
      ]
     },
     "execution_count": 135,
     "metadata": {},
     "output_type": "execute_result"
    }
   ],
   "source": [
    "final_rmse"
   ]
  },
  {
   "cell_type": "code",
   "execution_count": 136,
   "metadata": {},
   "outputs": [
    {
     "data": {
      "text/plain": [
       "array([-0.66480119, -1.70676813, -1.43494573,  0.37673988])"
      ]
     },
     "execution_count": 136,
     "metadata": {},
     "output_type": "execute_result"
    }
   ],
   "source": [
    "prepared_data[0]"
   ]
  },
  {
   "cell_type": "code",
   "execution_count": 137,
   "metadata": {},
   "outputs": [],
   "source": [
    "#from joblib import dump,load\n",
    "#import numpy as np\n",
    "#model=load('HousePricePridiction.joblib')\n",
    "#input=np.array([[-0.6530879 , -0.46803365, -0.68300252,  0.65289198, -0.02686704,\n",
    "     #  -0.01066568,  0.46803365,  0.27446248, -1.48593816, -1.35187528,\n",
    "     #   0.07956222]])\n",
    "#model.predict(input)"
   ]
  }
 ],
 "metadata": {
  "interpreter": {
   "hash": "570feb405e2e27c949193ac68f46852414290d515b0ba6e5d90d076ed2284471"
  },
  "kernelspec": {
   "display_name": "Python 3.8.10 64-bit",
   "language": "python",
   "name": "python3"
  },
  "language_info": {
   "codemirror_mode": {
    "name": "ipython",
    "version": 3
   },
   "file_extension": ".py",
   "mimetype": "text/x-python",
   "name": "python",
   "nbconvert_exporter": "python",
   "pygments_lexer": "ipython3",
   "version": "3.8.10"
  },
  "orig_nbformat": 4
 },
 "nbformat": 4,
 "nbformat_minor": 2
}
